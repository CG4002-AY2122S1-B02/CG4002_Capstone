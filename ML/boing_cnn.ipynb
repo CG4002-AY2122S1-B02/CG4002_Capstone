{
 "cells": [
  {
   "cell_type": "markdown",
   "id": "c8907769-e577-44ba-b40d-90e29a873754",
   "metadata": {},
   "source": [
    "# CNN Implementation #"
   ]
  },
  {
   "cell_type": "code",
   "execution_count": 1,
   "id": "c50f5309-a696-4474-b03f-e5b639937764",
   "metadata": {
    "colab": {
     "base_uri": "https://localhost:8080/"
    },
    "id": "uklW6YXii4Y_",
    "outputId": "03799db8-6801-439d-96d4-4ead06220df8"
   },
   "outputs": [],
   "source": [
    "# pip install tensorflow-addons"
   ]
  },
  {
   "cell_type": "code",
   "execution_count": 2,
   "id": "ff6ef680-442c-4733-bf5b-09d3ca331f6f",
   "metadata": {
    "id": "48528bad-63dc-4b8e-bbff-48714407e946"
   },
   "outputs": [],
   "source": [
    "import os\n",
    "\n",
    "import numpy as np\n",
    "import pandas as pd\n",
    "from glob import glob\n",
    "import matplotlib.pyplot as plt\n",
    "import tensorflow as tf\n",
    "import tensorflow_addons as tfa\n",
    "from tensorflow.keras import layers\n",
    "from tqdm.notebook import tqdm\n",
    "from sklearn.svm import SVC\n",
    "from sklearn.svm import LinearSVC\n",
    "from sklearn.model_selection import GridSearchCV\n",
    "from sklearn.model_selection import cross_validate\n",
    "from sklearn.model_selection import train_test_split\n",
    "from sklearn.model_selection import KFold\n",
    "from sklearn.metrics import f1_score\n",
    "from sklearn.metrics import accuracy_score"
   ]
  },
  {
   "cell_type": "markdown",
   "id": "6caf79a9-3bf9-43b6-81fc-745dcc1bc4a8",
   "metadata": {
    "id": "e47ef09e-3862-40e8-a1c1-144ff6ff4b5b"
   },
   "source": [
    "# Load Dateset #"
   ]
  },
  {
   "cell_type": "code",
   "execution_count": 3,
   "id": "8f29c393-7ecc-4e7d-9a3c-a7dcfdf1dba9",
   "metadata": {
    "colab": {
     "base_uri": "https://localhost:8080/"
    },
    "id": "SVZcOGg14eba",
    "outputId": "c5120cad-cffe-49f2-b6af-d8dce43be321"
   },
   "outputs": [],
   "source": [
    "# from google.colab import drive\n",
    "# drive.mount('/content/drive')"
   ]
  },
  {
   "cell_type": "code",
   "execution_count": 4,
   "id": "028ef518-a0ff-4293-bcf2-345e06727225",
   "metadata": {
    "colab": {
     "base_uri": "https://localhost:8080/"
    },
    "id": "321b0b55-12fe-4b2e-8f72-39169c854e6e",
    "outputId": "2b5fed55-973e-4dc8-97f8-d4f1c8a4cbfc"
   },
   "outputs": [
    {
     "name": "stdout",
     "output_type": "stream",
     "text": [
      "['dws_11', 'ups_12', '.DS_Store', 'wlk_7', 'std_14', 'wlk_15', 'wlk_8', 'dws_2', 'sit_13', 'jog_9', 'ups_3', 'ups_4', 'jog_16', 'dws_1', 'sit_5', 'std_6']\n"
     ]
    }
   ],
   "source": [
    "#data_path = '/content/drive/MyDrive/motionsense_dataset'\n",
    "data_path = os.path.join(os.getcwd(), 'data')\n",
    "print(os.listdir(data_path))"
   ]
  },
  {
   "cell_type": "code",
   "execution_count": 5,
   "id": "73fc057d-2d45-4c9c-a75d-2e92db4e51f2",
   "metadata": {
    "colab": {
     "base_uri": "https://localhost:8080/"
    },
    "id": "6ULrw4SOcmGq",
    "outputId": "e9b9b20f-867d-4b4f-891f-d9aa31238889"
   },
   "outputs": [
    {
     "name": "stdout",
     "output_type": "stream",
     "text": [
      "['/Users/apple/Desktop/CG4002_Capstone/ML/data/dws_11', '/Users/apple/Desktop/CG4002_Capstone/ML/data/ups_12', '/Users/apple/Desktop/CG4002_Capstone/ML/data/wlk_7', '/Users/apple/Desktop/CG4002_Capstone/ML/data/std_14', '/Users/apple/Desktop/CG4002_Capstone/ML/data/wlk_15', '/Users/apple/Desktop/CG4002_Capstone/ML/data/wlk_8', '/Users/apple/Desktop/CG4002_Capstone/ML/data/dws_2', '/Users/apple/Desktop/CG4002_Capstone/ML/data/sit_13', '/Users/apple/Desktop/CG4002_Capstone/ML/data/jog_9', '/Users/apple/Desktop/CG4002_Capstone/ML/data/ups_3', '/Users/apple/Desktop/CG4002_Capstone/ML/data/ups_4', '/Users/apple/Desktop/CG4002_Capstone/ML/data/jog_16', '/Users/apple/Desktop/CG4002_Capstone/ML/data/dws_1', '/Users/apple/Desktop/CG4002_Capstone/ML/data/sit_5', '/Users/apple/Desktop/CG4002_Capstone/ML/data/std_6']\n"
     ]
    }
   ],
   "source": [
    "folders = glob(os.path.join(data_path,'*_*'))\n",
    "folders = [s for s in folders if (\"csv\" not in s) or (\".DS_Store\" not in s) or (\".ipynb\" not in s)]\n",
    "df_all_list = []\n",
    "activity_codes = {'dws':0,'jog':1,'sit':2,'std':3,'ups':4,'wlk':5}\n",
    "activity_decodes = {0:'dws',1:'jog',2:'sit',3:'std',4:'ups',5:'wlk'}\n",
    "activity_types = list(activity_codes.keys())\n",
    "print(folders)"
   ]
  },
  {
   "cell_type": "markdown",
   "id": "4a0482e6-ad35-49f2-8d6b-17421ad06efe",
   "metadata": {
    "id": "22985873-1a02-43c4-a7bc-02249605dc7c"
   },
   "source": [
    "# CNN/MLP: Feature extraction, Train and Test ##\n",
    "\n",
    "There are 24 data objects (people) performing motions. 6 different labels, each has different trials depending on time interval. \n",
    "We should get 24 * 15 = 360 such samples.\n",
    "\n",
    "\n",
    "Long trials: those with number 1 to 9 with around 2 to 3 minutes duration.\n",
    "Short trials: those with number 11 to 16 that are around 30 seconds to 1 minutes duration.\n",
    "\n",
    "Sample rate is 50 Hz, this means a 2s window should have 100 samples?"
   ]
  },
  {
   "cell_type": "code",
   "execution_count": 6,
   "id": "01bf53ba-2a30-4625-bad6-1023ac6175dd",
   "metadata": {
    "colab": {
     "base_uri": "https://localhost:8080/"
    },
    "id": "8d130d9d-b0c6-4440-9fad-f5891084c703",
    "outputId": "9507c3d6-df78-4ced-ed5d-f9b0b8a0bf1c"
   },
   "outputs": [
    {
     "name": "stdout",
     "output_type": "stream",
     "text": [
      "(5102, 500, 6)\n",
      "(5102,)\n"
     ]
    }
   ],
   "source": [
    "# window size is 10 s, sample rate 50 Hz\n",
    "# Sliding window, without Feature extraction nor low pass filter, for CNN only (dirrectly fits data in CNN)\n",
    "window = 500\n",
    "data_all_x_list = []\n",
    "data_all_y_list = []\n",
    "for j in folders:\n",
    "    csv_list = glob(j + '/*')\n",
    "    label = j.split('/')[-1].split('_')[0]\n",
    "    # trial_number = int(j.split('/')[-1].split('_')[1])\n",
    "    # print(label, trial_number)\n",
    "    for i in csv_list:\n",
    "        df = pd.read_csv(i, usecols = ['attitude.roll', 'attitude.pitch', 'attitude.yaw','userAcceleration.x','userAcceleration.y','userAcceleration.z'])\n",
    "        win_count = int(df.shape[0] / (window / 2)) - 1\n",
    "        data_x = np.zeros((win_count, window, df.shape[1]))\n",
    "        data_y = np.zeros(win_count)\n",
    "\n",
    "        length = len(df)\n",
    "        for c in range(win_count):\n",
    "            start_idx = int(c * (window / 2))\n",
    "            end_idx = start_idx + window\n",
    "            data_x[c,:,:] = df[start_idx:end_idx].values\n",
    "            data_y[:] = activity_codes[label]\n",
    "#         print(data_x.shape)\n",
    "#         sys.exit(0)\n",
    "        data_all_x_list.append(data_x)\n",
    "        data_all_y_list.append(data_y)\n",
    "data_all_x = np.concatenate(data_all_x_list,axis=0)\n",
    "data_all_y = np.concatenate(data_all_y_list,axis=0)\n",
    "data_all_y = data_all_y.astype(int)\n",
    "print(data_all_x.shape)\n",
    "print(data_all_y.shape)"
   ]
  },
  {
   "cell_type": "code",
   "execution_count": null,
   "id": "04c8883a-9675-4c48-a39b-9dc29c4cbd25",
   "metadata": {
    "colab": {
     "base_uri": "https://localhost:8080/"
    },
    "id": "K_k1gRcBM6Up",
    "outputId": "6d82a22b-b313-4777-c1d7-0f5166ae3b3f"
   },
   "outputs": [
    {
     "name": "stdout",
     "output_type": "stream",
     "text": [
      "(5102, 30)\n",
      "(5102,)\n"
     ]
    }
   ],
   "source": [
    "#Feature extraction for NN model e.x. MLP\n",
    "window = 500\n",
    "feature_n = 6\n",
    "attributes = ['attitude.roll', 'attitude.pitch', 'attitude.yaw','userAcceleration.x','userAcceleration.y','userAcceleration.z']\n",
    "data_all_x_list = []\n",
    "data_all_y_list = []\n",
    "for j in folders:\n",
    "    csv_list = glob(j + '/*')\n",
    "    label = j.split('/')[-1].split('_')[0]\n",
    "    for i in csv_list:\n",
    "        df = pd.read_csv(\n",
    "            i,\n",
    "            usecols = ['attitude.roll','attitude.pitch',\n",
    "                       'attitude.yaw','userAcceleration.x',\n",
    "                       'userAcceleration.y','userAcceleration.z']\n",
    "         )\n",
    "        win_count = int(df.shape[0] / (window / 2)) - 1\n",
    "        data_x = np.zeros((win_count, df.shape[1] * 5))\n",
    "        data_y = np.zeros(win_count)\n",
    "\n",
    "        length = len(df)\n",
    "        for c in range(win_count):\n",
    "            start_idx = int(c * (window / 2))\n",
    "            end_idx = start_idx + window\n",
    "            temp_list = []\n",
    "            for k in range(feature_n):\n",
    "                means = df[start_idx:end_idx][attributes[k]].mean()\n",
    "                stds = df[start_idx:end_idx][attributes[k]].mean()\n",
    "                mins = df[start_idx:end_idx][attributes[k]].min()\n",
    "                maxs = df[start_idx:end_idx][attributes[k]].max()\n",
    "                mads = df[start_idx:end_idx][attributes[k]].mad()\n",
    "                temp_list.append(means)\n",
    "                temp_list.append(stds)\n",
    "                temp_list.append(mins)\n",
    "                temp_list.append(maxs)\n",
    "                temp_list.append(mads)\n",
    "            data_x[c] = temp_list\n",
    "            data_y[c] = activity_codes[label]\n",
    "\n",
    "        data_all_x_list.append(data_x)\n",
    "        data_all_y_list.append(data_y)\n",
    "data_all_x = np.concatenate(data_all_x_list,axis=0)\n",
    "data_all_y = np.concatenate(data_all_y_list,axis=0)\n",
    "data_all_y = data_all_y.astype(int)\n",
    "print(data_all_x.shape)\n",
    "print(data_all_y.shape)"
   ]
  },
  {
   "cell_type": "markdown",
   "id": "c7ee1078-360d-4a6d-afbd-94e3245e9572",
   "metadata": {
    "id": "_w5zBdEyP7BS"
   },
   "source": [
    "## CNN Train & Test ##"
   ]
  },
  {
   "cell_type": "code",
   "execution_count": null,
   "id": "7a00846a-936e-4f21-a5e2-bbff3c7c7837",
   "metadata": {
    "colab": {
     "base_uri": "https://localhost:8080/"
    },
    "id": "FyN0MGvaP7BS",
    "outputId": "4f357cf2-1afe-47c9-f40c-b17ab204f712"
   },
   "outputs": [
    {
     "name": "stdout",
     "output_type": "stream",
     "text": [
      "Num GPUs Available:  1\n"
     ]
    }
   ],
   "source": [
    "# print(\"Num GPUs Available: \", len(tf.config.list_physical_devices('GPU')))"
   ]
  },
  {
   "cell_type": "code",
   "execution_count": 7,
   "id": "31fc2b76-d296-417b-a3e2-db0a6000ead2",
   "metadata": {
    "colab": {
     "base_uri": "https://localhost:8080/"
    },
    "id": "Y0KZZTB0P7BT",
    "outputId": "e54043d8-7bc2-444e-ec23-d58afe9c813c"
   },
   "outputs": [
    {
     "name": "stdout",
     "output_type": "stream",
     "text": [
      "3672 1021 409\n"
     ]
    }
   ],
   "source": [
    "train_x_temp,test_x,train_y_temp,test_y = train_test_split(data_all_x,data_all_y,test_size=0.2)\n",
    "train_x,val_x,train_y,val_y = train_test_split(train_x_temp,train_y_temp,test_size=0.1)\n",
    "assert(len(train_x) == len(train_y))\n",
    "print(len(train_x), len(test_x),len(val_x))"
   ]
  },
  {
   "cell_type": "code",
   "execution_count": 8,
   "id": "36be689e-2d84-4444-aa27-941f84e4cc65",
   "metadata": {
    "id": "eF95XVUqP7BT"
   },
   "outputs": [
    {
     "name": "stderr",
     "output_type": "stream",
     "text": [
      "2021-09-28 10:02:05.292281: I tensorflow/core/platform/cpu_feature_guard.cc:142] This TensorFlow binary is optimized with oneAPI Deep Neural Network Library (oneDNN) to use the following CPU instructions in performance-critical operations:  AVX2 FMA\n",
      "To enable them in other operations, rebuild TensorFlow with the appropriate compiler flags.\n"
     ]
    }
   ],
   "source": [
    "# val_y = np.asarray(val_y).astype('float32').reshape((-1,1))\n",
    "# train_y = np.asarray(train_y).astype('float32').reshape((-1,1))\n",
    "# test_y = np.asarray(test_y).astype('float32').reshape((-1,1))\n",
    "train_x = tf.convert_to_tensor(train_x, dtype=tf.float32)\n",
    "test_x = tf.convert_to_tensor(test_x, dtype=tf.float32)\n",
    "val_x = tf.convert_to_tensor(val_x, dtype=tf.float32)\n",
    "train_y = tf.convert_to_tensor(tf.keras.utils.to_categorical(train_y,  num_classes=6), dtype=tf.float32)\n",
    "test_y = tf.convert_to_tensor(tf.keras.utils.to_categorical(test_y,  num_classes=6), dtype=tf.float32)\n",
    "val_y = tf.convert_to_tensor(tf.keras.utils.to_categorical(val_y,  num_classes=6), dtype=tf.float32)"
   ]
  },
  {
   "cell_type": "code",
   "execution_count": 9,
   "id": "113225c1-b8da-4b48-a1c8-3be46aaaad93",
   "metadata": {
    "id": "K0NE4RUIP7BT"
   },
   "outputs": [],
   "source": [
    "train_dataset = tf.data.Dataset.from_tensor_slices((train_x, train_y))\n",
    "val_dataset = tf.data.Dataset.from_tensor_slices((val_x, val_y))\n",
    "test_dataset = tf.data.Dataset.from_tensor_slices((test_x, test_y))"
   ]
  },
  {
   "cell_type": "code",
   "execution_count": 10,
   "id": "e5b2f859-ab9c-4375-8a27-0f7982820e5c",
   "metadata": {
    "id": "L-Xbes-LP7BT"
   },
   "outputs": [],
   "source": [
    "BATCH_SIZE = 32\n",
    "SHUFFLE_BUFFER_SIZE = 100\n",
    "\n",
    "train_dataset = train_dataset.shuffle(SHUFFLE_BUFFER_SIZE).batch(BATCH_SIZE)\n",
    "val_dataset = val_dataset.shuffle(SHUFFLE_BUFFER_SIZE).batch(BATCH_SIZE)\n",
    "test_dataset = test_dataset.batch(BATCH_SIZE)"
   ]
  },
  {
   "cell_type": "code",
   "execution_count": 11,
   "id": "790919ec-b261-4aaf-a3b8-73423c356277",
   "metadata": {
    "colab": {
     "base_uri": "https://localhost:8080/"
    },
    "id": "AA-FM4KhP7BU",
    "outputId": "a8c2669d-bb6d-421b-8ffe-262592c4cb85"
   },
   "outputs": [
    {
     "name": "stdout",
     "output_type": "stream",
     "text": [
      "(32, 500, 6)\n",
      "(32, 6)\n"
     ]
    }
   ],
   "source": [
    "for i,j in val_dataset.take(1):\n",
    "    print(i.numpy().shape)\n",
    "    print(j.numpy().shape)"
   ]
  },
  {
   "cell_type": "code",
   "execution_count": 12,
   "id": "7307c71e-b9ef-4571-95dd-c000b0d525b9",
   "metadata": {
    "colab": {
     "base_uri": "https://localhost:8080/"
    },
    "id": "ntlBepllP7BU",
    "outputId": "0d1a24e9-c63d-4a11-924e-0f53896bfc99"
   },
   "outputs": [
    {
     "name": "stdout",
     "output_type": "stream",
     "text": [
      "Model: \"sequential\"\n",
      "_________________________________________________________________\n",
      "Layer (type)                 Output Shape              Param #   \n",
      "=================================================================\n",
      "conv1d (Conv1D)              (None, 498, 32)           608       \n",
      "_________________________________________________________________\n",
      "max_pooling1d (MaxPooling1D) (None, 249, 32)           0         \n",
      "_________________________________________________________________\n",
      "conv1d_1 (Conv1D)            (None, 247, 32)           3104      \n",
      "_________________________________________________________________\n",
      "max_pooling1d_1 (MaxPooling1 (None, 123, 32)           0         \n",
      "_________________________________________________________________\n",
      "conv1d_2 (Conv1D)            (None, 121, 32)           3104      \n",
      "_________________________________________________________________\n",
      "max_pooling1d_2 (MaxPooling1 (None, 60, 32)            0         \n",
      "_________________________________________________________________\n",
      "flatten (Flatten)            (None, 1920)              0         \n",
      "_________________________________________________________________\n",
      "dense (Dense)                (None, 64)                122944    \n",
      "_________________________________________________________________\n",
      "dropout (Dropout)            (None, 64)                0         \n",
      "_________________________________________________________________\n",
      "dense_1 (Dense)              (None, 6)                 390       \n",
      "=================================================================\n",
      "Total params: 130,150\n",
      "Trainable params: 130,150\n",
      "Non-trainable params: 0\n",
      "_________________________________________________________________\n"
     ]
    }
   ],
   "source": [
    "num_classes = 6\n",
    "\n",
    "model = tf.keras.Sequential([\n",
    "    tf.keras.layers.Conv1D(32, 3, activation='relu',input_shape = (500,6)),\n",
    "    tf.keras.layers.MaxPooling1D(),\n",
    "    tf.keras.layers.Conv1D(32, 3, activation='relu'),\n",
    "    tf.keras.layers.MaxPooling1D(),\n",
    "    tf.keras.layers.Conv1D(32, 3, activation='relu'),\n",
    "    tf.keras.layers.MaxPooling1D(),\n",
    "    tf.keras.layers.Flatten(input_shape = (500,6)),\n",
    "    tf.keras.layers.Dense(64, activation='sigmoid'),\n",
    "    tf.keras.layers.Dropout(0.2),\n",
    "    tf.keras.layers.Dense(num_classes)\n",
    "])\n",
    "\n",
    "model.summary()"
   ]
  },
  {
   "cell_type": "code",
   "execution_count": 13,
   "id": "3fd083b3-ada7-4eac-ac5d-204315c9eadf",
   "metadata": {
    "id": "XH1XaV_jP7BU"
   },
   "outputs": [],
   "source": [
    "model.compile(optimizer='adam',\n",
    "              loss=tf.keras.losses.CategoricalCrossentropy(from_logits=True),\n",
    "              metrics=['accuracy'])"
   ]
  },
  {
   "cell_type": "code",
   "execution_count": 14,
   "id": "49e4c09d-1ad3-448b-b1c0-c93da990fb8b",
   "metadata": {
    "colab": {
     "base_uri": "https://localhost:8080/"
    },
    "id": "IXlwjOvcP7BU",
    "outputId": "42b5a076-bf6b-4599-ffb0-0b8a7895d990"
   },
   "outputs": [
    {
     "name": "stdout",
     "output_type": "stream",
     "text": [
      "Epoch 1/15\n"
     ]
    },
    {
     "name": "stderr",
     "output_type": "stream",
     "text": [
      "2021-09-28 10:02:18.612702: I tensorflow/compiler/mlir/mlir_graph_optimization_pass.cc:185] None of the MLIR Optimization Passes are enabled (registered 2)\n"
     ]
    },
    {
     "name": "stdout",
     "output_type": "stream",
     "text": [
      "115/115 [==============================] - 3s 21ms/step - loss: 1.0151 - accuracy: 0.6392 - val_loss: 0.6560 - val_accuracy: 0.7946\n",
      "Epoch 2/15\n",
      "115/115 [==============================] - 2s 17ms/step - loss: 0.4812 - accuracy: 0.8312 - val_loss: 0.3795 - val_accuracy: 0.8680\n",
      "Epoch 3/15\n",
      "115/115 [==============================] - 2s 18ms/step - loss: 0.3236 - accuracy: 0.8930 - val_loss: 0.2960 - val_accuracy: 0.8973\n",
      "Epoch 4/15\n",
      "115/115 [==============================] - 2s 18ms/step - loss: 0.2635 - accuracy: 0.9161 - val_loss: 0.2314 - val_accuracy: 0.9169\n",
      "Epoch 5/15\n",
      "115/115 [==============================] - 2s 19ms/step - loss: 0.1951 - accuracy: 0.9398 - val_loss: 0.2133 - val_accuracy: 0.9169\n",
      "Epoch 6/15\n",
      "115/115 [==============================] - 2s 19ms/step - loss: 0.1462 - accuracy: 0.9556 - val_loss: 0.1706 - val_accuracy: 0.9364\n",
      "Epoch 7/15\n",
      "115/115 [==============================] - 2s 18ms/step - loss: 0.1140 - accuracy: 0.9706 - val_loss: 0.1533 - val_accuracy: 0.9340\n",
      "Epoch 8/15\n",
      "115/115 [==============================] - 2s 20ms/step - loss: 0.1042 - accuracy: 0.9687 - val_loss: 0.1321 - val_accuracy: 0.9584\n",
      "Epoch 9/15\n",
      "115/115 [==============================] - 2s 20ms/step - loss: 0.0859 - accuracy: 0.9755 - val_loss: 0.1177 - val_accuracy: 0.9633\n",
      "Epoch 10/15\n",
      "115/115 [==============================] - 2s 20ms/step - loss: 0.0606 - accuracy: 0.9856 - val_loss: 0.1105 - val_accuracy: 0.9584\n",
      "Epoch 11/15\n",
      "115/115 [==============================] - 2s 19ms/step - loss: 0.0504 - accuracy: 0.9888 - val_loss: 0.1011 - val_accuracy: 0.9658\n",
      "Epoch 12/15\n",
      "115/115 [==============================] - 2s 20ms/step - loss: 0.0386 - accuracy: 0.9932 - val_loss: 0.0961 - val_accuracy: 0.9658\n",
      "Epoch 13/15\n",
      "115/115 [==============================] - 3s 24ms/step - loss: 0.0342 - accuracy: 0.9924 - val_loss: 0.0779 - val_accuracy: 0.9731\n",
      "Epoch 14/15\n",
      "115/115 [==============================] - 2s 19ms/step - loss: 0.0250 - accuracy: 0.9970 - val_loss: 0.0752 - val_accuracy: 0.9731\n",
      "Epoch 15/15\n",
      "115/115 [==============================] - 2s 19ms/step - loss: 0.0250 - accuracy: 0.9959 - val_loss: 0.0864 - val_accuracy: 0.9707\n"
     ]
    }
   ],
   "source": [
    "epochs = 15\n",
    "history = model.fit(\n",
    "    train_dataset,\n",
    "    validation_data=val_dataset,\n",
    "    epochs=epochs\n",
    ")"
   ]
  },
  {
   "cell_type": "code",
   "execution_count": 15,
   "id": "5982941b-b3a3-4791-bf67-94b5839cf490",
   "metadata": {
    "colab": {
     "base_uri": "https://localhost:8080/",
     "height": 499
    },
    "id": "3QTaOXoZP7BU",
    "outputId": "b60a63c9-4eeb-4778-ac10-8ceed56e91e3"
   },
   "outputs": [
    {
     "data": {
      "image/png": "[encoded data removed]",
      "text/plain": [
       "<Figure size 576x576 with 2 Axes>"
      ]
     },
     "metadata": {
      "needs_background": "light"
     },
     "output_type": "display_data"
    }
   ],
   "source": [
    "acc = history.history['accuracy']\n",
    "val_acc = history.history['val_accuracy']\n",
    "\n",
    "loss = history.history['loss']\n",
    "val_loss = history.history['val_loss']\n",
    "\n",
    "epochs_range = range(epochs)\n",
    "\n",
    "plt.figure(figsize=(8, 8))\n",
    "plt.subplot(1, 2, 1)\n",
    "plt.plot(epochs_range, acc, label='Training Accuracy')\n",
    "plt.plot(epochs_range, val_acc, label='Validation Accuracy')\n",
    "plt.legend(loc='lower right')\n",
    "plt.title('Training and Validation Accuracy')\n",
    "\n",
    "plt.subplot(1, 2, 2)\n",
    "plt.plot(epochs_range, loss, label='Training Loss')\n",
    "plt.plot(epochs_range, val_loss, label='Validation Loss')\n",
    "plt.legend(loc='upper right')\n",
    "plt.title('Training and Validation Loss')\n",
    "plt.show()"
   ]
  },
  {
   "cell_type": "code",
   "execution_count": 16,
   "id": "8c9af01b-1bf6-40ea-8350-f2385d047f78",
   "metadata": {
    "id": "u8OWldekP7BV"
   },
   "outputs": [],
   "source": [
    "model.save('boing_cnn.h5')"
   ]
  },
  {
   "cell_type": "code",
   "execution_count": 17,
   "id": "f65efe23-bdd0-4015-a9da-c906d5f63f55",
   "metadata": {
    "colab": {
     "base_uri": "https://localhost:8080/"
    },
    "id": "Av9QsmwsP7BV",
    "outputId": "f3ced359-0430-44e4-f1ae-5fbcb9136cee"
   },
   "outputs": [
    {
     "name": "stdout",
     "output_type": "stream",
     "text": [
      "32/32 [==============================] - 0s 4ms/step - loss: 0.0758 - accuracy: 0.9745\n"
     ]
    },
    {
     "data": {
      "text/plain": [
       "[0.07582669705152512, 0.9745347499847412]"
      ]
     },
     "execution_count": 17,
     "metadata": {},
     "output_type": "execute_result"
    }
   ],
   "source": [
    "model.evaluate(test_dataset,batch_size = BATCH_SIZE)"
   ]
  },
  {
   "cell_type": "code",
   "execution_count": null,
   "id": "4a1e5ad8-72bc-453b-8e59-78904722135e",
   "metadata": {},
   "outputs": [],
   "source": []
  }
 ],
 "metadata": {
  "kernelspec": {
   "display_name": "Python 3 (ipykernel)",
   "language": "python",
   "name": "python3"
  },
  "language_info": {
   "codemirror_mode": {
    "name": "ipython",
    "version": 3
   },
   "file_extension": ".py",
   "mimetype": "text/x-python",
   "name": "python",
   "nbconvert_exporter": "python",
   "pygments_lexer": "ipython3",
   "version": "3.8.11"
  }
 },
 "nbformat": 4,
 "nbformat_minor": 5
}
