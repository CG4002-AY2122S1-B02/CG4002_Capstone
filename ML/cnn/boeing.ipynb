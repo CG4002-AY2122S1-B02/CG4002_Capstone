{
 "cells": [
  {
   "cell_type": "markdown",
   "metadata": {},
   "source": [
    "# Boeing boeing: Dance Motion Detectionn #\n",
    "\n",
    "## CNN version 0.2 Date: 2021.9.23 (Windows Version) ##"
   ]
  },
  {
   "cell_type": "code",
   "execution_count": 2,
   "metadata": {},
   "outputs": [],
   "source": [
    "import os\n",
    "\n",
    "import numpy as np\n",
    "import pandas as pd\n",
    "from glob import glob\n",
    "import tensorflow as tf\n",
    "from sklearn.model_selection import train_test_split\n",
    "import matplotlib.pyplot as plt\n",
    "from tensorflow.keras import layers"
   ]
  },
  {
   "cell_type": "markdown",
   "metadata": {},
   "source": [
    "## Load Dateset ##"
   ]
  },
  {
   "cell_type": "code",
   "execution_count": 3,
   "metadata": {
    "scrolled": true
   },
   "outputs": [
    {
     "name": "stdout",
     "output_type": "stream",
     "text": [
      "C:\\Users\\sanat\\Documents\\Github_\\CG4002_Capstone\\ML\\cnn\\data\n",
      "['dws_1', 'dws_11', 'dws_2', 'jog_16', 'jog_9', 'sit_13', 'sit_5', 'std_14', 'std_6', 'ups_12', 'ups_3', 'ups_4', 'wlk_15', 'wlk_7', 'wlk_8']\n"
     ]
    }
   ],
   "source": [
    "data_path = os.path.join(os.getcwd(), 'data')\n",
    "print(data_path)\n",
    "print(os.listdir(data_path))"
   ]
  },
  {
   "cell_type": "code",
   "execution_count": 4,
   "metadata": {},
   "outputs": [
    {
     "name": "stdout",
     "output_type": "stream",
     "text": [
      "['C:\\\\Users\\\\sanat\\\\Documents\\\\Github_\\\\CG4002_Capstone\\\\ML\\\\cnn\\\\data\\\\dws_1', 'C:\\\\Users\\\\sanat\\\\Documents\\\\Github_\\\\CG4002_Capstone\\\\ML\\\\cnn\\\\data\\\\dws_11', 'C:\\\\Users\\\\sanat\\\\Documents\\\\Github_\\\\CG4002_Capstone\\\\ML\\\\cnn\\\\data\\\\dws_2', 'C:\\\\Users\\\\sanat\\\\Documents\\\\Github_\\\\CG4002_Capstone\\\\ML\\\\cnn\\\\data\\\\jog_16', 'C:\\\\Users\\\\sanat\\\\Documents\\\\Github_\\\\CG4002_Capstone\\\\ML\\\\cnn\\\\data\\\\jog_9', 'C:\\\\Users\\\\sanat\\\\Documents\\\\Github_\\\\CG4002_Capstone\\\\ML\\\\cnn\\\\data\\\\sit_13', 'C:\\\\Users\\\\sanat\\\\Documents\\\\Github_\\\\CG4002_Capstone\\\\ML\\\\cnn\\\\data\\\\sit_5', 'C:\\\\Users\\\\sanat\\\\Documents\\\\Github_\\\\CG4002_Capstone\\\\ML\\\\cnn\\\\data\\\\std_14', 'C:\\\\Users\\\\sanat\\\\Documents\\\\Github_\\\\CG4002_Capstone\\\\ML\\\\cnn\\\\data\\\\std_6', 'C:\\\\Users\\\\sanat\\\\Documents\\\\Github_\\\\CG4002_Capstone\\\\ML\\\\cnn\\\\data\\\\ups_12', 'C:\\\\Users\\\\sanat\\\\Documents\\\\Github_\\\\CG4002_Capstone\\\\ML\\\\cnn\\\\data\\\\ups_3', 'C:\\\\Users\\\\sanat\\\\Documents\\\\Github_\\\\CG4002_Capstone\\\\ML\\\\cnn\\\\data\\\\ups_4', 'C:\\\\Users\\\\sanat\\\\Documents\\\\Github_\\\\CG4002_Capstone\\\\ML\\\\cnn\\\\data\\\\wlk_15', 'C:\\\\Users\\\\sanat\\\\Documents\\\\Github_\\\\CG4002_Capstone\\\\ML\\\\cnn\\\\data\\\\wlk_7', 'C:\\\\Users\\\\sanat\\\\Documents\\\\Github_\\\\CG4002_Capstone\\\\ML\\\\cnn\\\\data\\\\wlk_8']\n",
      "(1412865, 14)\n",
      "Index(['attitude.roll', 'attitude.pitch', 'attitude.yaw', 'gravity.x',\n",
      "       'gravity.y', 'gravity.z', 'rotationRate.x', 'rotationRate.y',\n",
      "       'rotationRate.z', 'userAcceleration.x', 'userAcceleration.y',\n",
      "       'userAcceleration.z', 'activity', 'sub_num'],\n",
      "      dtype='object')\n",
      "   Unnamed: 0  attitude.roll  attitude.pitch  attitude.yaw  gravity.x  \\\n",
      "0           0      -0.023338       -1.224848     -0.323214  -0.007913   \n",
      "1           1       0.035584       -1.261492     -0.313059   0.010829   \n",
      "2           2       0.178433       -1.271822     -0.243171   0.052277   \n",
      "3           3       0.277170       -1.258480     -0.186634   0.084077   \n",
      "4           4       0.304507       -1.277737     -0.134859   0.086613   \n",
      "\n",
      "   gravity.y  gravity.z  rotationRate.x  rotationRate.y  rotationRate.z  \\\n",
      "0   0.940754  -0.338994       -1.319125        1.466197       -0.534333   \n",
      "1   0.952546  -0.304201       -2.109227        2.919636        0.580987   \n",
      "2   0.955639  -0.289861        0.970976        4.476752        1.185893   \n",
      "3   0.951624  -0.295534       -0.425320        0.301212        0.979596   \n",
      "4   0.957364  -0.275589       -1.323862       -1.219249       -0.026724   \n",
      "\n",
      "   userAcceleration.x  userAcceleration.y  userAcceleration.z  activity  \\\n",
      "0           -0.241538            0.187633            0.894231         5   \n",
      "1            0.288792            1.077636            0.533708         5   \n",
      "2            0.221313            0.835209            0.092474         5   \n",
      "3           -0.589754           -0.865519            0.538973         5   \n",
      "4           -0.681294           -0.779874            0.547669         5   \n",
      "\n",
      "  sub_num  \n",
      "0       9  \n",
      "1       9  \n",
      "2       9  \n",
      "3       9  \n",
      "4       9  \n"
     ]
    }
   ],
   "source": [
    "# Load the whole data into a big dataset, this is for data/feature study prupose\n",
    "folders = glob(os.path.join(data_path,'*_*'))\n",
    "folders = [s for s in folders if (\"csv\" not in s) or (\".DS_Store\" not in s) or (\".ipynb\" not in s)]\n",
    "df_all_list = []\n",
    "activity_codes = {'dws':0,'jog':1,'sit':2,'std':3,'ups':4,'wlk':5}\n",
    "activity_types = list(activity_codes.keys())\n",
    "\n",
    "print(folders)\n",
    "\n",
    "for j in folders:\n",
    "    #print('j',j)\n",
    "    csv_list = glob(j + '\\\\*')\n",
    "    for i in csv_list:\n",
    "        label = j.split('\\\\')[-1].split('_')[0]\n",
    "#         print(label)\n",
    "        if activity_codes.get(label) == None:\n",
    "#             sys.exit(0)\n",
    "            continue\n",
    "        df = pd.read_csv(i)\n",
    "        df['activity'] = activity_codes[label]\n",
    "        df['sub_num'] = i[len(j)+5:-4]\n",
    "        expnum = np.zeros(df.shape[0])\n",
    "        df_all_list.append(df)\n",
    "# print(df_all_list)\n",
    "df_all = pd.concat(df_all_list,axis=0)\n",
    "df_all = df_all.drop('Unnamed: 0',axis=1)\n",
    "print(df_all.shape)\n",
    "print(df_all.columns)\n",
    "print(df.head(5))"
   ]
  },
  {
   "cell_type": "markdown",
   "metadata": {},
   "source": [
    "## Feature extraction ##\n",
    "\n",
    "Each sample will be divided into 180 windows, inside each window we calculate min max mean std mad in time domain\n",
    "We will get a 180 * 30 'image'\n",
    "We should get 360 such samples"
   ]
  },
  {
   "cell_type": "code",
   "execution_count": 5,
   "metadata": {},
   "outputs": [
    {
     "name": "stdout",
     "output_type": "stream",
     "text": [
      "(360, 180, 30)\n",
      "(360,)\n"
     ]
    }
   ],
   "source": [
    "win_count = 180\n",
    "data_all_x_list = []\n",
    "data_all_y_list = []\n",
    "for j in folders:\n",
    "    csv_list = glob(j + '\\\\*')\n",
    "    label = j.split('\\\\')[-1].split('_')[0]\n",
    "    for i in csv_list:\n",
    "        df = pd.read_csv(i, usecols = ['gravity.x','gravity.y', 'gravity.z','userAcceleration.x','userAcceleration.y','userAcceleration.z'])\n",
    "        segment_size = int(df.shape[0]/win_count)\n",
    "        data_x = np.zeros((1, win_count, df.shape[1] * 5))\n",
    "        data_y = np.zeros(1)\n",
    "        for c in range(win_count):\n",
    "            start_idx = c * segment_size\n",
    "            end_idx = start_idx + segment_size\n",
    "            temp_list = []\n",
    "            means = df[start_idx:end_idx].mean().to_numpy()\n",
    "            stds = df[start_idx:end_idx].mean().to_numpy()\n",
    "            mins = df[start_idx:end_idx].min().to_numpy()\n",
    "            maxs = df[start_idx:end_idx].max().to_numpy()\n",
    "            mads = df[start_idx:end_idx].mad().to_numpy()\n",
    "            temp_list.append(means)\n",
    "            temp_list.append(stds)\n",
    "            temp_list.append(mins)\n",
    "            temp_list.append(maxs)\n",
    "            temp_list.append(mads)\n",
    "            temp_list = np.concatenate(temp_list, axis = 0)\n",
    "            data_x[0][c] = temp_list\n",
    "            data_y[0] = activity_codes[label]\n",
    "#         print(data_x.shape)\n",
    "#         sys.exit(0)\n",
    "        data_all_x_list.append(data_x)\n",
    "        data_all_y_list.append(data_y)\n",
    "data_all_x = np.concatenate(data_all_x_list,axis=0)\n",
    "data_all_y = np.concatenate(data_all_y_list,axis=0)\n",
    "data_all_y = data_all_y.astype(int)\n",
    "print(data_all_x.shape)\n",
    "print(data_all_y.shape)"
   ]
  },
  {
   "cell_type": "markdown",
   "metadata": {},
   "source": [
    "## Train ##"
   ]
  },
  {
   "cell_type": "code",
   "execution_count": 6,
   "metadata": {},
   "outputs": [
    {
     "name": "stdout",
     "output_type": "stream",
     "text": [
      "259 72 29\n"
     ]
    }
   ],
   "source": [
    "train_x_temp,test_x,train_y_temp,test_y = train_test_split(data_all_x,data_all_y,test_size=0.2)\n",
    "train_x,val_x,train_y,val_y = train_test_split(train_x_temp,train_y_temp,test_size=0.1)\n",
    "assert(len(train_x) == len(train_y))\n",
    "print(len(train_x), len(test_x),len(val_x))"
   ]
  },
  {
   "cell_type": "code",
   "execution_count": 7,
   "metadata": {},
   "outputs": [],
   "source": [
    "# val_y = np.asarray(val_y).astype('float32').reshape((-1,1))\n",
    "# train_y = np.asarray(train_y).astype('float32').reshape((-1,1))\n",
    "# test_y = np.asarray(test_y).astype('float32').reshape((-1,1))\n",
    "train_x = tf.convert_to_tensor(train_x, dtype=tf.float32)\n",
    "test_x = tf.convert_to_tensor(test_x, dtype=tf.float32)\n",
    "val_x = tf.convert_to_tensor(val_x, dtype=tf.float32)\n",
    "train_y = tf.convert_to_tensor(tf.keras.utils.to_categorical(train_y,  num_classes=6), dtype=tf.float32)\n",
    "test_y = tf.convert_to_tensor(tf.keras.utils.to_categorical(test_y,  num_classes=6), dtype=tf.float32)\n",
    "val_y = tf.convert_to_tensor(tf.keras.utils.to_categorical(val_y,  num_classes=6), dtype=tf.float32)"
   ]
  },
  {
   "cell_type": "code",
   "execution_count": 8,
   "metadata": {},
   "outputs": [],
   "source": [
    "train_dataset = tf.data.Dataset.from_tensor_slices((train_x, train_y))\n",
    "val_dataset = tf.data.Dataset.from_tensor_slices((val_x, val_y))\n",
    "test_dataset = tf.data.Dataset.from_tensor_slices((test_x, test_y))"
   ]
  },
  {
   "cell_type": "code",
   "execution_count": 9,
   "metadata": {},
   "outputs": [],
   "source": [
    "BATCH_SIZE = 32\n",
    "SHUFFLE_BUFFER_SIZE = 100\n",
    "\n",
    "train_dataset = train_dataset.shuffle(SHUFFLE_BUFFER_SIZE).batch(BATCH_SIZE)\n",
    "val_dataset = val_dataset.shuffle(SHUFFLE_BUFFER_SIZE).batch(BATCH_SIZE)\n",
    "test_dataset = test_dataset.batch(BATCH_SIZE)"
   ]
  },
  {
   "cell_type": "code",
   "execution_count": 10,
   "metadata": {},
   "outputs": [
    {
     "name": "stdout",
     "output_type": "stream",
     "text": [
      "(29, 180, 30)\n",
      "(29, 6)\n"
     ]
    }
   ],
   "source": [
    "for i,j in val_dataset.take(1):\n",
    "    print(i.numpy().shape)\n",
    "    print(j.numpy().shape)"
   ]
  },
  {
   "cell_type": "code",
   "execution_count": 11,
   "metadata": {},
   "outputs": [
    {
     "name": "stdout",
     "output_type": "stream",
     "text": [
      "Model: \"sequential\"\n",
      "_________________________________________________________________\n",
      "Layer (type)                 Output Shape              Param #   \n",
      "=================================================================\n",
      "conv1d (Conv1D)              (None, 178, 32)           2912      \n",
      "_________________________________________________________________\n",
      "max_pooling1d (MaxPooling1D) (None, 89, 32)            0         \n",
      "_________________________________________________________________\n",
      "conv1d_1 (Conv1D)            (None, 87, 32)            3104      \n",
      "_________________________________________________________________\n",
      "max_pooling1d_1 (MaxPooling1 (None, 43, 32)            0         \n",
      "_________________________________________________________________\n",
      "conv1d_2 (Conv1D)            (None, 41, 32)            3104      \n",
      "_________________________________________________________________\n",
      "max_pooling1d_2 (MaxPooling1 (None, 20, 32)            0         \n",
      "_________________________________________________________________\n",
      "flatten (Flatten)            (None, 640)               0         \n",
      "_________________________________________________________________\n",
      "dense (Dense)                (None, 64)                41024     \n",
      "_________________________________________________________________\n",
      "dropout (Dropout)            (None, 64)                0         \n",
      "_________________________________________________________________\n",
      "dense_1 (Dense)              (None, 6)                 390       \n",
      "=================================================================\n",
      "Total params: 50,534\n",
      "Trainable params: 50,534\n",
      "Non-trainable params: 0\n",
      "_________________________________________________________________\n"
     ]
    }
   ],
   "source": [
    "num_classes = 6\n",
    "\n",
    "model = tf.keras.Sequential([\n",
    "    tf.keras.layers.Conv1D(32, 3, activation='relu',input_shape = (180,30)),\n",
    "    tf.keras.layers.MaxPooling1D(),\n",
    "    tf.keras.layers.Conv1D(32, 3, activation='relu'),\n",
    "    tf.keras.layers.MaxPooling1D(),\n",
    "    tf.keras.layers.Conv1D(32, 3, activation='relu'),\n",
    "    tf.keras.layers.MaxPooling1D(),\n",
    "    tf.keras.layers.Flatten(input_shape = (180,30)),\n",
    "    tf.keras.layers.Dense(64, activation='sigmoid'),\n",
    "    tf.keras.layers.Dropout(0.2),\n",
    "    tf.keras.layers.Dense(num_classes)\n",
    "])\n",
    "\n",
    "model.summary()"
   ]
  },
  {
   "cell_type": "code",
   "execution_count": 12,
   "metadata": {},
   "outputs": [],
   "source": [
    "model.compile(optimizer='adam',\n",
    "              loss=tf.keras.losses.CategoricalCrossentropy(from_logits=True),\n",
    "              metrics=['accuracy'])"
   ]
  },
  {
   "cell_type": "code",
   "execution_count": 13,
   "metadata": {},
   "outputs": [
    {
     "name": "stdout",
     "output_type": "stream",
     "text": [
      "Epoch 1/15\n",
      "9/9 [==============================] - 1s 27ms/step - loss: 2.1149 - accuracy: 0.2201 - val_loss: 1.6327 - val_accuracy: 0.2414\n",
      "Epoch 2/15\n",
      "9/9 [==============================] - 0s 11ms/step - loss: 1.5788 - accuracy: 0.3127 - val_loss: 1.2707 - val_accuracy: 0.6897\n",
      "Epoch 3/15\n",
      "9/9 [==============================] - 0s 10ms/step - loss: 1.3697 - accuracy: 0.4942 - val_loss: 1.0455 - val_accuracy: 0.7586\n",
      "Epoch 4/15\n",
      "9/9 [==============================] - 0s 10ms/step - loss: 1.1353 - accuracy: 0.6332 - val_loss: 0.9066 - val_accuracy: 0.7586\n",
      "Epoch 5/15\n",
      "9/9 [==============================] - 0s 10ms/step - loss: 0.9484 - accuracy: 0.6795 - val_loss: 0.7507 - val_accuracy: 0.8276\n",
      "Epoch 6/15\n",
      "9/9 [==============================] - 0s 10ms/step - loss: 0.8166 - accuracy: 0.7375 - val_loss: 0.7266 - val_accuracy: 0.7586\n",
      "Epoch 7/15\n",
      "9/9 [==============================] - 0s 9ms/step - loss: 0.7209 - accuracy: 0.7490 - val_loss: 0.6463 - val_accuracy: 0.7931\n",
      "Epoch 8/15\n",
      "9/9 [==============================] - 0s 9ms/step - loss: 0.6591 - accuracy: 0.7761 - val_loss: 0.5957 - val_accuracy: 0.7241\n",
      "Epoch 9/15\n",
      "9/9 [==============================] - 0s 10ms/step - loss: 0.5970 - accuracy: 0.7876 - val_loss: 0.6287 - val_accuracy: 0.7586\n",
      "Epoch 10/15\n",
      "9/9 [==============================] - 0s 9ms/step - loss: 0.5703 - accuracy: 0.8108 - val_loss: 0.4816 - val_accuracy: 0.7931\n",
      "Epoch 11/15\n",
      "9/9 [==============================] - 0s 9ms/step - loss: 0.5166 - accuracy: 0.8340 - val_loss: 0.5011 - val_accuracy: 0.7931\n",
      "Epoch 12/15\n",
      "9/9 [==============================] - 0s 9ms/step - loss: 0.4721 - accuracy: 0.8533 - val_loss: 0.5221 - val_accuracy: 0.7931\n",
      "Epoch 13/15\n",
      "9/9 [==============================] - 0s 9ms/step - loss: 0.4412 - accuracy: 0.8610 - val_loss: 0.4824 - val_accuracy: 0.7931\n",
      "Epoch 14/15\n",
      "9/9 [==============================] - 0s 9ms/step - loss: 0.4343 - accuracy: 0.8764 - val_loss: 0.5351 - val_accuracy: 0.7931\n",
      "Epoch 15/15\n",
      "9/9 [==============================] - 0s 9ms/step - loss: 0.4224 - accuracy: 0.8456 - val_loss: 0.4292 - val_accuracy: 0.8276\n"
     ]
    }
   ],
   "source": [
    "epochs = 15\n",
    "history = model.fit(\n",
    "    train_dataset,\n",
    "    validation_data=val_dataset,\n",
    "    epochs=epochs\n",
    ")"
   ]
  },
  {
   "cell_type": "code",
   "execution_count": 14,
   "metadata": {},
   "outputs": [
    {
     "data": {
      "image/png": "[encoded data removed]",
      "text/plain": [
       "<Figure size 576x576 with 2 Axes>"
      ]
     },
     "metadata": {
      "needs_background": "light"
     },
     "output_type": "display_data"
    }
   ],
   "source": [
    "acc = history.history['accuracy']\n",
    "val_acc = history.history['val_accuracy']\n",
    "\n",
    "loss = history.history['loss']\n",
    "val_loss = history.history['val_loss']\n",
    "\n",
    "epochs_range = range(epochs)\n",
    "\n",
    "plt.figure(figsize=(8, 8))\n",
    "plt.subplot(1, 2, 1)\n",
    "plt.plot(epochs_range, acc, label='Training Accuracy')\n",
    "plt.plot(epochs_range, val_acc, label='Validation Accuracy')\n",
    "plt.legend(loc='lower right')\n",
    "plt.title('Training and Validation Accuracy')\n",
    "\n",
    "plt.subplot(1, 2, 2)\n",
    "plt.plot(epochs_range, loss, label='Training Loss')\n",
    "plt.plot(epochs_range, val_loss, label='Validation Loss')\n",
    "plt.legend(loc='upper right')\n",
    "plt.title('Training and Validation Loss')\n",
    "plt.show()"
   ]
  },
  {
   "cell_type": "code",
   "execution_count": 33,
   "metadata": {},
   "outputs": [],
   "source": [
    "model.save('cnn_trained.h5')"
   ]
  },
  {
   "cell_type": "markdown",
   "metadata": {},
   "source": [
    "## Test ##"
   ]
  },
  {
   "cell_type": "code",
   "execution_count": 16,
   "metadata": {},
   "outputs": [
    {
     "name": "stdout",
     "output_type": "stream",
     "text": [
      "3/3 [==============================] - 0s 3ms/step - loss: 0.4725 - accuracy: 0.8194\n"
     ]
    },
    {
     "data": {
      "text/plain": [
       "[0.4725106954574585, 0.8194444179534912]"
      ]
     },
     "execution_count": 16,
     "metadata": {},
     "output_type": "execute_result"
    }
   ],
   "source": [
    "model.evaluate(test_dataset,batch_size = BATCH_SIZE)"
   ]
  },
  {
   "cell_type": "code",
   "execution_count": null,
   "metadata": {},
   "outputs": [],
   "source": [
    "print(model.trainable_weights)\n",
    "\n",
    "print(\"{\",end=\"\")\n",
    "first = True\n",
    "for val in model.trainable_weights[9].numpy():\n",
    "    if first == False:\n",
    "        print(\",\",end=\"\")\n",
    "    first = False\n",
    "    print(val,end=\"\")\n",
    "print(\"};\")\n",
    "\n",
    "print(\"{\")\n",
    "first_3 = True\n",
    "for filter in model.trainable_weights[6].numpy():\n",
    "    if first_3 == False:\n",
    "        print(\",\", end=\"\")\n",
    "    first_3 = False\n",
    "    print(\"{\",end=\"\")\n",
    "    first = True\n",
    "    for row in filter:\n",
    "        if first == False:\n",
    "            print(\",\", end=\"\")\n",
    "        print(\"{\" , end=\"\")\n",
    "        first = False\n",
    "        \n",
    "        first_2 = True\n",
    "        for val in row:\n",
    "            if first_2 == False:\n",
    "                print(\",\", end=\"\")\n",
    "            print(val , end=\"\")\n",
    "            first_2 = False\n",
    "        print(\"}\")\n",
    "    print(\"}\")\n",
    "    print()\n",
    "print(\"};\")\n",
    "\n",
    "print(\"{\")\n",
    "first_3 = True\n",
    "for filter in model.trainable_weights[8].numpy():\n",
    "    if first_3 == False:\n",
    "        print(\",\", end=\"\")\n",
    "    first_3 = False\n",
    "    print(\"{\",end=\"\")\n",
    "    first_2 = True\n",
    "    for val in filter:\n",
    "        if first_2 == False:\n",
    "            print(\",\", end=\"\")\n",
    "        print(val , end=\"\")\n",
    "        first_2 = False\n",
    "    print(\"}\")\n",
    "print(\"};\")"
   ]
  },
  {
   "cell_type": "code",
   "execution_count": null,
   "metadata": {},
   "outputs": [],
   "source": []
  }
 ],
 "metadata": {
  "kernelspec": {
   "display_name": "Python 3",
   "language": "python",
   "name": "python3"
  },
  "language_info": {
   "codemirror_mode": {
    "name": "ipython",
    "version": 3
   },
   "file_extension": ".py",
   "mimetype": "text/x-python",
   "name": "python",
   "nbconvert_exporter": "python",
   "pygments_lexer": "ipython3",
   "version": "3.8.5"
  }
 },
 "nbformat": 4,
 "nbformat_minor": 5
}
