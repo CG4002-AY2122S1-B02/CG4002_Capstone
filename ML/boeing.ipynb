{
 "cells": [
  {
   "cell_type": "markdown",
   "id": "122bdd2a-e16a-4bf7-b4bc-87a4b92c2660",
   "metadata": {},
   "source": [
    "# Boeing boeing: Dance Motion Detectionn #\n",
    "\n",
    "## CNN version 0.1 Date: 2021.9.1 ##"
   ]
  },
  {
   "cell_type": "code",
   "execution_count": 1,
   "id": "48528bad-63dc-4b8e-bbff-48714407e946",
   "metadata": {},
   "outputs": [],
   "source": [
    "import os\n",
    "\n",
    "import numpy as np\n",
    "import pandas as pd\n",
    "from glob import glob\n",
    "import tensorflow as tf\n",
    "from sklearn.model_selection import train_test_split\n",
    "import matplotlib.pyplot as plt\n",
    "from tensorflow.keras import layers"
   ]
  },
  {
   "cell_type": "markdown",
   "id": "e47ef09e-3862-40e8-a1c1-144ff6ff4b5b",
   "metadata": {},
   "source": [
    "## Load Dateset ##"
   ]
  },
  {
   "cell_type": "code",
   "execution_count": 2,
   "id": "321b0b55-12fe-4b2e-8f72-39169c854e6e",
   "metadata": {},
   "outputs": [
    {
     "name": "stdout",
     "output_type": "stream",
     "text": [
      "/Users/apple/Desktop/CG4002/CNN/data\n",
      "['dws_11', 'ups_12', '.DS_Store', 'wlk_7', 'std_14', 'wlk_15', 'wlk_8', 'dws_2', 'sit_13', 'jog_9', 'ups_3', 'ups_4', 'jog_16', 'dws_1', 'sit_5', 'std_6']\n"
     ]
    }
   ],
   "source": [
    "data_path = os.path.join(os.getcwd(), 'data')\n",
    "print(data_path)\n",
    "print(os.listdir(data_path))"
   ]
  },
  {
   "cell_type": "code",
   "execution_count": 3,
   "id": "9e712de4-a8d3-4482-adb1-23849a09966e",
   "metadata": {},
   "outputs": [
    {
     "name": "stdout",
     "output_type": "stream",
     "text": [
      "['/Users/apple/Desktop/CG4002/CNN/data/dws_11', '/Users/apple/Desktop/CG4002/CNN/data/ups_12', '/Users/apple/Desktop/CG4002/CNN/data/wlk_7', '/Users/apple/Desktop/CG4002/CNN/data/std_14', '/Users/apple/Desktop/CG4002/CNN/data/wlk_15', '/Users/apple/Desktop/CG4002/CNN/data/wlk_8', '/Users/apple/Desktop/CG4002/CNN/data/dws_2', '/Users/apple/Desktop/CG4002/CNN/data/sit_13', '/Users/apple/Desktop/CG4002/CNN/data/jog_9', '/Users/apple/Desktop/CG4002/CNN/data/ups_3', '/Users/apple/Desktop/CG4002/CNN/data/ups_4', '/Users/apple/Desktop/CG4002/CNN/data/jog_16', '/Users/apple/Desktop/CG4002/CNN/data/dws_1', '/Users/apple/Desktop/CG4002/CNN/data/sit_5', '/Users/apple/Desktop/CG4002/CNN/data/std_6']\n",
      "(1412865, 14)\n",
      "Index(['attitude.roll', 'attitude.pitch', 'attitude.yaw', 'gravity.x',\n",
      "       'gravity.y', 'gravity.z', 'rotationRate.x', 'rotationRate.y',\n",
      "       'rotationRate.z', 'userAcceleration.x', 'userAcceleration.y',\n",
      "       'userAcceleration.z', 'activity', 'sub_num'],\n",
      "      dtype='object')\n",
      "   Unnamed: 0  attitude.roll  attitude.pitch  attitude.yaw  gravity.x  \\\n",
      "0           0      -1.400250       -1.497046      1.559445  -0.072614   \n",
      "1           1      -1.409164       -1.497143      1.549608  -0.072627   \n",
      "2           2      -1.416239       -1.497380      1.541611  -0.072476   \n",
      "3           3      -1.424157       -1.497639      1.532813  -0.072308   \n",
      "4           4      -1.432042       -1.497920      1.524131  -0.072112   \n",
      "\n",
      "   gravity.y  gravity.z  rotationRate.x  rotationRate.y  rotationRate.z  \\\n",
      "0   0.997282  -0.012506       -0.038891        0.042859       -0.006002   \n",
      "1   0.997289  -0.011842       -0.037809        0.044990       -0.007065   \n",
      "2   0.997306  -0.011292       -0.035689        0.044970       -0.003844   \n",
      "3   0.997325  -0.010680       -0.035718        0.041762       -0.000634   \n",
      "4   0.997346  -0.010071       -0.034698        0.035350        0.003655   \n",
      "\n",
      "   userAcceleration.x  userAcceleration.y  userAcceleration.z  activity  \\\n",
      "0            0.001112            0.002520           -0.000236         3   \n",
      "1            0.003489            0.001796           -0.002242         3   \n",
      "2            0.005459            0.000558           -0.001785         3   \n",
      "3            0.008145            0.002583           -0.002778         3   \n",
      "4            0.005431            0.002013           -0.001862         3   \n",
      "\n",
      "  sub_num  \n",
      "0      23  \n",
      "1      23  \n",
      "2      23  \n",
      "3      23  \n",
      "4      23  \n"
     ]
    }
   ],
   "source": [
    "# Load the whole data into a big dataset, this is for data/feature study prupose\n",
    "folders = glob(os.path.join(data_path,'*_*'))\n",
    "folders = [s for s in folders if (\"csv\" not in s) or (\".DS_Store\" not in s) or (\".ipynb\" not in s)]\n",
    "df_all_list = []\n",
    "activity_codes = {'dws':0,'jog':1,'sit':2,'std':3,'ups':4,'wlk':5}\n",
    "activity_types = list(activity_codes.keys())\n",
    "\n",
    "print(folders)\n",
    "\n",
    "for j in folders:\n",
    "    #print('j',j)\n",
    "    csv_list = glob(j + '/*')\n",
    "    for i in csv_list:\n",
    "        label = j.split('/')[-1].split('_')[0]\n",
    "        if activity_codes.get(label) == None:\n",
    "            sys.exit(0)\n",
    "        df = pd.read_csv(i)\n",
    "        df['activity'] = activity_codes[label]\n",
    "        df['sub_num'] = i[len(j)+5:-4]\n",
    "        expnum = np.zeros(df.shape[0])\n",
    "        df_all_list.append(df)\n",
    "df_all = pd.concat(df_all_list,axis=0)\n",
    "df_all = df_all.drop('Unnamed: 0',axis=1)\n",
    "print(df_all.shape)\n",
    "print(df_all.columns)\n",
    "print(df.head(5))"
   ]
  },
  {
   "cell_type": "markdown",
   "id": "22985873-1a02-43c4-a7bc-02249605dc7c",
   "metadata": {},
   "source": [
    "## Feature extraction ##\n",
    "\n",
    "Each sample will be divided into 180 windows, inside each window we calculate min max mean std mad in time domain\n",
    "We will get a 180 * 30 'image'\n",
    "We should get 360 such samples"
   ]
  },
  {
   "cell_type": "code",
   "execution_count": 4,
   "id": "8d130d9d-b0c6-4440-9fad-f5891084c703",
   "metadata": {},
   "outputs": [
    {
     "name": "stdout",
     "output_type": "stream",
     "text": [
      "(360, 180, 30)\n",
      "(360,)\n"
     ]
    }
   ],
   "source": [
    "win_count = 180\n",
    "data_all_x_list = []\n",
    "data_all_y_list = []\n",
    "for j in folders:\n",
    "    csv_list = glob(j + '/*')\n",
    "    label = j.split('/')[-1].split('_')[0]\n",
    "    for i in csv_list:\n",
    "        df = pd.read_csv(i, usecols = ['gravity.x','gravity.y', 'gravity.z','userAcceleration.x','userAcceleration.y','userAcceleration.z'])\n",
    "        segment_size = int(df.shape[0]/win_count)\n",
    "        data_x = np.zeros((1, win_count, df.shape[1] * 5))\n",
    "        data_y = np.zeros(1)\n",
    "        for c in range(win_count):\n",
    "            start_idx = c * segment_size\n",
    "            end_idx = start_idx + segment_size\n",
    "            temp_list = []\n",
    "            means = df[start_idx:end_idx].mean().to_numpy()\n",
    "            stds = df[start_idx:end_idx].mean().to_numpy()\n",
    "            mins = df[start_idx:end_idx].min().to_numpy()\n",
    "            maxs = df[start_idx:end_idx].max().to_numpy()\n",
    "            mads = df[start_idx:end_idx].mad().to_numpy()\n",
    "            temp_list.append(means)\n",
    "            temp_list.append(stds)\n",
    "            temp_list.append(mins)\n",
    "            temp_list.append(maxs)\n",
    "            temp_list.append(mads)\n",
    "            temp_list = np.concatenate(temp_list, axis = 0)\n",
    "            data_x[0][c] = temp_list\n",
    "            data_y[0] = activity_codes[label]\n",
    "#         print(data_x.shape)\n",
    "#         sys.exit(0)\n",
    "        data_all_x_list.append(data_x)\n",
    "        data_all_y_list.append(data_y)\n",
    "data_all_x = np.concatenate(data_all_x_list,axis=0)\n",
    "data_all_y = np.concatenate(data_all_y_list,axis=0)\n",
    "data_all_y = data_all_y.astype(int)\n",
    "print(data_all_x.shape)\n",
    "print(data_all_y.shape)"
   ]
  },
  {
   "cell_type": "markdown",
   "id": "8f702ce2-d9e5-4f2d-aa82-f4729a6df457",
   "metadata": {},
   "source": [
    "## Train ##"
   ]
  },
  {
   "cell_type": "code",
   "execution_count": 58,
   "id": "b9eb3208-9f5d-4d90-9546-54a340b15298",
   "metadata": {},
   "outputs": [
    {
     "name": "stdout",
     "output_type": "stream",
     "text": [
      "259 72 29\n"
     ]
    }
   ],
   "source": [
    "train_x_temp,test_x,train_y_temp,test_y = train_test_split(data_all_x,data_all_y,test_size=0.2)\n",
    "train_x,val_x,train_y,val_y = train_test_split(train_x_temp,train_y_temp,test_size=0.1)\n",
    "assert(len(train_x) == len(train_y))\n",
    "print(len(train_x), len(test_x),len(val_x))"
   ]
  },
  {
   "cell_type": "code",
   "execution_count": 59,
   "id": "df175345-03b5-4c33-bb17-fa0f3cca8c0b",
   "metadata": {},
   "outputs": [],
   "source": [
    "# val_y = np.asarray(val_y).astype('float32').reshape((-1,1))\n",
    "# train_y = np.asarray(train_y).astype('float32').reshape((-1,1))\n",
    "# test_y = np.asarray(test_y).astype('float32').reshape((-1,1))\n",
    "train_x = tf.convert_to_tensor(train_x, dtype=tf.float32)\n",
    "test_x = tf.convert_to_tensor(test_x, dtype=tf.float32)\n",
    "val_x = tf.convert_to_tensor(val_x, dtype=tf.float32)\n",
    "train_y = tf.convert_to_tensor(tf.keras.utils.to_categorical(train_y,  num_classes=6), dtype=tf.float32)\n",
    "test_y = tf.convert_to_tensor(tf.keras.utils.to_categorical(test_y,  num_classes=6), dtype=tf.float32)\n",
    "val_y = tf.convert_to_tensor(tf.keras.utils.to_categorical(val_y,  num_classes=6), dtype=tf.float32)"
   ]
  },
  {
   "cell_type": "code",
   "execution_count": 60,
   "id": "9c93aa9c-adbe-49d0-93ad-ee6cb65eed85",
   "metadata": {},
   "outputs": [],
   "source": [
    "train_dataset = tf.data.Dataset.from_tensor_slices((train_x, train_y))\n",
    "val_dataset = tf.data.Dataset.from_tensor_slices((val_x, val_y))\n",
    "test_dataset = tf.data.Dataset.from_tensor_slices((test_x, test_y))"
   ]
  },
  {
   "cell_type": "code",
   "execution_count": 61,
   "id": "3e6dbfdb-f969-4350-a32b-fc50ff0c2145",
   "metadata": {},
   "outputs": [],
   "source": [
    "BATCH_SIZE = 32\n",
    "SHUFFLE_BUFFER_SIZE = 100\n",
    "\n",
    "train_dataset = train_dataset.shuffle(SHUFFLE_BUFFER_SIZE).batch(BATCH_SIZE)\n",
    "val_dataset = val_dataset.shuffle(SHUFFLE_BUFFER_SIZE).batch(BATCH_SIZE)\n",
    "test_dataset = test_dataset.batch(BATCH_SIZE)"
   ]
  },
  {
   "cell_type": "code",
   "execution_count": 62,
   "id": "3e0a2df2-c920-4688-a5bc-e8def119efc3",
   "metadata": {},
   "outputs": [
    {
     "name": "stdout",
     "output_type": "stream",
     "text": [
      "(29, 180, 30)\n",
      "(29, 6)\n"
     ]
    }
   ],
   "source": [
    "for i,j in val_dataset.take(1):\n",
    "    print(i.numpy().shape)\n",
    "    print(j.numpy().shape)"
   ]
  },
  {
   "cell_type": "code",
   "execution_count": 63,
   "id": "b4741973-4adc-4446-bbbc-a4543a6e2f92",
   "metadata": {},
   "outputs": [
    {
     "name": "stdout",
     "output_type": "stream",
     "text": [
      "Model: \"sequential_9\"\n",
      "_________________________________________________________________\n",
      "Layer (type)                 Output Shape              Param #   \n",
      "=================================================================\n",
      "conv1d_28 (Conv1D)           (None, 178, 32)           2912      \n",
      "_________________________________________________________________\n",
      "max_pooling1d_27 (MaxPooling (None, 89, 32)            0         \n",
      "_________________________________________________________________\n",
      "conv1d_29 (Conv1D)           (None, 87, 32)            3104      \n",
      "_________________________________________________________________\n",
      "max_pooling1d_28 (MaxPooling (None, 43, 32)            0         \n",
      "_________________________________________________________________\n",
      "conv1d_30 (Conv1D)           (None, 41, 32)            3104      \n",
      "_________________________________________________________________\n",
      "max_pooling1d_29 (MaxPooling (None, 20, 32)            0         \n",
      "_________________________________________________________________\n",
      "flatten_9 (Flatten)          (None, 640)               0         \n",
      "_________________________________________________________________\n",
      "dense_18 (Dense)             (None, 64)                41024     \n",
      "_________________________________________________________________\n",
      "dropout_8 (Dropout)          (None, 64)                0         \n",
      "_________________________________________________________________\n",
      "dense_19 (Dense)             (None, 6)                 390       \n",
      "=================================================================\n",
      "Total params: 50,534\n",
      "Trainable params: 50,534\n",
      "Non-trainable params: 0\n",
      "_________________________________________________________________\n"
     ]
    }
   ],
   "source": [
    "num_classes = 6\n",
    "\n",
    "model = tf.keras.Sequential([\n",
    "    tf.keras.layers.Conv1D(32, 3, activation='relu',input_shape = (180,30)),\n",
    "    tf.keras.layers.MaxPooling1D(),\n",
    "    tf.keras.layers.Conv1D(32, 3, activation='relu'),\n",
    "    tf.keras.layers.MaxPooling1D(),\n",
    "    tf.keras.layers.Conv1D(32, 3, activation='relu'),\n",
    "    tf.keras.layers.MaxPooling1D(),\n",
    "    tf.keras.layers.Flatten(input_shape = (180,30)),\n",
    "    tf.keras.layers.Dense(64, activation='sigmoid'),\n",
    "    tf.keras.layers.Dropout(0.2),\n",
    "    tf.keras.layers.Dense(num_classes)\n",
    "])\n",
    "\n",
    "model.summary()"
   ]
  },
  {
   "cell_type": "code",
   "execution_count": 64,
   "id": "054e4a23-fd5f-4923-b7c4-08d696342acf",
   "metadata": {},
   "outputs": [],
   "source": [
    "model.compile(optimizer='adam',\n",
    "              loss=tf.keras.losses.CategoricalCrossentropy(from_logits=True),\n",
    "              metrics=['accuracy'])"
   ]
  },
  {
   "cell_type": "code",
   "execution_count": 65,
   "id": "85e222a6-686d-4abb-bb97-ded8f4f4fb35",
   "metadata": {},
   "outputs": [
    {
     "name": "stdout",
     "output_type": "stream",
     "text": [
      "Epoch 1/15\n",
      "9/9 [==============================] - 1s 35ms/step - loss: 1.7454 - accuracy: 0.2510 - val_loss: 1.5085 - val_accuracy: 0.4483\n",
      "Epoch 2/15\n",
      "9/9 [==============================] - 0s 11ms/step - loss: 1.5274 - accuracy: 0.3243 - val_loss: 1.3155 - val_accuracy: 0.5862\n",
      "Epoch 3/15\n",
      "9/9 [==============================] - 0s 11ms/step - loss: 1.2957 - accuracy: 0.5251 - val_loss: 1.0746 - val_accuracy: 0.7586\n",
      "Epoch 4/15\n",
      "9/9 [==============================] - 0s 12ms/step - loss: 1.1234 - accuracy: 0.5560 - val_loss: 0.9455 - val_accuracy: 0.7586\n",
      "Epoch 5/15\n",
      "9/9 [==============================] - 0s 11ms/step - loss: 0.9445 - accuracy: 0.6641 - val_loss: 0.7662 - val_accuracy: 0.6897\n",
      "Epoch 6/15\n",
      "9/9 [==============================] - 0s 12ms/step - loss: 0.8363 - accuracy: 0.6525 - val_loss: 0.7182 - val_accuracy: 0.7931\n",
      "Epoch 7/15\n",
      "9/9 [==============================] - 0s 14ms/step - loss: 0.7410 - accuracy: 0.7066 - val_loss: 0.6396 - val_accuracy: 0.8276\n",
      "Epoch 8/15\n",
      "9/9 [==============================] - 0s 16ms/step - loss: 0.6736 - accuracy: 0.7568 - val_loss: 0.6162 - val_accuracy: 0.8276\n",
      "Epoch 9/15\n",
      "9/9 [==============================] - 0s 12ms/step - loss: 0.6392 - accuracy: 0.7799 - val_loss: 0.6059 - val_accuracy: 0.8621\n",
      "Epoch 10/15\n",
      "9/9 [==============================] - 0s 12ms/step - loss: 0.6179 - accuracy: 0.7490 - val_loss: 0.6189 - val_accuracy: 0.7586\n",
      "Epoch 11/15\n",
      "9/9 [==============================] - 0s 12ms/step - loss: 0.5535 - accuracy: 0.8185 - val_loss: 0.5385 - val_accuracy: 0.8621\n",
      "Epoch 12/15\n",
      "9/9 [==============================] - 0s 17ms/step - loss: 0.4814 - accuracy: 0.8649 - val_loss: 0.5132 - val_accuracy: 0.8276\n",
      "Epoch 13/15\n",
      "9/9 [==============================] - 0s 16ms/step - loss: 0.4336 - accuracy: 0.8571 - val_loss: 0.4711 - val_accuracy: 0.8276\n",
      "Epoch 14/15\n",
      "9/9 [==============================] - 0s 13ms/step - loss: 0.3889 - accuracy: 0.8919 - val_loss: 0.4412 - val_accuracy: 0.8621\n",
      "Epoch 15/15\n",
      "9/9 [==============================] - 0s 12ms/step - loss: 0.3652 - accuracy: 0.8803 - val_loss: 0.4169 - val_accuracy: 0.8276\n"
     ]
    }
   ],
   "source": [
    "epochs = 15\n",
    "history = model.fit(\n",
    "    train_dataset,\n",
    "    validation_data=val_dataset,\n",
    "    epochs=epochs\n",
    ")"
   ]
  },
  {
   "cell_type": "code",
   "execution_count": 66,
   "id": "966704f8-d2a1-47ec-9d95-4cc5e5b0da49",
   "metadata": {},
   "outputs": [
    {
     "data": {
      "image/png": "[encoded data removed]",
      "text/plain": [
       "<Figure size 576x576 with 2 Axes>"
      ]
     },
     "metadata": {
      "needs_background": "light"
     },
     "output_type": "display_data"
    }
   ],
   "source": [
    "acc = history.history['accuracy']\n",
    "val_acc = history.history['val_accuracy']\n",
    "\n",
    "loss = history.history['loss']\n",
    "val_loss = history.history['val_loss']\n",
    "\n",
    "epochs_range = range(epochs)\n",
    "\n",
    "plt.figure(figsize=(8, 8))\n",
    "plt.subplot(1, 2, 1)\n",
    "plt.plot(epochs_range, acc, label='Training Accuracy')\n",
    "plt.plot(epochs_range, val_acc, label='Validation Accuracy')\n",
    "plt.legend(loc='lower right')\n",
    "plt.title('Training and Validation Accuracy')\n",
    "\n",
    "plt.subplot(1, 2, 2)\n",
    "plt.plot(epochs_range, loss, label='Training Loss')\n",
    "plt.plot(epochs_range, val_loss, label='Validation Loss')\n",
    "plt.legend(loc='upper right')\n",
    "plt.title('Training and Validation Loss')\n",
    "plt.show()"
   ]
  },
  {
   "cell_type": "code",
   "execution_count": 68,
   "id": "805fa4f0-7387-445c-9fc1-51efdf96255f",
   "metadata": {},
   "outputs": [],
   "source": [
    "model.save('kumori.h5')"
   ]
  },
  {
   "cell_type": "markdown",
   "id": "6898e572-97d1-4d6e-a1cd-a237bc304625",
   "metadata": {},
   "source": [
    "## Test ##"
   ]
  },
  {
   "cell_type": "code",
   "execution_count": 69,
   "id": "f956de4f-bf81-4e09-a6a2-bf2988c9702d",
   "metadata": {},
   "outputs": [
    {
     "name": "stdout",
     "output_type": "stream",
     "text": [
      "3/3 [==============================] - 0s 8ms/step - loss: 0.5040 - accuracy: 0.8056\n"
     ]
    },
    {
     "data": {
      "text/plain": [
       "[0.5040113925933838, 0.8055555820465088]"
      ]
     },
     "execution_count": 69,
     "metadata": {},
     "output_type": "execute_result"
    }
   ],
   "source": [
    "model.evaluate(test_dataset,batch_size = BATCH_SIZE)"
   ]
  },
  {
   "cell_type": "code",
   "execution_count": null,
   "id": "7fc5f97a-6623-4075-aa6e-1fe70e49085e",
   "metadata": {},
   "outputs": [],
   "source": []
  }
 ],
 "metadata": {
  "kernelspec": {
   "display_name": "Python 3 (ipykernel)",
   "language": "python",
   "name": "python3"
  },
  "language_info": {
   "codemirror_mode": {
    "name": "ipython",
    "version": 3
   },
   "file_extension": ".py",
   "mimetype": "text/x-python",
   "name": "python",
   "nbconvert_exporter": "python",
   "pygments_lexer": "ipython3",
   "version": "3.8.11"
  }
 },
 "nbformat": 4,
 "nbformat_minor": 5
}
