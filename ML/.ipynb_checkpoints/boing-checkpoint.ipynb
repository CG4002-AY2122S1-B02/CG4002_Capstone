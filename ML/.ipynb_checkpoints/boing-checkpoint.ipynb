{
  "nbformat": 4,
  "nbformat_minor": 5,
  "metadata": {
    "accelerator": "GPU",
    "colab": {
      "name": "boing.ipynb",
      "provenance": [],
      "collapsed_sections": [
        "A4HzhjE7_xf5"
      ]
    },
    "kernelspec": {
      "display_name": "Python 3 (ipykernel)",
      "language": "python",
      "name": "python3"
    },
    "language_info": {
      "codemirror_mode": {
        "name": "ipython",
        "version": 3
      },
      "file_extension": ".py",
      "mimetype": "text/x-python",
      "name": "python",
      "nbconvert_exporter": "python",
      "pygments_lexer": "ipython3",
      "version": "3.8.11"
    },
    "widgets": {
      "application/vnd.jupyter.widget-state+json": {
        "f70773b691ea4808a59cdfe9186c67c8": {
          "model_module": "@jupyter-widgets/controls",
          "model_name": "HBoxModel",
          "model_module_version": "1.5.0",
          "state": {
            "_view_name": "HBoxView",
            "_dom_classes": [],
            "_model_name": "HBoxModel",
            "_view_module": "@jupyter-widgets/controls",
            "_model_module_version": "1.5.0",
            "_view_count": null,
            "_view_module_version": "1.5.0",
            "box_style": "",
            "layout": "IPY_MODEL_8551b81f860342b8ba8755fd862852b9",
            "_model_module": "@jupyter-widgets/controls",
            "children": [
              "IPY_MODEL_0a82ce451bcd45d898aad963cc53df8a",
              "IPY_MODEL_37a5d4f796014d03b2a49f069e5bc523",
              "IPY_MODEL_5520f1a9bcb24f8d9402ef9b7ecad549"
            ]
          }
        },
        "8551b81f860342b8ba8755fd862852b9": {
          "model_module": "@jupyter-widgets/base",
          "model_name": "LayoutModel",
          "model_module_version": "1.2.0",
          "state": {
            "_view_name": "LayoutView",
            "grid_template_rows": null,
            "right": null,
            "justify_content": null,
            "_view_module": "@jupyter-widgets/base",
            "overflow": null,
            "_model_module_version": "1.2.0",
            "_view_count": null,
            "flex_flow": null,
            "width": null,
            "min_width": null,
            "border": null,
            "align_items": null,
            "bottom": null,
            "_model_module": "@jupyter-widgets/base",
            "top": null,
            "grid_column": null,
            "overflow_y": null,
            "overflow_x": null,
            "grid_auto_flow": null,
            "grid_area": null,
            "grid_template_columns": null,
            "flex": null,
            "_model_name": "LayoutModel",
            "justify_items": null,
            "grid_row": null,
            "max_height": null,
            "align_content": null,
            "visibility": null,
            "align_self": null,
            "height": null,
            "min_height": null,
            "padding": null,
            "grid_auto_rows": null,
            "grid_gap": null,
            "max_width": null,
            "order": null,
            "_view_module_version": "1.2.0",
            "grid_template_areas": null,
            "object_position": null,
            "object_fit": null,
            "grid_auto_columns": null,
            "margin": null,
            "display": null,
            "left": null
          }
        },
        "0a82ce451bcd45d898aad963cc53df8a": {
          "model_module": "@jupyter-widgets/controls",
          "model_name": "HTMLModel",
          "model_module_version": "1.5.0",
          "state": {
            "_view_name": "HTMLView",
            "style": "IPY_MODEL_2bae5121996647578d25d275654a866e",
            "_dom_classes": [],
            "description": "",
            "_model_name": "HTMLModel",
            "placeholder": "​",
            "_view_module": "@jupyter-widgets/controls",
            "_model_module_version": "1.5.0",
            "value": "",
            "_view_count": null,
            "_view_module_version": "1.5.0",
            "description_tooltip": null,
            "_model_module": "@jupyter-widgets/controls",
            "layout": "IPY_MODEL_c924cff22ee34d3fba68f89723ddffd5"
          }
        },
        "37a5d4f796014d03b2a49f069e5bc523": {
          "model_module": "@jupyter-widgets/controls",
          "model_name": "FloatProgressModel",
          "model_module_version": "1.5.0",
          "state": {
            "_view_name": "ProgressView",
            "style": "IPY_MODEL_b0f667c6bb29458e8e8e38f58daf966b",
            "_dom_classes": [],
            "description": "",
            "_model_name": "FloatProgressModel",
            "bar_style": "success",
            "max": 1,
            "_view_module": "@jupyter-widgets/controls",
            "_model_module_version": "1.5.0",
            "value": 1,
            "_view_count": null,
            "_view_module_version": "1.5.0",
            "orientation": "horizontal",
            "min": 0,
            "description_tooltip": null,
            "_model_module": "@jupyter-widgets/controls",
            "layout": "IPY_MODEL_d1ac7ac23e8c4c598ff646baee5e2a14"
          }
        },
        "5520f1a9bcb24f8d9402ef9b7ecad549": {
          "model_module": "@jupyter-widgets/controls",
          "model_name": "HTMLModel",
          "model_module_version": "1.5.0",
          "state": {
            "_view_name": "HTMLView",
            "style": "IPY_MODEL_3a4d6f20c98d4c8b876663d1b1b8b18d",
            "_dom_classes": [],
            "description": "",
            "_model_name": "HTMLModel",
            "placeholder": "​",
            "_view_module": "@jupyter-widgets/controls",
            "_model_module_version": "1.5.0",
            "value": " 5/? [00:37&lt;00:00,  6.70s/it]",
            "_view_count": null,
            "_view_module_version": "1.5.0",
            "description_tooltip": null,
            "_model_module": "@jupyter-widgets/controls",
            "layout": "IPY_MODEL_0db0c552e79a46078c34932048edb798"
          }
        },
        "2bae5121996647578d25d275654a866e": {
          "model_module": "@jupyter-widgets/controls",
          "model_name": "DescriptionStyleModel",
          "model_module_version": "1.5.0",
          "state": {
            "_view_name": "StyleView",
            "_model_name": "DescriptionStyleModel",
            "description_width": "",
            "_view_module": "@jupyter-widgets/base",
            "_model_module_version": "1.5.0",
            "_view_count": null,
            "_view_module_version": "1.2.0",
            "_model_module": "@jupyter-widgets/controls"
          }
        },
        "c924cff22ee34d3fba68f89723ddffd5": {
          "model_module": "@jupyter-widgets/base",
          "model_name": "LayoutModel",
          "model_module_version": "1.2.0",
          "state": {
            "_view_name": "LayoutView",
            "grid_template_rows": null,
            "right": null,
            "justify_content": null,
            "_view_module": "@jupyter-widgets/base",
            "overflow": null,
            "_model_module_version": "1.2.0",
            "_view_count": null,
            "flex_flow": null,
            "width": null,
            "min_width": null,
            "border": null,
            "align_items": null,
            "bottom": null,
            "_model_module": "@jupyter-widgets/base",
            "top": null,
            "grid_column": null,
            "overflow_y": null,
            "overflow_x": null,
            "grid_auto_flow": null,
            "grid_area": null,
            "grid_template_columns": null,
            "flex": null,
            "_model_name": "LayoutModel",
            "justify_items": null,
            "grid_row": null,
            "max_height": null,
            "align_content": null,
            "visibility": null,
            "align_self": null,
            "height": null,
            "min_height": null,
            "padding": null,
            "grid_auto_rows": null,
            "grid_gap": null,
            "max_width": null,
            "order": null,
            "_view_module_version": "1.2.0",
            "grid_template_areas": null,
            "object_position": null,
            "object_fit": null,
            "grid_auto_columns": null,
            "margin": null,
            "display": null,
            "left": null
          }
        },
        "b0f667c6bb29458e8e8e38f58daf966b": {
          "model_module": "@jupyter-widgets/controls",
          "model_name": "ProgressStyleModel",
          "model_module_version": "1.5.0",
          "state": {
            "_view_name": "StyleView",
            "_model_name": "ProgressStyleModel",
            "description_width": "",
            "_view_module": "@jupyter-widgets/base",
            "_model_module_version": "1.5.0",
            "_view_count": null,
            "_view_module_version": "1.2.0",
            "bar_color": null,
            "_model_module": "@jupyter-widgets/controls"
          }
        },
        "d1ac7ac23e8c4c598ff646baee5e2a14": {
          "model_module": "@jupyter-widgets/base",
          "model_name": "LayoutModel",
          "model_module_version": "1.2.0",
          "state": {
            "_view_name": "LayoutView",
            "grid_template_rows": null,
            "right": null,
            "justify_content": null,
            "_view_module": "@jupyter-widgets/base",
            "overflow": null,
            "_model_module_version": "1.2.0",
            "_view_count": null,
            "flex_flow": null,
            "width": "20px",
            "min_width": null,
            "border": null,
            "align_items": null,
            "bottom": null,
            "_model_module": "@jupyter-widgets/base",
            "top": null,
            "grid_column": null,
            "overflow_y": null,
            "overflow_x": null,
            "grid_auto_flow": null,
            "grid_area": null,
            "grid_template_columns": null,
            "flex": null,
            "_model_name": "LayoutModel",
            "justify_items": null,
            "grid_row": null,
            "max_height": null,
            "align_content": null,
            "visibility": null,
            "align_self": null,
            "height": null,
            "min_height": null,
            "padding": null,
            "grid_auto_rows": null,
            "grid_gap": null,
            "max_width": null,
            "order": null,
            "_view_module_version": "1.2.0",
            "grid_template_areas": null,
            "object_position": null,
            "object_fit": null,
            "grid_auto_columns": null,
            "margin": null,
            "display": null,
            "left": null
          }
        },
        "3a4d6f20c98d4c8b876663d1b1b8b18d": {
          "model_module": "@jupyter-widgets/controls",
          "model_name": "DescriptionStyleModel",
          "model_module_version": "1.5.0",
          "state": {
            "_view_name": "StyleView",
            "_model_name": "DescriptionStyleModel",
            "description_width": "",
            "_view_module": "@jupyter-widgets/base",
            "_model_module_version": "1.5.0",
            "_view_count": null,
            "_view_module_version": "1.2.0",
            "_model_module": "@jupyter-widgets/controls"
          }
        },
        "0db0c552e79a46078c34932048edb798": {
          "model_module": "@jupyter-widgets/base",
          "model_name": "LayoutModel",
          "model_module_version": "1.2.0",
          "state": {
            "_view_name": "LayoutView",
            "grid_template_rows": null,
            "right": null,
            "justify_content": null,
            "_view_module": "@jupyter-widgets/base",
            "overflow": null,
            "_model_module_version": "1.2.0",
            "_view_count": null,
            "flex_flow": null,
            "width": null,
            "min_width": null,
            "border": null,
            "align_items": null,
            "bottom": null,
            "_model_module": "@jupyter-widgets/base",
            "top": null,
            "grid_column": null,
            "overflow_y": null,
            "overflow_x": null,
            "grid_auto_flow": null,
            "grid_area": null,
            "grid_template_columns": null,
            "flex": null,
            "_model_name": "LayoutModel",
            "justify_items": null,
            "grid_row": null,
            "max_height": null,
            "align_content": null,
            "visibility": null,
            "align_self": null,
            "height": null,
            "min_height": null,
            "padding": null,
            "grid_auto_rows": null,
            "grid_gap": null,
            "max_width": null,
            "order": null,
            "_view_module_version": "1.2.0",
            "grid_template_areas": null,
            "object_position": null,
            "object_fit": null,
            "grid_auto_columns": null,
            "margin": null,
            "display": null,
            "left": null
          }
        }
      }
    }
  },
  "cells": [
    {
      "cell_type": "markdown",
      "metadata": {
        "id": "122bdd2a-e16a-4bf7-b4bc-87a4b92c2660"
      },
      "source": [
        "# Boing boing: Dance Motion Detectionn #\n",
        "\n",
        "## CNN version 0.1 Date: 2021.9.1 ##"
      ],
      "id": "122bdd2a-e16a-4bf7-b4bc-87a4b92c2660"
    },
    {
      "cell_type": "code",
      "metadata": {
        "colab": {
          "base_uri": "https://localhost:8080/"
        },
        "id": "uklW6YXii4Y_",
        "outputId": "03799db8-6801-439d-96d4-4ead06220df8"
      },
      "source": [
        "pip install tensorflow-addons"
      ],
      "id": "uklW6YXii4Y_",
      "execution_count": null,
      "outputs": [
        {
          "output_type": "stream",
          "name": "stdout",
          "text": [
            "Collecting tensorflow-addons\n",
            "  Downloading tensorflow_addons-0.14.0-cp37-cp37m-manylinux_2_12_x86_64.manylinux2010_x86_64.whl (1.1 MB)\n",
            "\u001b[?25l\r\u001b[K     |▎                               | 10 kB 27.8 MB/s eta 0:00:01\r\u001b[K     |▋                               | 20 kB 33.0 MB/s eta 0:00:01\r\u001b[K     |▉                               | 30 kB 22.2 MB/s eta 0:00:01\r\u001b[K     |█▏                              | 40 kB 18.0 MB/s eta 0:00:01\r\u001b[K     |█▌                              | 51 kB 16.1 MB/s eta 0:00:01\r\u001b[K     |█▊                              | 61 kB 13.6 MB/s eta 0:00:01\r\u001b[K     |██                              | 71 kB 13.0 MB/s eta 0:00:01\r\u001b[K     |██▍                             | 81 kB 14.2 MB/s eta 0:00:01\r\u001b[K     |██▋                             | 92 kB 14.8 MB/s eta 0:00:01\r\u001b[K     |███                             | 102 kB 13.3 MB/s eta 0:00:01\r\u001b[K     |███▎                            | 112 kB 13.3 MB/s eta 0:00:01\r\u001b[K     |███▌                            | 122 kB 13.3 MB/s eta 0:00:01\r\u001b[K     |███▉                            | 133 kB 13.3 MB/s eta 0:00:01\r\u001b[K     |████▏                           | 143 kB 13.3 MB/s eta 0:00:01\r\u001b[K     |████▍                           | 153 kB 13.3 MB/s eta 0:00:01\r\u001b[K     |████▊                           | 163 kB 13.3 MB/s eta 0:00:01\r\u001b[K     |█████                           | 174 kB 13.3 MB/s eta 0:00:01\r\u001b[K     |█████▎                          | 184 kB 13.3 MB/s eta 0:00:01\r\u001b[K     |█████▋                          | 194 kB 13.3 MB/s eta 0:00:01\r\u001b[K     |██████                          | 204 kB 13.3 MB/s eta 0:00:01\r\u001b[K     |██████▏                         | 215 kB 13.3 MB/s eta 0:00:01\r\u001b[K     |██████▌                         | 225 kB 13.3 MB/s eta 0:00:01\r\u001b[K     |██████▉                         | 235 kB 13.3 MB/s eta 0:00:01\r\u001b[K     |███████                         | 245 kB 13.3 MB/s eta 0:00:01\r\u001b[K     |███████▍                        | 256 kB 13.3 MB/s eta 0:00:01\r\u001b[K     |███████▊                        | 266 kB 13.3 MB/s eta 0:00:01\r\u001b[K     |████████                        | 276 kB 13.3 MB/s eta 0:00:01\r\u001b[K     |████████▎                       | 286 kB 13.3 MB/s eta 0:00:01\r\u001b[K     |████████▋                       | 296 kB 13.3 MB/s eta 0:00:01\r\u001b[K     |████████▉                       | 307 kB 13.3 MB/s eta 0:00:01\r\u001b[K     |█████████▏                      | 317 kB 13.3 MB/s eta 0:00:01\r\u001b[K     |█████████▌                      | 327 kB 13.3 MB/s eta 0:00:01\r\u001b[K     |█████████▊                      | 337 kB 13.3 MB/s eta 0:00:01\r\u001b[K     |██████████                      | 348 kB 13.3 MB/s eta 0:00:01\r\u001b[K     |██████████▍                     | 358 kB 13.3 MB/s eta 0:00:01\r\u001b[K     |██████████▋                     | 368 kB 13.3 MB/s eta 0:00:01\r\u001b[K     |███████████                     | 378 kB 13.3 MB/s eta 0:00:01\r\u001b[K     |███████████▎                    | 389 kB 13.3 MB/s eta 0:00:01\r\u001b[K     |███████████▌                    | 399 kB 13.3 MB/s eta 0:00:01\r\u001b[K     |███████████▉                    | 409 kB 13.3 MB/s eta 0:00:01\r\u001b[K     |████████████▏                   | 419 kB 13.3 MB/s eta 0:00:01\r\u001b[K     |████████████▍                   | 430 kB 13.3 MB/s eta 0:00:01\r\u001b[K     |████████████▊                   | 440 kB 13.3 MB/s eta 0:00:01\r\u001b[K     |█████████████                   | 450 kB 13.3 MB/s eta 0:00:01\r\u001b[K     |█████████████▎                  | 460 kB 13.3 MB/s eta 0:00:01\r\u001b[K     |█████████████▋                  | 471 kB 13.3 MB/s eta 0:00:01\r\u001b[K     |██████████████                  | 481 kB 13.3 MB/s eta 0:00:01\r\u001b[K     |██████████████▏                 | 491 kB 13.3 MB/s eta 0:00:01\r\u001b[K     |██████████████▌                 | 501 kB 13.3 MB/s eta 0:00:01\r\u001b[K     |██████████████▉                 | 512 kB 13.3 MB/s eta 0:00:01\r\u001b[K     |███████████████                 | 522 kB 13.3 MB/s eta 0:00:01\r\u001b[K     |███████████████▍                | 532 kB 13.3 MB/s eta 0:00:01\r\u001b[K     |███████████████▊                | 542 kB 13.3 MB/s eta 0:00:01\r\u001b[K     |████████████████                | 552 kB 13.3 MB/s eta 0:00:01\r\u001b[K     |████████████████▎               | 563 kB 13.3 MB/s eta 0:00:01\r\u001b[K     |████████████████▋               | 573 kB 13.3 MB/s eta 0:00:01\r\u001b[K     |████████████████▉               | 583 kB 13.3 MB/s eta 0:00:01\r\u001b[K     |█████████████████▏              | 593 kB 13.3 MB/s eta 0:00:01\r\u001b[K     |█████████████████▌              | 604 kB 13.3 MB/s eta 0:00:01\r\u001b[K     |█████████████████▊              | 614 kB 13.3 MB/s eta 0:00:01\r\u001b[K     |██████████████████              | 624 kB 13.3 MB/s eta 0:00:01\r\u001b[K     |██████████████████▍             | 634 kB 13.3 MB/s eta 0:00:01\r\u001b[K     |██████████████████▋             | 645 kB 13.3 MB/s eta 0:00:01\r\u001b[K     |███████████████████             | 655 kB 13.3 MB/s eta 0:00:01\r\u001b[K     |███████████████████▎            | 665 kB 13.3 MB/s eta 0:00:01\r\u001b[K     |███████████████████▌            | 675 kB 13.3 MB/s eta 0:00:01\r\u001b[K     |███████████████████▉            | 686 kB 13.3 MB/s eta 0:00:01\r\u001b[K     |████████████████████▏           | 696 kB 13.3 MB/s eta 0:00:01\r\u001b[K     |████████████████████▍           | 706 kB 13.3 MB/s eta 0:00:01\r\u001b[K     |████████████████████▊           | 716 kB 13.3 MB/s eta 0:00:01\r\u001b[K     |█████████████████████           | 727 kB 13.3 MB/s eta 0:00:01\r\u001b[K     |█████████████████████▎          | 737 kB 13.3 MB/s eta 0:00:01\r\u001b[K     |█████████████████████▋          | 747 kB 13.3 MB/s eta 0:00:01\r\u001b[K     |██████████████████████          | 757 kB 13.3 MB/s eta 0:00:01\r\u001b[K     |██████████████████████▏         | 768 kB 13.3 MB/s eta 0:00:01\r\u001b[K     |██████████████████████▌         | 778 kB 13.3 MB/s eta 0:00:01\r\u001b[K     |██████████████████████▉         | 788 kB 13.3 MB/s eta 0:00:01\r\u001b[K     |███████████████████████         | 798 kB 13.3 MB/s eta 0:00:01\r\u001b[K     |███████████████████████▍        | 808 kB 13.3 MB/s eta 0:00:01\r\u001b[K     |███████████████████████▊        | 819 kB 13.3 MB/s eta 0:00:01\r\u001b[K     |████████████████████████        | 829 kB 13.3 MB/s eta 0:00:01\r\u001b[K     |████████████████████████▎       | 839 kB 13.3 MB/s eta 0:00:01\r\u001b[K     |████████████████████████▋       | 849 kB 13.3 MB/s eta 0:00:01\r\u001b[K     |████████████████████████▉       | 860 kB 13.3 MB/s eta 0:00:01\r\u001b[K     |█████████████████████████▏      | 870 kB 13.3 MB/s eta 0:00:01\r\u001b[K     |█████████████████████████▍      | 880 kB 13.3 MB/s eta 0:00:01\r\u001b[K     |█████████████████████████▊      | 890 kB 13.3 MB/s eta 0:00:01\r\u001b[K     |██████████████████████████      | 901 kB 13.3 MB/s eta 0:00:01\r\u001b[K     |██████████████████████████▎     | 911 kB 13.3 MB/s eta 0:00:01\r\u001b[K     |██████████████████████████▋     | 921 kB 13.3 MB/s eta 0:00:01\r\u001b[K     |███████████████████████████     | 931 kB 13.3 MB/s eta 0:00:01\r\u001b[K     |███████████████████████████▏    | 942 kB 13.3 MB/s eta 0:00:01\r\u001b[K     |███████████████████████████▌    | 952 kB 13.3 MB/s eta 0:00:01\r\u001b[K     |███████████████████████████▉    | 962 kB 13.3 MB/s eta 0:00:01\r\u001b[K     |████████████████████████████    | 972 kB 13.3 MB/s eta 0:00:01\r\u001b[K     |████████████████████████████▍   | 983 kB 13.3 MB/s eta 0:00:01\r\u001b[K     |████████████████████████████▊   | 993 kB 13.3 MB/s eta 0:00:01\r\u001b[K     |█████████████████████████████   | 1.0 MB 13.3 MB/s eta 0:00:01\r\u001b[K     |█████████████████████████████▎  | 1.0 MB 13.3 MB/s eta 0:00:01\r\u001b[K     |█████████████████████████████▋  | 1.0 MB 13.3 MB/s eta 0:00:01\r\u001b[K     |█████████████████████████████▉  | 1.0 MB 13.3 MB/s eta 0:00:01\r\u001b[K     |██████████████████████████████▏ | 1.0 MB 13.3 MB/s eta 0:00:01\r\u001b[K     |██████████████████████████████▌ | 1.1 MB 13.3 MB/s eta 0:00:01\r\u001b[K     |██████████████████████████████▊ | 1.1 MB 13.3 MB/s eta 0:00:01\r\u001b[K     |███████████████████████████████ | 1.1 MB 13.3 MB/s eta 0:00:01\r\u001b[K     |███████████████████████████████▍| 1.1 MB 13.3 MB/s eta 0:00:01\r\u001b[K     |███████████████████████████████▋| 1.1 MB 13.3 MB/s eta 0:00:01\r\u001b[K     |████████████████████████████████| 1.1 MB 13.3 MB/s eta 0:00:01\r\u001b[K     |████████████████████████████████| 1.1 MB 13.3 MB/s \n",
            "\u001b[?25hRequirement already satisfied: typeguard>=2.7 in /usr/local/lib/python3.7/dist-packages (from tensorflow-addons) (2.7.1)\n",
            "Installing collected packages: tensorflow-addons\n",
            "Successfully installed tensorflow-addons-0.14.0\n"
          ]
        }
      ]
    },
    {
      "cell_type": "code",
      "metadata": {
        "id": "48528bad-63dc-4b8e-bbff-48714407e946"
      },
      "source": [
        "import os\n",
        "\n",
        "import numpy as np\n",
        "import pandas as pd\n",
        "from glob import glob\n",
        "import matplotlib.pyplot as plt\n",
        "import tensorflow as tf\n",
        "import tensorflow_addons as tfa\n",
        "from tensorflow.keras import layers\n",
        "from tqdm.notebook import tqdm\n",
        "from sklearn.svm import SVC\n",
        "from sklearn.svm import LinearSVC\n",
        "from sklearn.model_selection import GridSearchCV\n",
        "from sklearn.model_selection import cross_validate\n",
        "from sklearn.model_selection import train_test_split\n",
        "from sklearn.model_selection import KFold\n",
        "from sklearn.metrics import f1_score\n",
        "from sklearn.metrics import accuracy_score"
      ],
      "id": "48528bad-63dc-4b8e-bbff-48714407e946",
      "execution_count": null,
      "outputs": []
    },
    {
      "cell_type": "markdown",
      "metadata": {
        "id": "e47ef09e-3862-40e8-a1c1-144ff6ff4b5b"
      },
      "source": [
        "# Load Dateset #"
      ],
      "id": "e47ef09e-3862-40e8-a1c1-144ff6ff4b5b"
    },
    {
      "cell_type": "code",
      "metadata": {
        "colab": {
          "base_uri": "https://localhost:8080/"
        },
        "id": "SVZcOGg14eba",
        "outputId": "c5120cad-cffe-49f2-b6af-d8dce43be321"
      },
      "source": [
        "from google.colab import drive\n",
        "drive.mount('/content/drive')"
      ],
      "id": "SVZcOGg14eba",
      "execution_count": null,
      "outputs": [
        {
          "output_type": "stream",
          "name": "stdout",
          "text": [
            "Mounted at /content/drive\n"
          ]
        }
      ]
    },
    {
      "cell_type": "code",
      "metadata": {
        "colab": {
          "base_uri": "https://localhost:8080/"
        },
        "id": "321b0b55-12fe-4b2e-8f72-39169c854e6e",
        "outputId": "2b5fed55-973e-4dc8-97f8-d4f1c8a4cbfc"
      },
      "source": [
        "data_path = '/content/drive/MyDrive/motionsense_dataset'\n",
        "print(os.listdir(data_path))"
      ],
      "id": "321b0b55-12fe-4b2e-8f72-39169c854e6e",
      "execution_count": null,
      "outputs": [
        {
          "output_type": "stream",
          "name": "stdout",
          "text": [
            "['.DS_Store', 'wlk_15', 'dws_2', 'dws_11', 'std_14', 'wlk_7', 'jog_9', 'wlk_8', 'ups_3', 'sit_13', 'ups_12', 'std_6', 'jog_16', 'dws_1', 'ups_4', 'sit_5']\n"
          ]
        }
      ]
    },
    {
      "cell_type": "code",
      "metadata": {
        "colab": {
          "base_uri": "https://localhost:8080/"
        },
        "id": "6ULrw4SOcmGq",
        "outputId": "e9b9b20f-867d-4b4f-891f-d9aa31238889"
      },
      "source": [
        "folders = glob(os.path.join(data_path,'*_*'))\n",
        "folders = [s for s in folders if (\"csv\" not in s) or (\".DS_Store\" not in s) or (\".ipynb\" not in s)]\n",
        "df_all_list = []\n",
        "activity_codes = {'dws':0,'jog':1,'sit':2,'std':3,'ups':4,'wlk':5}\n",
        "activity_decodes = {0:'dws',1:'jog',2:'sit',3:'std',4:'ups',5:'wlk'}\n",
        "activity_types = list(activity_codes.keys())\n",
        "print(folders)"
      ],
      "id": "6ULrw4SOcmGq",
      "execution_count": null,
      "outputs": [
        {
          "output_type": "stream",
          "name": "stdout",
          "text": [
            "['/content/drive/MyDrive/motionsense_dataset/wlk_15', '/content/drive/MyDrive/motionsense_dataset/dws_2', '/content/drive/MyDrive/motionsense_dataset/dws_11', '/content/drive/MyDrive/motionsense_dataset/std_14', '/content/drive/MyDrive/motionsense_dataset/wlk_7', '/content/drive/MyDrive/motionsense_dataset/jog_9', '/content/drive/MyDrive/motionsense_dataset/wlk_8', '/content/drive/MyDrive/motionsense_dataset/ups_3', '/content/drive/MyDrive/motionsense_dataset/sit_13', '/content/drive/MyDrive/motionsense_dataset/ups_12', '/content/drive/MyDrive/motionsense_dataset/std_6', '/content/drive/MyDrive/motionsense_dataset/jog_16', '/content/drive/MyDrive/motionsense_dataset/dws_1', '/content/drive/MyDrive/motionsense_dataset/ups_4', '/content/drive/MyDrive/motionsense_dataset/sit_5']\n"
          ]
        }
      ]
    },
    {
      "cell_type": "code",
      "metadata": {
        "colab": {
          "base_uri": "https://localhost:8080/"
        },
        "id": "9e712de4-a8d3-4482-adb1-23849a09966e",
        "outputId": "b903e3c6-9c17-42f2-f803-918694c0b0bc"
      },
      "source": [
        "# Load the whole data into a big dataset, this is for data/feature study prupose\n",
        "# For training steps, this code may not be needed\n",
        "for j in folders:\n",
        "    #print('j',j)\n",
        "    csv_list = glob(j + '/*')\n",
        "    for i in csv_list:\n",
        "        label = j.split('/')[-1].split('_')[0]\n",
        "        if activity_codes.get(label) == None:\n",
        "            sys.exit(0)\n",
        "        df = pd.read_csv(i)\n",
        "        df['activity'] = activity_codes[label]\n",
        "        df['sub_num'] = i[len(j)+5:-4]\n",
        "        expnum = np.zeros(df.shape[0])\n",
        "        df_all_list.append(df)\n",
        "df_all = pd.concat(df_all_list,axis=0)\n",
        "df_all = df_all.drop('Unnamed: 0',axis=1)\n",
        "print(df_all.shape)\n",
        "print(df_all.columns)"
      ],
      "id": "9e712de4-a8d3-4482-adb1-23849a09966e",
      "execution_count": null,
      "outputs": [
        {
          "name": "stdout",
          "output_type": "stream",
          "text": [
            "['/content/drive/MyDrive/motionsense_dataset/wlk_15', '/content/drive/MyDrive/motionsense_dataset/dws_2', '/content/drive/MyDrive/motionsense_dataset/dws_11', '/content/drive/MyDrive/motionsense_dataset/std_14', '/content/drive/MyDrive/motionsense_dataset/wlk_7', '/content/drive/MyDrive/motionsense_dataset/jog_9', '/content/drive/MyDrive/motionsense_dataset/wlk_8', '/content/drive/MyDrive/motionsense_dataset/ups_3', '/content/drive/MyDrive/motionsense_dataset/sit_13', '/content/drive/MyDrive/motionsense_dataset/ups_12', '/content/drive/MyDrive/motionsense_dataset/std_6', '/content/drive/MyDrive/motionsense_dataset/jog_16', '/content/drive/MyDrive/motionsense_dataset/dws_1', '/content/drive/MyDrive/motionsense_dataset/ups_4', '/content/drive/MyDrive/motionsense_dataset/sit_5']\n",
            "(1412865, 14)\n",
            "Index(['attitude.roll', 'attitude.pitch', 'attitude.yaw', 'gravity.x',\n",
            "       'gravity.y', 'gravity.z', 'rotationRate.x', 'rotationRate.y',\n",
            "       'rotationRate.z', 'userAcceleration.x', 'userAcceleration.y',\n",
            "       'userAcceleration.z', 'activity', 'sub_num'],\n",
            "      dtype='object')\n",
            "   Unnamed: 0  attitude.roll  ...  activity  sub_num\n",
            "0           0       0.457648  ...         2        9\n",
            "1           1       0.457160  ...         2        9\n",
            "2           2       0.456581  ...         2        9\n",
            "3           3       0.456629  ...         2        9\n",
            "4           4       0.456276  ...         2        9\n",
            "\n",
            "[5 rows x 15 columns]\n"
          ]
        }
      ]
    },
    {
      "cell_type": "markdown",
      "metadata": {
        "id": "22985873-1a02-43c4-a7bc-02249605dc7c"
      },
      "source": [
        "# CNN/MLP: Feature extraction, Train and Test ##\n",
        "\n",
        "There are 24 data objects (people) performing motions. 6 different labels, each has different trials depending on time interval. \n",
        "We should get 24 * 15 = 360 such samples.\n",
        "\n",
        "\n",
        "Long trials: those with number 1 to 9 with around 2 to 3 minutes duration.\n",
        "Short trials: those with number 11 to 16 that are around 30 seconds to 1 minutes duration.\n",
        "\n",
        "Sample rate is 50 Hz, this means a 2s window should have 100 samples?"
      ],
      "id": "22985873-1a02-43c4-a7bc-02249605dc7c"
    },
    {
      "cell_type": "code",
      "metadata": {
        "colab": {
          "base_uri": "https://localhost:8080/"
        },
        "id": "8d130d9d-b0c6-4440-9fad-f5891084c703",
        "outputId": "9507c3d6-df78-4ced-ed5d-f9b0b8a0bf1c"
      },
      "source": [
        "# window size is 10 s, sample rate 50 Hz\n",
        "# Sliding window, without Feature extraction nor low pass filter, for CNN only (dirrectly fits data in CNN)\n",
        "window = 500\n",
        "data_all_x_list = []\n",
        "data_all_y_list = []\n",
        "for j in folders:\n",
        "    csv_list = glob(j + '/*')\n",
        "    label = j.split('/')[-1].split('_')[0]\n",
        "    # trial_number = int(j.split('/')[-1].split('_')[1])\n",
        "    # print(label, trial_number)\n",
        "    for i in csv_list:\n",
        "        df = pd.read_csv(i, usecols = ['attitude.roll', 'attitude.pitch', 'attitude.yaw','userAcceleration.x','userAcceleration.y','userAcceleration.z'])\n",
        "        win_count = int(df.shape[0] / (window / 2)) - 1\n",
        "        data_x = np.zeros((win_count, window, df.shape[1]))\n",
        "        data_y = np.zeros(win_count)\n",
        "\n",
        "        length = len(df)\n",
        "        for c in range(win_count):\n",
        "            start_idx = int(c * (window / 2))\n",
        "            end_idx = start_idx + window\n",
        "            data_x[c,:,:] = df[start_idx:end_idx].values\n",
        "            data_y[:] = activity_codes[label]\n",
        "#         print(data_x.shape)\n",
        "#         sys.exit(0)\n",
        "        data_all_x_list.append(data_x)\n",
        "        data_all_y_list.append(data_y)\n",
        "data_all_x = np.concatenate(data_all_x_list,axis=0)\n",
        "data_all_y = np.concatenate(data_all_y_list,axis=0)\n",
        "data_all_y = data_all_y.astype(int)\n",
        "print(data_all_x.shape)\n",
        "print(data_all_y.shape)"
      ],
      "id": "8d130d9d-b0c6-4440-9fad-f5891084c703",
      "execution_count": null,
      "outputs": [
        {
          "name": "stdout",
          "output_type": "stream",
          "text": [
            "(5102, 500, 6)\n",
            "(5102,)\n"
          ]
        }
      ]
    },
    {
      "cell_type": "code",
      "metadata": {
        "colab": {
          "base_uri": "https://localhost:8080/"
        },
        "id": "K_k1gRcBM6Up",
        "outputId": "6d82a22b-b313-4777-c1d7-0f5166ae3b3f"
      },
      "source": [
        "#Feature extraction for NN model e.x. MLP\n",
        "window = 500\n",
        "feature_n = 6\n",
        "attributes = ['attitude.roll', 'attitude.pitch', 'attitude.yaw','userAcceleration.x','userAcceleration.y','userAcceleration.z']\n",
        "data_all_x_list = []\n",
        "data_all_y_list = []\n",
        "for j in folders:\n",
        "    csv_list = glob(j + '/*')\n",
        "    label = j.split('/')[-1].split('_')[0]\n",
        "    for i in csv_list:\n",
        "        df = pd.read_csv(\n",
        "            i,\n",
        "            usecols = ['attitude.roll','attitude.pitch',\n",
        "                       'attitude.yaw','userAcceleration.x',\n",
        "                       'userAcceleration.y','userAcceleration.z']\n",
        "         )\n",
        "        win_count = int(df.shape[0] / (window / 2)) - 1\n",
        "        data_x = np.zeros((win_count, df.shape[1] * 5))\n",
        "        data_y = np.zeros(win_count)\n",
        "\n",
        "        length = len(df)\n",
        "        for c in range(win_count):\n",
        "            start_idx = int(c * (window / 2))\n",
        "            end_idx = start_idx + window\n",
        "            temp_list = []\n",
        "            for k in range(feature_n):\n",
        "              means = df[start_idx:end_idx][attributes[k]].mean()\n",
        "              stds = df[start_idx:end_idx][attributes[k]].mean()\n",
        "              mins = df[start_idx:end_idx][attributes[k]].min()\n",
        "              maxs = df[start_idx:end_idx][attributes[k]].max()\n",
        "              mads = df[start_idx:end_idx][attributes[k]].mad()\n",
        "              temp_list.append(means)\n",
        "              temp_list.append(stds)\n",
        "              temp_list.append(mins)\n",
        "              temp_list.append(maxs)\n",
        "              temp_list.append(mads)\n",
        "\n",
        "            data_x[c] = temp_list\n",
        "            data_y[c] = activity_codes[label]\n",
        "\n",
        "        data_all_x_list.append(data_x)\n",
        "        data_all_y_list.append(data_y)\n",
        "data_all_x = np.concatenate(data_all_x_list,axis=0)\n",
        "data_all_y = np.concatenate(data_all_y_list,axis=0)\n",
        "data_all_y = data_all_y.astype(int)\n",
        "print(data_all_x.shape)\n",
        "print(data_all_y.shape)"
      ],
      "id": "K_k1gRcBM6Up",
      "execution_count": null,
      "outputs": [
        {
          "output_type": "stream",
          "name": "stdout",
          "text": [
            "(5102, 30)\n",
            "(5102,)\n"
          ]
        }
      ]
    },
    {
      "cell_type": "markdown",
      "metadata": {
        "id": "_w5zBdEyP7BS"
      },
      "source": [
        "## CNN Train & Test ##"
      ],
      "id": "_w5zBdEyP7BS"
    },
    {
      "cell_type": "code",
      "metadata": {
        "colab": {
          "base_uri": "https://localhost:8080/"
        },
        "id": "FyN0MGvaP7BS",
        "outputId": "4f357cf2-1afe-47c9-f40c-b17ab204f712"
      },
      "source": [
        "print(\"Num GPUs Available: \", len(tf.config.list_physical_devices('GPU')))"
      ],
      "id": "FyN0MGvaP7BS",
      "execution_count": null,
      "outputs": [
        {
          "output_type": "stream",
          "name": "stdout",
          "text": [
            "Num GPUs Available:  1\n"
          ]
        }
      ]
    },
    {
      "cell_type": "code",
      "metadata": {
        "colab": {
          "base_uri": "https://localhost:8080/"
        },
        "id": "Y0KZZTB0P7BT",
        "outputId": "e54043d8-7bc2-444e-ec23-d58afe9c813c"
      },
      "source": [
        "train_x_temp,test_x,train_y_temp,test_y = train_test_split(data_all_x,data_all_y,test_size=0.2)\n",
        "train_x,val_x,train_y,val_y = train_test_split(train_x_temp,train_y_temp,test_size=0.1)\n",
        "assert(len(train_x) == len(train_y))\n",
        "print(len(train_x), len(test_x),len(val_x))"
      ],
      "id": "Y0KZZTB0P7BT",
      "execution_count": null,
      "outputs": [
        {
          "name": "stdout",
          "output_type": "stream",
          "text": [
            "3672 1021 409\n"
          ]
        }
      ]
    },
    {
      "cell_type": "code",
      "metadata": {
        "id": "eF95XVUqP7BT"
      },
      "source": [
        "# val_y = np.asarray(val_y).astype('float32').reshape((-1,1))\n",
        "# train_y = np.asarray(train_y).astype('float32').reshape((-1,1))\n",
        "# test_y = np.asarray(test_y).astype('float32').reshape((-1,1))\n",
        "train_x = tf.convert_to_tensor(train_x, dtype=tf.float32)\n",
        "test_x = tf.convert_to_tensor(test_x, dtype=tf.float32)\n",
        "val_x = tf.convert_to_tensor(val_x, dtype=tf.float32)\n",
        "train_y = tf.convert_to_tensor(tf.keras.utils.to_categorical(train_y,  num_classes=6), dtype=tf.float32)\n",
        "test_y = tf.convert_to_tensor(tf.keras.utils.to_categorical(test_y,  num_classes=6), dtype=tf.float32)\n",
        "val_y = tf.convert_to_tensor(tf.keras.utils.to_categorical(val_y,  num_classes=6), dtype=tf.float32)"
      ],
      "id": "eF95XVUqP7BT",
      "execution_count": null,
      "outputs": []
    },
    {
      "cell_type": "code",
      "metadata": {
        "id": "K0NE4RUIP7BT"
      },
      "source": [
        "train_dataset = tf.data.Dataset.from_tensor_slices((train_x, train_y))\n",
        "val_dataset = tf.data.Dataset.from_tensor_slices((val_x, val_y))\n",
        "test_dataset = tf.data.Dataset.from_tensor_slices((test_x, test_y))"
      ],
      "id": "K0NE4RUIP7BT",
      "execution_count": null,
      "outputs": []
    },
    {
      "cell_type": "code",
      "metadata": {
        "id": "L-Xbes-LP7BT"
      },
      "source": [
        "BATCH_SIZE = 32\n",
        "SHUFFLE_BUFFER_SIZE = 100\n",
        "\n",
        "train_dataset = train_dataset.shuffle(SHUFFLE_BUFFER_SIZE).batch(BATCH_SIZE)\n",
        "val_dataset = val_dataset.shuffle(SHUFFLE_BUFFER_SIZE).batch(BATCH_SIZE)\n",
        "test_dataset = test_dataset.batch(BATCH_SIZE)"
      ],
      "id": "L-Xbes-LP7BT",
      "execution_count": null,
      "outputs": []
    },
    {
      "cell_type": "code",
      "metadata": {
        "colab": {
          "base_uri": "https://localhost:8080/"
        },
        "id": "AA-FM4KhP7BU",
        "outputId": "a8c2669d-bb6d-421b-8ffe-262592c4cb85"
      },
      "source": [
        "for i,j in val_dataset.take(1):\n",
        "    print(i.numpy().shape)\n",
        "    print(j.numpy().shape)"
      ],
      "id": "AA-FM4KhP7BU",
      "execution_count": null,
      "outputs": [
        {
          "name": "stdout",
          "output_type": "stream",
          "text": [
            "(32, 500, 6)\n",
            "(32, 6)\n"
          ]
        }
      ]
    },
    {
      "cell_type": "code",
      "metadata": {
        "colab": {
          "base_uri": "https://localhost:8080/"
        },
        "id": "ntlBepllP7BU",
        "outputId": "0d1a24e9-c63d-4a11-924e-0f53896bfc99"
      },
      "source": [
        "num_classes = 6\n",
        "\n",
        "model = tf.keras.Sequential([\n",
        "    tf.keras.layers.Conv1D(32, 3, activation='relu',input_shape = (500,6)),\n",
        "    tf.keras.layers.MaxPooling1D(),\n",
        "    tf.keras.layers.Conv1D(32, 3, activation='relu'),\n",
        "    tf.keras.layers.MaxPooling1D(),\n",
        "    tf.keras.layers.Conv1D(32, 3, activation='relu'),\n",
        "    tf.keras.layers.MaxPooling1D(),\n",
        "    tf.keras.layers.Flatten(input_shape = (500,6)),\n",
        "    tf.keras.layers.Dense(64, activation='sigmoid'),\n",
        "    tf.keras.layers.Dropout(0.2),\n",
        "    tf.keras.layers.Dense(num_classes)\n",
        "])\n",
        "\n",
        "model.summary()"
      ],
      "id": "ntlBepllP7BU",
      "execution_count": null,
      "outputs": [
        {
          "name": "stdout",
          "output_type": "stream",
          "text": [
            "Model: \"sequential_1\"\n",
            "_________________________________________________________________\n",
            "Layer (type)                 Output Shape              Param #   \n",
            "=================================================================\n",
            "conv1d_3 (Conv1D)            (None, 498, 32)           608       \n",
            "_________________________________________________________________\n",
            "max_pooling1d_3 (MaxPooling1 (None, 249, 32)           0         \n",
            "_________________________________________________________________\n",
            "conv1d_4 (Conv1D)            (None, 247, 32)           3104      \n",
            "_________________________________________________________________\n",
            "max_pooling1d_4 (MaxPooling1 (None, 123, 32)           0         \n",
            "_________________________________________________________________\n",
            "conv1d_5 (Conv1D)            (None, 121, 32)           3104      \n",
            "_________________________________________________________________\n",
            "max_pooling1d_5 (MaxPooling1 (None, 60, 32)            0         \n",
            "_________________________________________________________________\n",
            "flatten_1 (Flatten)          (None, 1920)              0         \n",
            "_________________________________________________________________\n",
            "dense_2 (Dense)              (None, 64)                122944    \n",
            "_________________________________________________________________\n",
            "dropout_1 (Dropout)          (None, 64)                0         \n",
            "_________________________________________________________________\n",
            "dense_3 (Dense)              (None, 6)                 390       \n",
            "=================================================================\n",
            "Total params: 130,150\n",
            "Trainable params: 130,150\n",
            "Non-trainable params: 0\n",
            "_________________________________________________________________\n"
          ]
        }
      ]
    },
    {
      "cell_type": "code",
      "metadata": {
        "id": "XH1XaV_jP7BU"
      },
      "source": [
        "model.compile(optimizer='adam',\n",
        "              loss=tf.keras.losses.CategoricalCrossentropy(from_logits=True),\n",
        "              metrics=['accuracy'])"
      ],
      "id": "XH1XaV_jP7BU",
      "execution_count": null,
      "outputs": []
    },
    {
      "cell_type": "code",
      "metadata": {
        "colab": {
          "base_uri": "https://localhost:8080/"
        },
        "id": "IXlwjOvcP7BU",
        "outputId": "42b5a076-bf6b-4599-ffb0-0b8a7895d990"
      },
      "source": [
        "epochs = 15\n",
        "history = model.fit(\n",
        "    train_dataset,\n",
        "    validation_data=val_dataset,\n",
        "    epochs=epochs\n",
        ")"
      ],
      "id": "IXlwjOvcP7BU",
      "execution_count": null,
      "outputs": [
        {
          "name": "stdout",
          "output_type": "stream",
          "text": [
            "Epoch 1/15\n",
            "115/115 [==============================] - 2s 13ms/step - loss: 0.9284 - accuracy: 0.6648 - val_loss: 0.4655 - val_accuracy: 0.8484\n",
            "Epoch 2/15\n",
            "115/115 [==============================] - 1s 7ms/step - loss: 0.4359 - accuracy: 0.8434 - val_loss: 0.3303 - val_accuracy: 0.8900\n",
            "Epoch 3/15\n",
            "115/115 [==============================] - 1s 8ms/step - loss: 0.3385 - accuracy: 0.8794 - val_loss: 0.2668 - val_accuracy: 0.9144\n",
            "Epoch 4/15\n",
            "115/115 [==============================] - 1s 8ms/step - loss: 0.2799 - accuracy: 0.9074 - val_loss: 0.2336 - val_accuracy: 0.9242\n",
            "Epoch 5/15\n",
            "115/115 [==============================] - 1s 8ms/step - loss: 0.2227 - accuracy: 0.9213 - val_loss: 0.2877 - val_accuracy: 0.9095\n",
            "Epoch 6/15\n",
            "115/115 [==============================] - 1s 8ms/step - loss: 0.1896 - accuracy: 0.9376 - val_loss: 0.2147 - val_accuracy: 0.9193\n",
            "Epoch 7/15\n",
            "115/115 [==============================] - 1s 8ms/step - loss: 0.1599 - accuracy: 0.9504 - val_loss: 0.2241 - val_accuracy: 0.9120\n",
            "Epoch 8/15\n",
            "115/115 [==============================] - 1s 8ms/step - loss: 0.1317 - accuracy: 0.9578 - val_loss: 0.1511 - val_accuracy: 0.9438\n",
            "Epoch 9/15\n",
            "115/115 [==============================] - 1s 8ms/step - loss: 0.0962 - accuracy: 0.9752 - val_loss: 0.1608 - val_accuracy: 0.9389\n",
            "Epoch 10/15\n",
            "115/115 [==============================] - 1s 8ms/step - loss: 0.0912 - accuracy: 0.9739 - val_loss: 0.1331 - val_accuracy: 0.9438\n",
            "Epoch 11/15\n",
            "115/115 [==============================] - 1s 8ms/step - loss: 0.0688 - accuracy: 0.9823 - val_loss: 0.1161 - val_accuracy: 0.9560\n",
            "Epoch 12/15\n",
            "115/115 [==============================] - 1s 8ms/step - loss: 0.0688 - accuracy: 0.9807 - val_loss: 0.1229 - val_accuracy: 0.9535\n",
            "Epoch 13/15\n",
            "115/115 [==============================] - 1s 8ms/step - loss: 0.0594 - accuracy: 0.9839 - val_loss: 0.1696 - val_accuracy: 0.9462\n",
            "Epoch 14/15\n",
            "115/115 [==============================] - 1s 8ms/step - loss: 0.0438 - accuracy: 0.9899 - val_loss: 0.1592 - val_accuracy: 0.9560\n",
            "Epoch 15/15\n",
            "115/115 [==============================] - 1s 7ms/step - loss: 0.0329 - accuracy: 0.9946 - val_loss: 0.1660 - val_accuracy: 0.9389\n"
          ]
        }
      ]
    },
    {
      "cell_type": "code",
      "metadata": {
        "colab": {
          "base_uri": "https://localhost:8080/",
          "height": 499
        },
        "id": "3QTaOXoZP7BU",
        "outputId": "b60a63c9-4eeb-4778-ac10-8ceed56e91e3"
      },
      "source": [
        "acc = history.history['accuracy']\n",
        "val_acc = history.history['val_accuracy']\n",
        "\n",
        "loss = history.history['loss']\n",
        "val_loss = history.history['val_loss']\n",
        "\n",
        "epochs_range = range(epochs)\n",
        "\n",
        "plt.figure(figsize=(8, 8))\n",
        "plt.subplot(1, 2, 1)\n",
        "plt.plot(epochs_range, acc, label='Training Accuracy')\n",
        "plt.plot(epochs_range, val_acc, label='Validation Accuracy')\n",
        "plt.legend(loc='lower right')\n",
        "plt.title('Training and Validation Accuracy')\n",
        "\n",
        "plt.subplot(1, 2, 2)\n",
        "plt.plot(epochs_range, loss, label='Training Loss')\n",
        "plt.plot(epochs_range, val_loss, label='Validation Loss')\n",
        "plt.legend(loc='upper right')\n",
        "plt.title('Training and Validation Loss')\n",
        "plt.show()"
      ],
      "id": "3QTaOXoZP7BU",
      "execution_count": null,
      "outputs": [
        {
          "data": {
            "image/png": "[encoded data removed]",
            "text/plain": [
              "<Figure size 576x576 with 2 Axes>"
            ]
          },
          "metadata": {},
          "output_type": "display_data"
        }
      ]
    },
    {
      "cell_type": "code",
      "metadata": {
        "id": "u8OWldekP7BV"
      },
      "source": [
        "model.save('kumori.h5')"
      ],
      "id": "u8OWldekP7BV",
      "execution_count": null,
      "outputs": []
    },
    {
      "cell_type": "code",
      "metadata": {
        "colab": {
          "base_uri": "https://localhost:8080/"
        },
        "id": "Av9QsmwsP7BV",
        "outputId": "f3ced359-0430-44e4-f1ae-5fbcb9136cee"
      },
      "source": [
        "model.evaluate(test_dataset,batch_size = BATCH_SIZE)"
      ],
      "id": "Av9QsmwsP7BV",
      "execution_count": null,
      "outputs": [
        {
          "name": "stdout",
          "output_type": "stream",
          "text": [
            "32/32 [==============================] - 0s 8ms/step - loss: 0.1362 - accuracy: 0.9549\n"
          ]
        },
        {
          "data": {
            "text/plain": [
              "[0.13623416423797607, 0.9549461603164673]"
            ]
          },
          "execution_count": 28,
          "metadata": {},
          "output_type": "execute_result"
        }
      ]
    },
    {
      "cell_type": "code",
      "metadata": {
        "id": "YNumi7ljP7BV"
      },
      "source": [
        ""
      ],
      "id": "YNumi7ljP7BV",
      "execution_count": null,
      "outputs": []
    },
    {
      "cell_type": "markdown",
      "metadata": {
        "id": "7MzEIcKoRyQD"
      },
      "source": [
        "## MLP Train & Test ##"
      ],
      "id": "7MzEIcKoRyQD"
    },
    {
      "cell_type": "code",
      "metadata": {
        "colab": {
          "base_uri": "https://localhost:8080/"
        },
        "id": "Q1jttj8sRwU8",
        "outputId": "82bc1f3b-a5c8-434a-c9b1-aecda5c7eef5"
      },
      "source": [
        "print(\"Num GPUs Available: \", len(tf.config.list_physical_devices('GPU')))"
      ],
      "id": "Q1jttj8sRwU8",
      "execution_count": null,
      "outputs": [
        {
          "output_type": "stream",
          "name": "stdout",
          "text": [
            "Num GPUs Available:  1\n"
          ]
        }
      ]
    },
    {
      "cell_type": "code",
      "metadata": {
        "colab": {
          "base_uri": "https://localhost:8080/"
        },
        "id": "8HCVffPYRwVK",
        "outputId": "03573c1f-71c4-4fa6-9c95-913f73655401"
      },
      "source": [
        "train_x,test_x,train_y,test_y = train_test_split(data_all_x,data_all_y,test_size=0.2)\n",
        "assert(len(train_x) == len(train_y))\n",
        "assert(len(test_x) == len(test_y))\n",
        "print(train_x.shape, test_x.shape)\n",
        "print(train_y.shape, test_y.shape)"
      ],
      "id": "8HCVffPYRwVK",
      "execution_count": null,
      "outputs": [
        {
          "output_type": "stream",
          "name": "stdout",
          "text": [
            "(4081, 30) (1021, 30)\n",
            "(4081,) (1021,)\n"
          ]
        }
      ]
    },
    {
      "cell_type": "code",
      "metadata": {
        "id": "SlWo6vq5S1rR"
      },
      "source": [
        "kfold = KFold(n_splits=5, shuffle=True)"
      ],
      "id": "SlWo6vq5S1rR",
      "execution_count": null,
      "outputs": []
    },
    {
      "cell_type": "code",
      "metadata": {
        "id": "iwgq1ue9RwVL"
      },
      "source": [
        "\n",
        "# train_x = tf.convert_to_tensor(train_x, dtype=tf.float32)\n",
        "# test_x = tf.convert_to_tensor(test_x, dtype=tf.float32)\n",
        "# train_y = tf.convert_to_tensor(tf.keras.utils.to_categorical(train_y,  num_classes=6), dtype=tf.float32)\n",
        "# test_y = tf.convert_to_tensor(tf.keras.utils.to_categorical(test_y,  num_classes=6), dtype=tf.float32)"
      ],
      "id": "iwgq1ue9RwVL",
      "execution_count": null,
      "outputs": []
    },
    {
      "cell_type": "code",
      "metadata": {
        "id": "ShL0fDGYRwVL"
      },
      "source": [
        "# train_dataset = tf.data.Dataset.from_tensor_slices((train_x, train_y))\n",
        "# test_dataset = tf.data.Dataset.from_tensor_slices((test_x, test_y))"
      ],
      "id": "ShL0fDGYRwVL",
      "execution_count": null,
      "outputs": []
    },
    {
      "cell_type": "code",
      "metadata": {
        "id": "LGgaTIV3RwVL"
      },
      "source": [
        "# BATCH_SIZE = 32\n",
        "# SHUFFLE_BUFFER_SIZE = 100\n",
        "\n",
        "# train_dataset = train_dataset.shuffle(SHUFFLE_BUFFER_SIZE).batch(BATCH_SIZE)\n",
        "# test_dataset = test_dataset.batch(BATCH_SIZE)"
      ],
      "id": "LGgaTIV3RwVL",
      "execution_count": null,
      "outputs": []
    },
    {
      "cell_type": "code",
      "metadata": {
        "colab": {
          "base_uri": "https://localhost:8080/"
        },
        "id": "-7OAxHT7RwVL",
        "outputId": "94d4b174-2dab-4def-d8fd-01a8b23ff7e2"
      },
      "source": [
        "# for i,j in train_dataset.take(1):\n",
        "#     print(i.numpy().shape)\n",
        "#     print(j.numpy().shape)"
      ],
      "id": "-7OAxHT7RwVL",
      "execution_count": null,
      "outputs": [
        {
          "output_type": "stream",
          "name": "stdout",
          "text": [
            "(30,)\n",
            "(6,)\n"
          ]
        }
      ]
    },
    {
      "cell_type": "code",
      "metadata": {
        "colab": {
          "base_uri": "https://localhost:8080/",
          "height": 1000,
          "referenced_widgets": [
            "f70773b691ea4808a59cdfe9186c67c8",
            "8551b81f860342b8ba8755fd862852b9",
            "0a82ce451bcd45d898aad963cc53df8a",
            "37a5d4f796014d03b2a49f069e5bc523",
            "5520f1a9bcb24f8d9402ef9b7ecad549",
            "2bae5121996647578d25d275654a866e",
            "c924cff22ee34d3fba68f89723ddffd5",
            "b0f667c6bb29458e8e8e38f58daf966b",
            "d1ac7ac23e8c4c598ff646baee5e2a14",
            "3a4d6f20c98d4c8b876663d1b1b8b18d",
            "0db0c552e79a46078c34932048edb798"
          ]
        },
        "id": "yKrTNZFlRwVM",
        "outputId": "cfe8d949-dc7d-42fe-dfee-ac366a6cbe39"
      },
      "source": [
        "num_classes = 6\n",
        "num_features = 30\n",
        "acc_list = {}\n",
        "f1_list = {}\n",
        "train_acc_list = {}\n",
        "fold_no = 1\n",
        "epochs = 15\n",
        "\n",
        "for train, test in tqdm(kfold.split(train_x, train_y)):\n",
        "  model = tf.keras.Sequential([\n",
        "      tf.keras.Input(shape=train_x.shape[1]),\n",
        "      tf.keras.layers.Dense(32, activation='relu'),\n",
        "      tf.keras.layers.Dropout(0.2),\n",
        "      tf.keras.layers.Dense(32, activation='relu'),\n",
        "      tf.keras.layers.Dropout(0.2),\n",
        "      tf.keras.layers.Dense(num_classes, activation='softmax')\n",
        "  ])\n",
        "  model.compile(optimizer='adam',\n",
        "              loss= tf.keras.losses.SparseCategoricalCrossentropy(),\n",
        "              metrics=['accuracy'])\n",
        "\n",
        "  history = model.fit(\n",
        "      train_x[train],\n",
        "      train_y[train],\n",
        "      epochs=epochs\n",
        "  )\n",
        "  train_acc = history.history['accuracy']\n",
        "  y_pred = model.predict(train_x[test], verbose=0)\n",
        "  # print(y_pred)\n",
        "  y_pred_1 = np.argmax(y_pred, axis = 1)\n",
        "  # print(y_pred_1)\n",
        "  # print(train_y[test])\n",
        "  train_y_1 = np.zeros((train_y[test].size, train_y[test].max()+1))\n",
        "  train_y_1[np.arange(train_y[test].size),train_y[test]] = 1\n",
        "  # print(train_y_1)\n",
        "  f1_metric = tfa.metrics.F1Score(num_classes= num_classes, average = 'macro', threshold=None)\n",
        "  acc_metric = tf.keras.metrics.Accuracy()\n",
        "  acc_metric.update_state(train_y[test], y_pred_1)\n",
        "  acc = acc_metric.result().numpy()\n",
        "  # print(acc)\n",
        "  y_pred_1 = y_pred_1.astype(np.float32)\n",
        "  f1_metric.update_state(train_y_1, y_pred)\n",
        "  f1_macro = f1_metric.result().numpy()\n",
        "  # print(f1_macro)\n",
        "  print(f\"accuracy for fold {fold_no}: {acc}; f1_macro is {f1_macro}\")\n",
        "  acc_list[fold_no] = acc\n",
        "  train_acc_list[fold_no] = train_acc\n",
        "  f1_list[fold_no] = f1_macro\n",
        "  model.save(f\"/content/drive/MyDrive/temp_models/{fold_no}.h5\")\n",
        "  fold_no += 1\n"
      ],
      "id": "yKrTNZFlRwVM",
      "execution_count": null,
      "outputs": [
        {
          "output_type": "display_data",
          "data": {
            "application/vnd.jupyter.widget-view+json": {
              "model_id": "f70773b691ea4808a59cdfe9186c67c8",
              "version_minor": 0,
              "version_major": 2
            },
            "text/plain": [
              "0it [00:00, ?it/s]"
            ]
          },
          "metadata": {}
        },
        {
          "output_type": "stream",
          "name": "stdout",
          "text": [
            "Epoch 1/15\n",
            "102/102 [==============================] - 3s 3ms/step - loss: 1.5886 - accuracy: 0.3735\n",
            "Epoch 2/15\n",
            "102/102 [==============================] - 0s 3ms/step - loss: 1.0597 - accuracy: 0.5928\n",
            "Epoch 3/15\n",
            "102/102 [==============================] - 0s 2ms/step - loss: 0.7994 - accuracy: 0.7044\n",
            "Epoch 4/15\n",
            "102/102 [==============================] - 0s 3ms/step - loss: 0.6589 - accuracy: 0.7592\n",
            "Epoch 5/15\n",
            "102/102 [==============================] - 0s 2ms/step - loss: 0.5734 - accuracy: 0.7763\n",
            "Epoch 6/15\n",
            "102/102 [==============================] - 0s 3ms/step - loss: 0.5041 - accuracy: 0.8033\n",
            "Epoch 7/15\n",
            "102/102 [==============================] - 0s 2ms/step - loss: 0.4719 - accuracy: 0.8159\n",
            "Epoch 8/15\n",
            "102/102 [==============================] - 0s 2ms/step - loss: 0.4328 - accuracy: 0.8324\n",
            "Epoch 9/15\n",
            "102/102 [==============================] - 0s 2ms/step - loss: 0.4086 - accuracy: 0.8392\n",
            "Epoch 10/15\n",
            "102/102 [==============================] - 0s 2ms/step - loss: 0.3912 - accuracy: 0.8493\n",
            "Epoch 11/15\n",
            "102/102 [==============================] - 0s 2ms/step - loss: 0.3804 - accuracy: 0.8499\n",
            "Epoch 12/15\n",
            "102/102 [==============================] - 0s 2ms/step - loss: 0.3499 - accuracy: 0.8661\n",
            "Epoch 13/15\n",
            "102/102 [==============================] - 0s 2ms/step - loss: 0.3370 - accuracy: 0.8634\n",
            "Epoch 14/15\n",
            "102/102 [==============================] - 0s 3ms/step - loss: 0.3232 - accuracy: 0.8701\n",
            "Epoch 15/15\n",
            "102/102 [==============================] - 0s 2ms/step - loss: 0.3211 - accuracy: 0.8732\n",
            "accuracy for fold 1: 0.9290085434913635; f1_macro is 0.8955478072166443\n",
            "Epoch 1/15\n",
            "103/103 [==============================] - 1s 3ms/step - loss: 1.4421 - accuracy: 0.3960\n",
            "Epoch 2/15\n",
            "103/103 [==============================] - 0s 3ms/step - loss: 0.9596 - accuracy: 0.6260\n",
            "Epoch 3/15\n",
            "103/103 [==============================] - 0s 3ms/step - loss: 0.7617 - accuracy: 0.7087\n",
            "Epoch 4/15\n",
            "103/103 [==============================] - 0s 3ms/step - loss: 0.6434 - accuracy: 0.7562\n",
            "Epoch 5/15\n",
            "103/103 [==============================] - 0s 3ms/step - loss: 0.5850 - accuracy: 0.7700\n",
            "Epoch 6/15\n",
            "103/103 [==============================] - 0s 3ms/step - loss: 0.5343 - accuracy: 0.7936\n",
            "Epoch 7/15\n",
            "103/103 [==============================] - 0s 3ms/step - loss: 0.4913 - accuracy: 0.8064\n",
            "Epoch 8/15\n",
            "103/103 [==============================] - 0s 3ms/step - loss: 0.4619 - accuracy: 0.8239\n",
            "Epoch 9/15\n",
            "103/103 [==============================] - 0s 3ms/step - loss: 0.4357 - accuracy: 0.8383\n",
            "Epoch 10/15\n",
            "103/103 [==============================] - 0s 3ms/step - loss: 0.4160 - accuracy: 0.8447\n",
            "Epoch 11/15\n",
            "103/103 [==============================] - 0s 3ms/step - loss: 0.3999 - accuracy: 0.8441\n",
            "Epoch 12/15\n",
            "103/103 [==============================] - 0s 3ms/step - loss: 0.3808 - accuracy: 0.8570\n",
            "Epoch 13/15\n",
            "103/103 [==============================] - 0s 3ms/step - loss: 0.3512 - accuracy: 0.8634\n",
            "Epoch 14/15\n",
            "103/103 [==============================] - 0s 3ms/step - loss: 0.3378 - accuracy: 0.8704\n",
            "Epoch 15/15\n",
            "103/103 [==============================] - 0s 3ms/step - loss: 0.3331 - accuracy: 0.8747\n",
            "accuracy for fold 2: 0.9007353186607361; f1_macro is 0.850511372089386\n",
            "Epoch 1/15\n",
            "103/103 [==============================] - 1s 3ms/step - loss: 1.4876 - accuracy: 0.4227\n",
            "Epoch 2/15\n",
            "103/103 [==============================] - 0s 3ms/step - loss: 1.0064 - accuracy: 0.6181\n",
            "Epoch 3/15\n",
            "103/103 [==============================] - 0s 3ms/step - loss: 0.7920 - accuracy: 0.6919\n",
            "Epoch 4/15\n",
            "103/103 [==============================] - 0s 3ms/step - loss: 0.6726 - accuracy: 0.7430\n",
            "Epoch 5/15\n",
            "103/103 [==============================] - 0s 3ms/step - loss: 0.6007 - accuracy: 0.7645\n",
            "Epoch 6/15\n",
            "103/103 [==============================] - 0s 3ms/step - loss: 0.5249 - accuracy: 0.8009\n",
            "Epoch 7/15\n",
            "103/103 [==============================] - 0s 3ms/step - loss: 0.4910 - accuracy: 0.8110\n",
            "Epoch 8/15\n",
            "103/103 [==============================] - 0s 3ms/step - loss: 0.4511 - accuracy: 0.8312\n",
            "Epoch 9/15\n",
            "103/103 [==============================] - 0s 3ms/step - loss: 0.4356 - accuracy: 0.8276\n",
            "Epoch 10/15\n",
            "103/103 [==============================] - 0s 3ms/step - loss: 0.4135 - accuracy: 0.8462\n",
            "Epoch 11/15\n",
            "103/103 [==============================] - 0s 3ms/step - loss: 0.3841 - accuracy: 0.8518\n",
            "Epoch 12/15\n",
            "103/103 [==============================] - 0s 3ms/step - loss: 0.3724 - accuracy: 0.8548\n",
            "Epoch 13/15\n",
            "103/103 [==============================] - 0s 3ms/step - loss: 0.3518 - accuracy: 0.8680\n",
            "Epoch 14/15\n",
            "103/103 [==============================] - 0s 3ms/step - loss: 0.3437 - accuracy: 0.8711\n",
            "Epoch 15/15\n",
            "103/103 [==============================] - 0s 3ms/step - loss: 0.3272 - accuracy: 0.8763\n",
            "accuracy for fold 3: 0.9240196347236633; f1_macro is 0.8947727680206299\n",
            "Epoch 1/15\n",
            "103/103 [==============================] - 1s 3ms/step - loss: 1.6007 - accuracy: 0.3859\n",
            "Epoch 2/15\n",
            "103/103 [==============================] - 0s 3ms/step - loss: 1.0802 - accuracy: 0.6337\n",
            "Epoch 3/15\n",
            "103/103 [==============================] - 0s 3ms/step - loss: 0.8100 - accuracy: 0.7047\n",
            "Epoch 4/15\n",
            "103/103 [==============================] - 0s 3ms/step - loss: 0.6582 - accuracy: 0.7614\n",
            "Epoch 5/15\n",
            "103/103 [==============================] - 0s 3ms/step - loss: 0.5745 - accuracy: 0.7847\n",
            "Epoch 6/15\n",
            "103/103 [==============================] - 0s 3ms/step - loss: 0.5089 - accuracy: 0.8077\n",
            "Epoch 7/15\n",
            "103/103 [==============================] - 0s 3ms/step - loss: 0.4761 - accuracy: 0.8110\n",
            "Epoch 8/15\n",
            "103/103 [==============================] - 0s 3ms/step - loss: 0.4514 - accuracy: 0.8245\n",
            "Epoch 9/15\n",
            "103/103 [==============================] - 0s 3ms/step - loss: 0.4001 - accuracy: 0.8490\n",
            "Epoch 10/15\n",
            "103/103 [==============================] - 0s 3ms/step - loss: 0.3987 - accuracy: 0.8432\n",
            "Epoch 11/15\n",
            "103/103 [==============================] - 0s 3ms/step - loss: 0.3670 - accuracy: 0.8588\n",
            "Epoch 12/15\n",
            "103/103 [==============================] - 0s 3ms/step - loss: 0.3580 - accuracy: 0.8619\n",
            "Epoch 13/15\n",
            "103/103 [==============================] - 0s 3ms/step - loss: 0.3332 - accuracy: 0.8757\n",
            "Epoch 14/15\n",
            "103/103 [==============================] - 0s 3ms/step - loss: 0.3296 - accuracy: 0.8747\n",
            "Epoch 15/15\n",
            "103/103 [==============================] - 0s 3ms/step - loss: 0.3100 - accuracy: 0.8836\n",
            "accuracy for fold 4: 0.9289215803146362; f1_macro is 0.8820884227752686\n",
            "Epoch 1/15\n",
            "103/103 [==============================] - 1s 3ms/step - loss: 1.5192 - accuracy: 0.3838\n",
            "Epoch 2/15\n",
            "103/103 [==============================] - 0s 3ms/step - loss: 1.0460 - accuracy: 0.5657\n",
            "Epoch 3/15\n",
            "103/103 [==============================] - 0s 3ms/step - loss: 0.8278 - accuracy: 0.6845\n",
            "Epoch 4/15\n",
            "103/103 [==============================] - 0s 3ms/step - loss: 0.6931 - accuracy: 0.7247\n",
            "Epoch 5/15\n",
            "103/103 [==============================] - 0s 3ms/step - loss: 0.6181 - accuracy: 0.7593\n",
            "Epoch 6/15\n",
            "103/103 [==============================] - 0s 3ms/step - loss: 0.5418 - accuracy: 0.7835\n",
            "Epoch 7/15\n",
            "103/103 [==============================] - 0s 3ms/step - loss: 0.4958 - accuracy: 0.8098\n",
            "Epoch 8/15\n",
            "103/103 [==============================] - 0s 3ms/step - loss: 0.4616 - accuracy: 0.8236\n",
            "Epoch 9/15\n",
            "103/103 [==============================] - 0s 3ms/step - loss: 0.4268 - accuracy: 0.8328\n",
            "Epoch 10/15\n",
            "103/103 [==============================] - 0s 3ms/step - loss: 0.4089 - accuracy: 0.8380\n",
            "Epoch 11/15\n",
            "103/103 [==============================] - 0s 3ms/step - loss: 0.3889 - accuracy: 0.8521\n",
            "Epoch 12/15\n",
            "103/103 [==============================] - 0s 3ms/step - loss: 0.3624 - accuracy: 0.8600\n",
            "Epoch 13/15\n",
            "103/103 [==============================] - 0s 3ms/step - loss: 0.3442 - accuracy: 0.8649\n",
            "Epoch 14/15\n",
            "103/103 [==============================] - 0s 3ms/step - loss: 0.3444 - accuracy: 0.8674\n",
            "Epoch 15/15\n",
            "103/103 [==============================] - 0s 3ms/step - loss: 0.3208 - accuracy: 0.8787\n",
            "accuracy for fold 5: 0.9007353186607361; f1_macro is 0.8480870127677917\n"
          ]
        }
      ]
    },
    {
      "cell_type": "code",
      "metadata": {
        "colab": {
          "base_uri": "https://localhost:8080/"
        },
        "id": "AVNVVtNTRwVM",
        "outputId": "79c1d620-6dcd-4a50-caa9-1a9fb437cb2e"
      },
      "source": [
        "print(acc_list)\n",
        "print(f1_list)\n",
        "print(train_acc_list)"
      ],
      "id": "AVNVVtNTRwVM",
      "execution_count": null,
      "outputs": [
        {
          "output_type": "stream",
          "name": "stdout",
          "text": [
            "{1: 0.92900854, 2: 0.9007353, 3: 0.92401963, 4: 0.9289216, 5: 0.9007353}\n",
            "{1: 0.8955478, 2: 0.8505114, 3: 0.89477277, 4: 0.8820884, 5: 0.848087}\n",
            "{1: [0.3734681308269501, 0.5928308963775635, 0.704350471496582, 0.7591911554336548, 0.7763480544090271, 0.8033088445663452, 0.8158701062202454, 0.8324142098426819, 0.8391544222831726, 0.8492646813392639, 0.8498774766921997, 0.8661152124404907, 0.8633578419685364, 0.8700980544090271, 0.873161792755127], 2: [0.396018385887146, 0.6260336637496948, 0.7087289690971375, 0.7562021613121033, 0.7699846625328064, 0.7935681343078613, 0.8064318299293518, 0.8238897323608398, 0.8382848501205444, 0.8447166681289673, 0.8441041111946106, 0.8569678664207458, 0.8633996844291687, 0.870444118976593, 0.8747320175170898], 3: [0.422664612531662, 0.6180704236030579, 0.6918836236000061, 0.7430321574211121, 0.7644716501235962, 0.8009188175201416, 0.8110260367393494, 0.8312404155731201, 0.82756507396698, 0.8462480902671814, 0.8517611026763916, 0.854823887348175, 0.8679938912391663, 0.8710566759109497, 0.8762633800506592], 4: [0.38591116666793823, 0.6336906552314758, 0.7047473192214966, 0.7614088654518127, 0.7846860885620117, 0.8076569437980652, 0.8110260367393494, 0.8245022892951965, 0.8490045666694641, 0.843185305595398, 0.8588055372238159, 0.8618683218955994, 0.8756508231163025, 0.8747320175170898, 0.8836140632629395], 5: [0.3837672173976898, 0.5656967759132385, 0.6845329403877258, 0.7246554493904114, 0.7592649459838867, 0.7834609746932983, 0.809800922870636, 0.8235834836959839, 0.8327718377113342, 0.8379785418510437, 0.8520674109458923, 0.8600306510925293, 0.8649311065673828, 0.8673813343048096, 0.8787136077880859]}\n"
          ]
        }
      ]
    },
    {
      "cell_type": "code",
      "metadata": {
        "colab": {
          "base_uri": "https://localhost:8080/"
        },
        "id": "L60jzIpFRwVM",
        "outputId": "38b12bcc-dedd-4e80-a183-6e544e6c7c3f"
      },
      "source": [
        "best_model = tf.keras.models.load_model('/content/drive/MyDrive/temp_models/1.h5')\n",
        "y_pred = best_model.predict(test_x, verbose=0)\n",
        "# print(y_pred)\n",
        "y_pred_1 = np.argmax(y_pred, axis = 1)\n",
        "# print(y_pred_1)\n",
        "# print(train_y[test])\n",
        "train_y_1 = np.zeros((test_y.size, test_y.max()+1))\n",
        "train_y_1[np.arange(test_y.size),test_y] = 1\n",
        "# print(train_y_1)\n",
        "f1_metric = tfa.metrics.F1Score(num_classes= num_classes, average = 'macro', threshold=None)\n",
        "acc_metric = tf.keras.metrics.Accuracy()\n",
        "acc_metric.update_state(test_y, y_pred_1)\n",
        "acc = acc_metric.result().numpy()\n",
        "# print(acc)\n",
        "y_pred_1 = y_pred_1.astype(np.float32)\n",
        "f1_metric.update_state(train_y_1, y_pred)\n",
        "f1_macro = f1_metric.result().numpy()\n",
        "print(f\"test accuracy is {acc}\")\n",
        "print(f\"test f1 macro is {f1_macro}\")"
      ],
      "id": "L60jzIpFRwVM",
      "execution_count": null,
      "outputs": [
        {
          "output_type": "stream",
          "name": "stdout",
          "text": [
            "test accuracy is 0.9020568132400513\n",
            "test f1 macro is 0.8555364608764648\n"
          ]
        }
      ]
    },
    {
      "cell_type": "code",
      "metadata": {
        "colab": {
          "base_uri": "https://localhost:8080/",
          "height": 499
        },
        "id": "gYWRHbS6yKD8",
        "outputId": "c034f7e5-0a9c-4fa8-afcf-03888a36dec3"
      },
      "source": [
        "single_sample = test_x[-1]\n",
        "sample_label = activity_decodes[test_y[-1]]\n",
        "prediction = activity_decodes[y_pred[-1]]\n",
        "plt.figure(figsize=(15, 8))\n",
        "plt.plot(single_sample)\n",
        "plt.title(f\"Sample Label: {sample_label}; Predict: {prediction}\")\n",
        "plt.show()"
      ],
      "id": "gYWRHbS6yKD8",
      "execution_count": null,
      "outputs": [
        {
          "output_type": "display_data",
          "data": {
            "image/png": "[encoded data removed]",
            "text/plain": [
              "<Figure size 1080x576 with 1 Axes>"
            ]
          },
          "metadata": {
            "needs_background": "light"
          }
        }
      ]
    },
    {
      "cell_type": "markdown",
      "metadata": {
        "id": "A4HzhjE7_xf5"
      },
      "source": [
        "# SVM: Feature Extraction, Train and Test #"
      ],
      "id": "A4HzhjE7_xf5"
    },
    {
      "cell_type": "code",
      "metadata": {
        "colab": {
          "background_save": true
        },
        "id": "FZXoXJu9bU52",
        "outputId": "28f74290-ea86-413f-ca85-6d4d1cd52de1"
      },
      "source": [
        "#For non NN model, e.x. SVM\n",
        "#Window size 500, as still\n",
        "window = 500\n",
        "feature_n = 6\n",
        "attributes = ['attitude.roll', 'attitude.pitch', 'attitude.yaw','userAcceleration.x','userAcceleration.y','userAcceleration.z']\n",
        "data_all_x_list = []\n",
        "data_all_y_list = []\n",
        "for j in folders:\n",
        "    csv_list = glob(j + '/*')\n",
        "    label = j.split('/')[-1].split('_')[0]\n",
        "    for i in csv_list:\n",
        "        df = pd.read_csv(i, usecols = ['attitude.roll', 'attitude.pitch', 'attitude.yaw','userAcceleration.x','userAcceleration.y','userAcceleration.z'])\n",
        "        win_count = int(df.shape[0] / (window / 2)) - 1\n",
        "        data_x = np.zeros((win_count, df.shape[1] * 5))\n",
        "        data_y = np.zeros(win_count)\n",
        "\n",
        "        length = len(df)\n",
        "        for c in range(win_count):\n",
        "            start_idx = int(c * (window / 2))\n",
        "            end_idx = start_idx + window\n",
        "            temp_list = []\n",
        "            for k in range(feature_n):\n",
        "              means = df[start_idx:end_idx][attributes[k]].mean()\n",
        "              stds = df[start_idx:end_idx][attributes[k]].mean()\n",
        "              mins = df[start_idx:end_idx][attributes[k]].min()\n",
        "              maxs = df[start_idx:end_idx][attributes[k]].max()\n",
        "              mads = df[start_idx:end_idx][attributes[k]].mad()\n",
        "              temp_list.append(means)\n",
        "              temp_list.append(stds)\n",
        "              temp_list.append(mins)\n",
        "              temp_list.append(maxs)\n",
        "              temp_list.append(mads)\n",
        "            #temp_list = np.concatenate(temp_list, axis = 0)\n",
        "            data_x[c] = temp_list\n",
        "            data_y[c] = activity_codes[label]\n",
        "#         print(data_x.shape)\n",
        "#         sys.exit(0)\n",
        "        data_all_x_list.append(data_x)\n",
        "        data_all_y_list.append(data_y)\n",
        "data_all_x = np.concatenate(data_all_x_list,axis=0)\n",
        "data_all_y = np.concatenate(data_all_y_list,axis=0)\n",
        "data_all_y = data_all_y.astype(int)\n",
        "print(data_all_x.shape)\n",
        "print(data_all_y.shape)"
      ],
      "id": "FZXoXJu9bU52",
      "execution_count": null,
      "outputs": [
        {
          "name": "stdout",
          "output_type": "stream",
          "text": [
            "(5102, 30)\n",
            "(5102,)\n"
          ]
        }
      ]
    },
    {
      "cell_type": "code",
      "metadata": {
        "colab": {
          "background_save": true
        },
        "id": "aRhb0gFFEoK7",
        "outputId": "f60abb12-7712-4f87-b71b-0e65fb81c0f9"
      },
      "source": [
        "print(\"Num GPUs Available: \", len(tf.config.list_physical_devices('GPU')))"
      ],
      "id": "aRhb0gFFEoK7",
      "execution_count": null,
      "outputs": [
        {
          "name": "stdout",
          "output_type": "stream",
          "text": [
            "Num GPUs Available:  1\n"
          ]
        }
      ]
    },
    {
      "cell_type": "code",
      "metadata": {
        "colab": {
          "background_save": true
        },
        "id": "muowIR1FFgo1",
        "outputId": "c85332ac-c0d3-4d9c-8b09-29eb31e5c9a1"
      },
      "source": [
        "train_x,test_x,train_y,test_y = train_test_split(data_all_x,data_all_y,test_size=0.2)\n",
        "assert(len(train_x) == len(train_y))\n",
        "assert(len(test_x) == len(test_y))\n",
        "print(len(train_x), len(test_x))"
      ],
      "id": "muowIR1FFgo1",
      "execution_count": null,
      "outputs": [
        {
          "name": "stdout",
          "output_type": "stream",
          "text": [
            "4081 1021\n"
          ]
        }
      ]
    },
    {
      "cell_type": "code",
      "metadata": {
        "colab": {
          "background_save": true
        },
        "id": "10-OUTVNHPw9",
        "outputId": "dfffc1ff-8a1e-4c9a-d1a5-410c479ab0a7"
      },
      "source": [
        "scoring = ['f1_macro', 'accuracy']\n",
        "clf = LinearSVC(C=1, multi_class = 'ovr', random_state=0)\n",
        "scores = cross_validate(clf, train_x, train_y, scoring=scoring,cv = None, return_estimator = True, return_train_score= True)"
      ],
      "id": "10-OUTVNHPw9",
      "execution_count": null,
      "outputs": [
        {
          "name": "stderr",
          "output_type": "stream",
          "text": [
            "/usr/local/lib/python3.7/dist-packages/sklearn/svm/_base.py:947: ConvergenceWarning: Liblinear failed to converge, increase the number of iterations.\n",
            "  \"the number of iterations.\", ConvergenceWarning)\n",
            "/usr/local/lib/python3.7/dist-packages/sklearn/svm/_base.py:947: ConvergenceWarning: Liblinear failed to converge, increase the number of iterations.\n",
            "  \"the number of iterations.\", ConvergenceWarning)\n",
            "/usr/local/lib/python3.7/dist-packages/sklearn/svm/_base.py:947: ConvergenceWarning: Liblinear failed to converge, increase the number of iterations.\n",
            "  \"the number of iterations.\", ConvergenceWarning)\n",
            "/usr/local/lib/python3.7/dist-packages/sklearn/svm/_base.py:947: ConvergenceWarning: Liblinear failed to converge, increase the number of iterations.\n",
            "  \"the number of iterations.\", ConvergenceWarning)\n",
            "/usr/local/lib/python3.7/dist-packages/sklearn/svm/_base.py:947: ConvergenceWarning: Liblinear failed to converge, increase the number of iterations.\n",
            "  \"the number of iterations.\", ConvergenceWarning)\n"
          ]
        }
      ]
    },
    {
      "cell_type": "code",
      "metadata": {
        "colab": {
          "background_save": true
        },
        "id": "hzFdLhUlJeRK",
        "outputId": "ee1a27d7-affa-4d65-e48b-ac22e17d4ac5"
      },
      "source": [
        "print(scores.keys())\n",
        "print(f\"Last epoch validation accuracy: {scores['test_accuracy'][-1]}\")\n",
        "print(f\"Last epoch validation f1_macro: {scores['test_f1_macro'][-1]}\")\n",
        "print(f\"Last epoch training accuracy: {scores['train_accuracy'][-1]}\")\n",
        "print(f\"Last epoch training f1_macro: {scores['train_f1_macro'][-1]}\")"
      ],
      "id": "hzFdLhUlJeRK",
      "execution_count": null,
      "outputs": [
        {
          "name": "stdout",
          "output_type": "stream",
          "text": [
            "dict_keys(['fit_time', 'score_time', 'estimator', 'test_f1_macro', 'train_f1_macro', 'test_accuracy', 'train_accuracy'])\n",
            "Last epoch validation accuracy: 0.9583333333333334\n",
            "Last epoch validation f1_macro: 0.9398435584281543\n",
            "Last epoch training accuracy: 0.9604900459418071\n",
            "Last epoch training f1_macro: 0.944706504544489\n"
          ]
        }
      ]
    },
    {
      "cell_type": "code",
      "metadata": {
        "colab": {
          "background_save": true
        },
        "id": "-WjnEQC0MOoi",
        "outputId": "4414ebd1-4e63-46fc-a2d9-fe4af9c47e09"
      },
      "source": [
        "pred_test_y = scores['estimator'][-1].predict(test_x)\n",
        "test_accuracy = accuracy_score(test_y, pred_test_y)\n",
        "test_f1_macro = f1_score(test_y, pred_test_y, average = 'macro')\n",
        "print(f\"test_accuracy is {test_accuracy}\")\n",
        "print(f\"test_f1_macro is {test_f1_macro}\")"
      ],
      "id": "-WjnEQC0MOoi",
      "execution_count": null,
      "outputs": [
        {
          "name": "stdout",
          "output_type": "stream",
          "text": [
            "test_accuracy is 0.9431929480901078\n",
            "test_f1_macro is 0.9171472806610222\n"
          ]
        }
      ]
    },
    {
      "cell_type": "code",
      "metadata": {
        "colab": {
          "background_save": true
        },
        "id": "pLYT-C9kP7BV",
        "outputId": "508a74a4-c4a0-40ed-fbd9-6afeb495d23a"
      },
      "source": [
        "print(f\"number of epochs trained : {len(scores['test_accuracy'])}\")"
      ],
      "id": "pLYT-C9kP7BV",
      "execution_count": null,
      "outputs": [
        {
          "name": "stdout",
          "output_type": "stream",
          "text": [
            "number of epochs trained : 5\n"
          ]
        }
      ]
    }
  ]
}