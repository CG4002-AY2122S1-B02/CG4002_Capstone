{
 "cells": [
  {
   "cell_type": "markdown",
   "id": "2f62fc32-3807-4862-b017-8ce28bb57f4a",
   "metadata": {},
   "source": [
    "# MLP Implementation # "
   ]
  },
  {
   "cell_type": "code",
   "execution_count": 1,
   "id": "11ccfcbd-b674-4e76-94aa-38c18383e408",
   "metadata": {
    "colab": {
     "base_uri": "https://localhost:8080/"
    },
    "id": "uklW6YXii4Y_",
    "outputId": "03799db8-6801-439d-96d4-4ead06220df8"
   },
   "outputs": [],
   "source": [
    "# pip install tensorflow-addons"
   ]
  },
  {
   "cell_type": "code",
   "execution_count": 2,
   "id": "2bdb1fb6-b338-441e-8e5e-a8dd676edae4",
   "metadata": {
    "id": "48528bad-63dc-4b8e-bbff-48714407e946"
   },
   "outputs": [],
   "source": [
    "import os\n",
    "\n",
    "import numpy as np\n",
    "import pandas as pd\n",
    "from glob import glob\n",
    "import matplotlib.pyplot as plt\n",
    "import tensorflow as tf\n",
    "import tensorflow_addons as tfa\n",
    "from tensorflow.keras import layers\n",
    "from tqdm.notebook import tqdm\n",
    "from sklearn.svm import SVC\n",
    "from sklearn.svm import LinearSVC\n",
    "from sklearn.model_selection import GridSearchCV\n",
    "from sklearn.model_selection import cross_validate\n",
    "from sklearn.model_selection import train_test_split\n",
    "from sklearn.model_selection import KFold\n",
    "from sklearn.metrics import f1_score\n",
    "from sklearn.metrics import accuracy_score"
   ]
  },
  {
   "cell_type": "markdown",
   "id": "7106b46d-e9b7-4de4-ace8-8236f5880694",
   "metadata": {
    "id": "e47ef09e-3862-40e8-a1c1-144ff6ff4b5b"
   },
   "source": [
    "# Load Dateset #"
   ]
  },
  {
   "cell_type": "code",
   "execution_count": 3,
   "id": "c671cfda-ea60-4259-a826-daa0f8e17d5a",
   "metadata": {
    "colab": {
     "base_uri": "https://localhost:8080/"
    },
    "id": "SVZcOGg14eba",
    "outputId": "c5120cad-cffe-49f2-b6af-d8dce43be321"
   },
   "outputs": [],
   "source": [
    "# from google.colab import drive\n",
    "# drive.mount('/content/drive')"
   ]
  },
  {
   "cell_type": "code",
   "execution_count": 11,
   "id": "0965a13f-3555-4be0-83cf-7ce1e221a701",
   "metadata": {
    "colab": {
     "base_uri": "https://localhost:8080/"
    },
    "id": "321b0b55-12fe-4b2e-8f72-39169c854e6e",
    "outputId": "2b5fed55-973e-4dc8-97f8-d4f1c8a4cbfc"
   },
   "outputs": [
    {
     "name": "stdout",
     "output_type": "stream",
     "text": [
      "['dws_11', 'ups_12', '.DS_Store', 'wlk_7', 'std_14', 'wlk_15', 'wlk_8', 'dws_2', 'sit_13', 'jog_9', 'ups_3', 'ups_4', 'jog_16', 'dws_1', 'sit_5', 'std_6']\n"
     ]
    }
   ],
   "source": [
    "#data_path = '/content/drive/MyDrive/motionsense_dataset'\n",
    "data_path = os.path.join(os.getcwd(), 'data')\n",
    "save_path = os.path.join(os.getcwd(), 'temp_models')\n",
    "print(os.listdir(data_path))"
   ]
  },
  {
   "cell_type": "code",
   "execution_count": 5,
   "id": "64b084f8-799c-41f9-979f-5fa75e3d5e01",
   "metadata": {
    "colab": {
     "base_uri": "https://localhost:8080/"
    },
    "id": "6ULrw4SOcmGq",
    "outputId": "e9b9b20f-867d-4b4f-891f-d9aa31238889"
   },
   "outputs": [
    {
     "name": "stdout",
     "output_type": "stream",
     "text": [
      "['/Users/apple/Desktop/CG4002_Capstone/ML/data/dws_11', '/Users/apple/Desktop/CG4002_Capstone/ML/data/ups_12', '/Users/apple/Desktop/CG4002_Capstone/ML/data/wlk_7', '/Users/apple/Desktop/CG4002_Capstone/ML/data/std_14', '/Users/apple/Desktop/CG4002_Capstone/ML/data/wlk_15', '/Users/apple/Desktop/CG4002_Capstone/ML/data/wlk_8', '/Users/apple/Desktop/CG4002_Capstone/ML/data/dws_2', '/Users/apple/Desktop/CG4002_Capstone/ML/data/sit_13', '/Users/apple/Desktop/CG4002_Capstone/ML/data/jog_9', '/Users/apple/Desktop/CG4002_Capstone/ML/data/ups_3', '/Users/apple/Desktop/CG4002_Capstone/ML/data/ups_4', '/Users/apple/Desktop/CG4002_Capstone/ML/data/jog_16', '/Users/apple/Desktop/CG4002_Capstone/ML/data/dws_1', '/Users/apple/Desktop/CG4002_Capstone/ML/data/sit_5', '/Users/apple/Desktop/CG4002_Capstone/ML/data/std_6']\n"
     ]
    }
   ],
   "source": [
    "folders = glob(os.path.join(data_path,'*_*'))\n",
    "folders = [s for s in folders if (\"csv\" not in s) or (\".DS_Store\" not in s) or (\".ipynb\" not in s)]\n",
    "df_all_list = []\n",
    "activity_codes = {'dws':0,'jog':1,'sit':2,'std':3,'ups':4,'wlk':5}\n",
    "activity_decodes = {0:'dws',1:'jog',2:'sit',3:'std',4:'ups',5:'wlk'}\n",
    "activity_types = list(activity_codes.keys())\n",
    "print(folders)"
   ]
  },
  {
   "cell_type": "code",
   "execution_count": 6,
   "id": "7d72ce05-03ea-40c5-856a-c2138d4178fa",
   "metadata": {
    "colab": {
     "base_uri": "https://localhost:8080/"
    },
    "id": "K_k1gRcBM6Up",
    "outputId": "6d82a22b-b313-4777-c1d7-0f5166ae3b3f"
   },
   "outputs": [
    {
     "name": "stdout",
     "output_type": "stream",
     "text": [
      "(5102, 30)\n",
      "(5102,)\n"
     ]
    }
   ],
   "source": [
    "#Feature extraction for NN model e.x. MLP\n",
    "window = 500\n",
    "feature_n = 6\n",
    "attributes = ['attitude.roll', 'attitude.pitch', 'attitude.yaw','userAcceleration.x','userAcceleration.y','userAcceleration.z']\n",
    "data_all_x_list = []\n",
    "data_all_y_list = []\n",
    "for j in folders:\n",
    "    csv_list = glob(j + '/*')\n",
    "    label = j.split('/')[-1].split('_')[0]\n",
    "    for i in csv_list:\n",
    "        df = pd.read_csv(\n",
    "            i,\n",
    "            usecols = ['attitude.roll','attitude.pitch',\n",
    "                       'attitude.yaw','userAcceleration.x',\n",
    "                       'userAcceleration.y','userAcceleration.z']\n",
    "         )\n",
    "        win_count = int(df.shape[0] / (window / 2)) - 1\n",
    "        data_x = np.zeros((win_count, df.shape[1] * 5))\n",
    "        data_y = np.zeros(win_count)\n",
    "\n",
    "        length = len(df)\n",
    "        for c in range(win_count):\n",
    "            start_idx = int(c * (window / 2))\n",
    "            end_idx = start_idx + window\n",
    "            temp_list = []\n",
    "            for k in range(feature_n):\n",
    "                means = df[start_idx:end_idx][attributes[k]].mean()\n",
    "                stds = df[start_idx:end_idx][attributes[k]].mean()\n",
    "                mins = df[start_idx:end_idx][attributes[k]].min()\n",
    "                maxs = df[start_idx:end_idx][attributes[k]].max()\n",
    "                mads = df[start_idx:end_idx][attributes[k]].mad()\n",
    "                temp_list.append(means)\n",
    "                temp_list.append(stds)\n",
    "                temp_list.append(mins)\n",
    "                temp_list.append(maxs)\n",
    "                temp_list.append(mads)\n",
    "            data_x[c] = temp_list\n",
    "            data_y[c] = activity_codes[label]\n",
    "\n",
    "        data_all_x_list.append(data_x)\n",
    "        data_all_y_list.append(data_y)\n",
    "data_all_x = np.concatenate(data_all_x_list,axis=0)\n",
    "data_all_y = np.concatenate(data_all_y_list,axis=0)\n",
    "data_all_y = data_all_y.astype(int)\n",
    "print(data_all_x.shape)\n",
    "print(data_all_y.shape)"
   ]
  },
  {
   "cell_type": "markdown",
   "id": "2fad72ff-db81-48a1-968f-259fd85b4c2b",
   "metadata": {
    "id": "7MzEIcKoRyQD"
   },
   "source": [
    "## MLP Train & Test ##"
   ]
  },
  {
   "cell_type": "code",
   "execution_count": 7,
   "id": "ecf28aef-fc57-44b1-9df0-ceb3e5c37358",
   "metadata": {
    "colab": {
     "base_uri": "https://localhost:8080/"
    },
    "id": "Q1jttj8sRwU8",
    "outputId": "82bc1f3b-a5c8-434a-c9b1-aecda5c7eef5"
   },
   "outputs": [],
   "source": [
    "# print(\"Num GPUs Available: \", len(tf.config.list_physical_devices('GPU')))"
   ]
  },
  {
   "cell_type": "code",
   "execution_count": 8,
   "id": "4efcf00d-2692-4a7a-8800-f786014f32af",
   "metadata": {
    "colab": {
     "base_uri": "https://localhost:8080/"
    },
    "id": "8HCVffPYRwVK",
    "outputId": "03573c1f-71c4-4fa6-9c95-913f73655401"
   },
   "outputs": [
    {
     "name": "stdout",
     "output_type": "stream",
     "text": [
      "(4081, 30) (1021, 30)\n",
      "(4081,) (1021,)\n"
     ]
    }
   ],
   "source": [
    "train_x,test_x,train_y,test_y = train_test_split(data_all_x,data_all_y,test_size=0.2)\n",
    "assert(len(train_x) == len(train_y))\n",
    "assert(len(test_x) == len(test_y))\n",
    "print(train_x.shape, test_x.shape)\n",
    "print(train_y.shape, test_y.shape)"
   ]
  },
  {
   "cell_type": "code",
   "execution_count": 9,
   "id": "ea7760fb-1ec5-4d90-9699-d1cd0c633556",
   "metadata": {
    "id": "SlWo6vq5S1rR"
   },
   "outputs": [],
   "source": [
    "kfold = KFold(n_splits=5, shuffle=True)"
   ]
  },
  {
   "cell_type": "code",
   "execution_count": null,
   "id": "5ba1fee0-7829-4f49-a8a4-e31b44f4f22a",
   "metadata": {
    "id": "iwgq1ue9RwVL"
   },
   "outputs": [],
   "source": [
    "\n",
    "# train_x = tf.convert_to_tensor(train_x, dtype=tf.float32)\n",
    "# test_x = tf.convert_to_tensor(test_x, dtype=tf.float32)\n",
    "# train_y = tf.convert_to_tensor(tf.keras.utils.to_categorical(train_y,  num_classes=6), dtype=tf.float32)\n",
    "# test_y = tf.convert_to_tensor(tf.keras.utils.to_categorical(test_y,  num_classes=6), dtype=tf.float32)"
   ]
  },
  {
   "cell_type": "code",
   "execution_count": null,
   "id": "36c82f6b-d0d2-4f4d-8d72-736490cd6ed8",
   "metadata": {
    "id": "ShL0fDGYRwVL"
   },
   "outputs": [],
   "source": [
    "# train_dataset = tf.data.Dataset.from_tensor_slices((train_x, train_y))\n",
    "# test_dataset = tf.data.Dataset.from_tensor_slices((test_x, test_y))"
   ]
  },
  {
   "cell_type": "code",
   "execution_count": null,
   "id": "b759733a-6685-49c8-99d3-b88dcb9a518d",
   "metadata": {
    "id": "LGgaTIV3RwVL"
   },
   "outputs": [],
   "source": [
    "# BATCH_SIZE = 32\n",
    "# SHUFFLE_BUFFER_SIZE = 100\n",
    "\n",
    "# train_dataset = train_dataset.shuffle(SHUFFLE_BUFFER_SIZE).batch(BATCH_SIZE)\n",
    "# test_dataset = test_dataset.batch(BATCH_SIZE)"
   ]
  },
  {
   "cell_type": "code",
   "execution_count": null,
   "id": "d20b9340-cb6b-4c6e-8ce0-78996aa36fdc",
   "metadata": {
    "colab": {
     "base_uri": "https://localhost:8080/"
    },
    "id": "-7OAxHT7RwVL",
    "outputId": "94d4b174-2dab-4def-d8fd-01a8b23ff7e2"
   },
   "outputs": [
    {
     "name": "stdout",
     "output_type": "stream",
     "text": [
      "(30,)\n",
      "(6,)\n"
     ]
    }
   ],
   "source": [
    "# for i,j in train_dataset.take(1):\n",
    "#     print(i.numpy().shape)\n",
    "#     print(j.numpy().shape)"
   ]
  },
  {
   "cell_type": "code",
   "execution_count": 15,
   "id": "6f7da0bb-9568-42bd-a748-56ad39137800",
   "metadata": {
    "colab": {
     "base_uri": "https://localhost:8080/",
     "height": 1000,
     "referenced_widgets": [
      "f70773b691ea4808a59cdfe9186c67c8",
      "8551b81f860342b8ba8755fd862852b9",
      "0a82ce451bcd45d898aad963cc53df8a",
      "37a5d4f796014d03b2a49f069e5bc523",
      "5520f1a9bcb24f8d9402ef9b7ecad549",
      "2bae5121996647578d25d275654a866e",
      "c924cff22ee34d3fba68f89723ddffd5",
      "b0f667c6bb29458e8e8e38f58daf966b",
      "d1ac7ac23e8c4c598ff646baee5e2a14",
      "3a4d6f20c98d4c8b876663d1b1b8b18d",
      "0db0c552e79a46078c34932048edb798"
     ]
    },
    "id": "yKrTNZFlRwVM",
    "outputId": "cfe8d949-dc7d-42fe-dfee-ac366a6cbe39"
   },
   "outputs": [
    {
     "data": {
      "application/vnd.jupyter.widget-view+json": {
       "model_id": "b16fc7ec5e8b48fdb14fec37cb588aff",
       "version_major": 2,
       "version_minor": 0
      },
      "text/plain": [
       "0it [00:00, ?it/s]"
      ]
     },
     "metadata": {},
     "output_type": "display_data"
    },
    {
     "name": "stdout",
     "output_type": "stream",
     "text": [
      "Epoch 1/15\n",
      "102/102 [==============================] - 1s 928us/step - loss: 1.4753 - accuracy: 0.4265\n",
      "Epoch 2/15\n",
      "102/102 [==============================] - 0s 867us/step - loss: 0.9952 - accuracy: 0.6311\n",
      "Epoch 3/15\n",
      "102/102 [==============================] - 0s 879us/step - loss: 0.7833 - accuracy: 0.7175\n",
      "Epoch 4/15\n",
      "102/102 [==============================] - 0s 915us/step - loss: 0.6626 - accuracy: 0.7457\n",
      "Epoch 5/15\n",
      "102/102 [==============================] - 0s 1ms/step - loss: 0.5677 - accuracy: 0.7721\n",
      "Epoch 6/15\n",
      "102/102 [==============================] - 0s 1ms/step - loss: 0.5383 - accuracy: 0.7865\n",
      "Epoch 7/15\n",
      "102/102 [==============================] - 0s 1ms/step - loss: 0.4898 - accuracy: 0.8134\n",
      "Epoch 8/15\n",
      "102/102 [==============================] - 0s 1ms/step - loss: 0.4480 - accuracy: 0.8208\n",
      "Epoch 9/15\n",
      "102/102 [==============================] - 0s 1ms/step - loss: 0.4267 - accuracy: 0.8306\n",
      "Epoch 10/15\n",
      "102/102 [==============================] - 0s 884us/step - loss: 0.4068 - accuracy: 0.8416\n",
      "Epoch 11/15\n",
      "102/102 [==============================] - 0s 896us/step - loss: 0.3866 - accuracy: 0.8419\n",
      "Epoch 12/15\n",
      "102/102 [==============================] - 0s 962us/step - loss: 0.3658 - accuracy: 0.8631\n",
      "Epoch 13/15\n",
      "102/102 [==============================] - 0s 880us/step - loss: 0.3571 - accuracy: 0.8640\n",
      "Epoch 14/15\n",
      "102/102 [==============================] - 0s 858us/step - loss: 0.3396 - accuracy: 0.8680\n",
      "Epoch 15/15\n",
      "102/102 [==============================] - 0s 1000us/step - loss: 0.3204 - accuracy: 0.8756\n",
      "accuracy for fold 1: 0.9069767594337463; f1_macro is 0.8669610619544983\n",
      "Epoch 1/15\n",
      "103/103 [==============================] - 0s 1ms/step - loss: 1.4873 - accuracy: 0.4193\n",
      "Epoch 2/15\n",
      "103/103 [==============================] - 0s 923us/step - loss: 1.0384 - accuracy: 0.6123\n",
      "Epoch 3/15\n",
      "103/103 [==============================] - 0s 931us/step - loss: 0.8278 - accuracy: 0.6876\n",
      "Epoch 4/15\n",
      "103/103 [==============================] - 0s 933us/step - loss: 0.7082 - accuracy: 0.7268\n",
      "Epoch 5/15\n",
      "103/103 [==============================] - 0s 969us/step - loss: 0.6228 - accuracy: 0.7590\n",
      "Epoch 6/15\n",
      "103/103 [==============================] - 0s 1ms/step - loss: 0.5775 - accuracy: 0.7786\n",
      "Epoch 7/15\n",
      "103/103 [==============================] - 0s 978us/step - loss: 0.5168 - accuracy: 0.7966\n",
      "Epoch 8/15\n",
      "103/103 [==============================] - 0s 1ms/step - loss: 0.4867 - accuracy: 0.8064\n",
      "Epoch 9/15\n",
      "103/103 [==============================] - 0s 1ms/step - loss: 0.4656 - accuracy: 0.8147\n",
      "Epoch 10/15\n",
      "103/103 [==============================] - 0s 916us/step - loss: 0.4288 - accuracy: 0.8276\n",
      "Epoch 11/15\n",
      "103/103 [==============================] - 0s 1ms/step - loss: 0.4037 - accuracy: 0.8337\n",
      "Epoch 12/15\n",
      "103/103 [==============================] - 0s 1ms/step - loss: 0.3841 - accuracy: 0.8505\n",
      "Epoch 13/15\n",
      "103/103 [==============================] - 0s 980us/step - loss: 0.3792 - accuracy: 0.8493\n",
      "Epoch 14/15\n",
      "103/103 [==============================] - 0s 1ms/step - loss: 0.3578 - accuracy: 0.8591\n",
      "Epoch 15/15\n",
      "103/103 [==============================] - 0s 994us/step - loss: 0.3449 - accuracy: 0.8634\n",
      "accuracy for fold 2: 0.9007353186607361; f1_macro is 0.8536238074302673\n",
      "Epoch 1/15\n",
      "103/103 [==============================] - 0s 943us/step - loss: 1.4930 - accuracy: 0.4303\n",
      "Epoch 2/15\n",
      "103/103 [==============================] - 0s 1ms/step - loss: 1.0520 - accuracy: 0.5908\n",
      "Epoch 3/15\n",
      "103/103 [==============================] - 0s 986us/step - loss: 0.8077 - accuracy: 0.7023\n",
      "Epoch 4/15\n",
      "103/103 [==============================] - 0s 946us/step - loss: 0.6632 - accuracy: 0.7479\n",
      "Epoch 5/15\n",
      "103/103 [==============================] - 0s 2ms/step - loss: 0.5705 - accuracy: 0.7841\n",
      "Epoch 6/15\n",
      "103/103 [==============================] - 0s 948us/step - loss: 0.5202 - accuracy: 0.7926\n",
      "Epoch 7/15\n",
      "103/103 [==============================] - 0s 960us/step - loss: 0.4812 - accuracy: 0.8126\n",
      "Epoch 8/15\n",
      "103/103 [==============================] - 0s 926us/step - loss: 0.4342 - accuracy: 0.8309\n",
      "Epoch 9/15\n",
      "103/103 [==============================] - 0s 947us/step - loss: 0.4330 - accuracy: 0.8260\n",
      "Epoch 10/15\n",
      "103/103 [==============================] - 0s 959us/step - loss: 0.4146 - accuracy: 0.8377\n",
      "Epoch 11/15\n",
      "103/103 [==============================] - 0s 958us/step - loss: 0.3924 - accuracy: 0.8383\n",
      "Epoch 12/15\n",
      "103/103 [==============================] - 0s 1ms/step - loss: 0.3685 - accuracy: 0.8515\n",
      "Epoch 13/15\n",
      "103/103 [==============================] - 0s 1ms/step - loss: 0.3716 - accuracy: 0.8447\n",
      "Epoch 14/15\n",
      "103/103 [==============================] - 0s 1ms/step - loss: 0.3514 - accuracy: 0.8616\n",
      "Epoch 15/15\n",
      "103/103 [==============================] - 0s 1ms/step - loss: 0.3288 - accuracy: 0.8613\n",
      "accuracy for fold 3: 0.8774510025978088; f1_macro is 0.8328812122344971\n",
      "Epoch 1/15\n",
      "103/103 [==============================] - 0s 961us/step - loss: 1.6769 - accuracy: 0.3657\n",
      "Epoch 2/15\n",
      "103/103 [==============================] - 0s 1ms/step - loss: 1.1350 - accuracy: 0.5847\n",
      "Epoch 3/15\n",
      "103/103 [==============================] - 0s 972us/step - loss: 0.8700 - accuracy: 0.6714\n",
      "Epoch 4/15\n",
      "103/103 [==============================] - 0s 951us/step - loss: 0.7326 - accuracy: 0.7201\n",
      "Epoch 5/15\n",
      "103/103 [==============================] - 0s 1ms/step - loss: 0.6480 - accuracy: 0.7556\n",
      "Epoch 6/15\n",
      "103/103 [==============================] - 0s 1ms/step - loss: 0.5839 - accuracy: 0.7700\n",
      "Epoch 7/15\n",
      "103/103 [==============================] - 0s 1ms/step - loss: 0.5267 - accuracy: 0.7874\n",
      "Epoch 8/15\n",
      "103/103 [==============================] - 0s 1ms/step - loss: 0.5025 - accuracy: 0.8043\n",
      "Epoch 9/15\n",
      "103/103 [==============================] - 0s 1ms/step - loss: 0.4721 - accuracy: 0.8153\n",
      "Epoch 10/15\n",
      "103/103 [==============================] - 0s 1ms/step - loss: 0.4332 - accuracy: 0.8257\n",
      "Epoch 11/15\n",
      "103/103 [==============================] - 0s 1ms/step - loss: 0.4366 - accuracy: 0.8178\n",
      "Epoch 12/15\n",
      "103/103 [==============================] - 0s 1ms/step - loss: 0.4104 - accuracy: 0.8263\n",
      "Epoch 13/15\n",
      "103/103 [==============================] - 0s 1000us/step - loss: 0.3926 - accuracy: 0.8459\n",
      "Epoch 14/15\n",
      "103/103 [==============================] - 0s 1ms/step - loss: 0.3821 - accuracy: 0.8395\n",
      "Epoch 15/15\n",
      "103/103 [==============================] - 0s 1ms/step - loss: 0.3716 - accuracy: 0.8524\n",
      "accuracy for fold 4: 0.8786764740943909; f1_macro is 0.8120880722999573\n",
      "Epoch 1/15\n",
      "103/103 [==============================] - 0s 931us/step - loss: 1.6581 - accuracy: 0.3804\n",
      "Epoch 2/15\n",
      "103/103 [==============================] - 0s 1ms/step - loss: 1.1409 - accuracy: 0.6009\n",
      "Epoch 3/15\n",
      "103/103 [==============================] - 0s 1ms/step - loss: 0.8542 - accuracy: 0.6787\n",
      "Epoch 4/15\n",
      "103/103 [==============================] - 0s 1ms/step - loss: 0.7215 - accuracy: 0.7280\n",
      "Epoch 5/15\n",
      "103/103 [==============================] - 0s 981us/step - loss: 0.6260 - accuracy: 0.7608\n",
      "Epoch 6/15\n",
      "103/103 [==============================] - 0s 1ms/step - loss: 0.5571 - accuracy: 0.7813\n",
      "Epoch 7/15\n",
      "103/103 [==============================] - 0s 1ms/step - loss: 0.5074 - accuracy: 0.8003\n",
      "Epoch 8/15\n",
      "103/103 [==============================] - 0s 981us/step - loss: 0.4903 - accuracy: 0.7939\n",
      "Epoch 9/15\n",
      "103/103 [==============================] - 0s 1ms/step - loss: 0.4591 - accuracy: 0.8138\n",
      "Epoch 10/15\n",
      "103/103 [==============================] - 0s 1ms/step - loss: 0.4346 - accuracy: 0.8214\n",
      "Epoch 11/15\n",
      "103/103 [==============================] - 0s 1ms/step - loss: 0.4229 - accuracy: 0.8288\n",
      "Epoch 12/15\n",
      "103/103 [==============================] - 0s 1ms/step - loss: 0.4150 - accuracy: 0.8288\n",
      "Epoch 13/15\n",
      "103/103 [==============================] - 0s 1ms/step - loss: 0.4005 - accuracy: 0.8413\n",
      "Epoch 14/15\n",
      "103/103 [==============================] - 0s 1ms/step - loss: 0.3726 - accuracy: 0.8505\n",
      "Epoch 15/15\n",
      "103/103 [==============================] - 0s 1ms/step - loss: 0.3550 - accuracy: 0.8548\n",
      "accuracy for fold 5: 0.9142156839370728; f1_macro is 0.8601148724555969\n"
     ]
    }
   ],
   "source": [
    "num_classes = 6\n",
    "num_features = 30\n",
    "acc_list = {}\n",
    "f1_list = {}\n",
    "train_acc_list = {}\n",
    "fold_no = 1\n",
    "epochs = 15\n",
    "best_id = 1\n",
    "best_acc = 0\n",
    "\n",
    "for train, test in tqdm(kfold.split(train_x, train_y)):\n",
    "    model = tf.keras.Sequential([\n",
    "      tf.keras.Input(shape=train_x.shape[1]),\n",
    "      tf.keras.layers.Dense(32, activation='relu'),\n",
    "      tf.keras.layers.Dropout(0.2),\n",
    "      tf.keras.layers.Dense(32, activation='relu'),\n",
    "      tf.keras.layers.Dropout(0.2),\n",
    "      tf.keras.layers.Dense(num_classes, activation='softmax')\n",
    "  ])\n",
    "    model.compile(optimizer='adam',\n",
    "              loss= tf.keras.losses.SparseCategoricalCrossentropy(),\n",
    "              metrics=['accuracy'])\n",
    "\n",
    "    history = model.fit(\n",
    "      train_x[train],\n",
    "      train_y[train],\n",
    "      epochs=epochs\n",
    "    )\n",
    "    train_acc = history.history['accuracy']\n",
    "    y_pred = model.predict(train_x[test], verbose=0)\n",
    "    # print(y_pred)\n",
    "    y_pred_1 = np.argmax(y_pred, axis = 1)\n",
    "    # print(y_pred_1)\n",
    "    # print(train_y[test])\n",
    "    train_y_1 = np.zeros((train_y[test].size, train_y[test].max()+1))\n",
    "    train_y_1[np.arange(train_y[test].size),train_y[test]] = 1\n",
    "    # print(train_y_1)\n",
    "    f1_metric = tfa.metrics.F1Score(num_classes= num_classes, average = 'macro', threshold=None)\n",
    "    acc_metric = tf.keras.metrics.Accuracy()\n",
    "    acc_metric.update_state(train_y[test], y_pred_1)\n",
    "    acc = acc_metric.result().numpy()\n",
    "    # print(acc)\n",
    "    y_pred_1 = y_pred_1.astype(np.float32)\n",
    "    f1_metric.update_state(train_y_1, y_pred)\n",
    "    f1_macro = f1_metric.result().numpy()\n",
    "    if acc > best_acc:\n",
    "        best_acc = acc\n",
    "        best_id = fold_no\n",
    "    # print(f1_macro)\n",
    "    print(f\"accuracy for fold {fold_no}: {acc}; f1_macro is {f1_macro}\")\n",
    "    acc_list[fold_no] = acc\n",
    "    train_acc_list[fold_no] = train_acc\n",
    "    f1_list[fold_no] = f1_macro\n",
    "    model.save(os.path.join(save_path, f\"mlp_{fold_no}.h5\"))\n",
    "    fold_no += 1\n"
   ]
  },
  {
   "cell_type": "code",
   "execution_count": 16,
   "id": "2fa6fb86-212f-4757-a6ae-0de6065a9421",
   "metadata": {
    "colab": {
     "base_uri": "https://localhost:8080/"
    },
    "id": "AVNVVtNTRwVM",
    "outputId": "79c1d620-6dcd-4a50-caa9-1a9fb437cb2e"
   },
   "outputs": [
    {
     "name": "stdout",
     "output_type": "stream",
     "text": [
      "{1: 0.90697676, 2: 0.9007353, 3: 0.877451, 4: 0.8786765, 5: 0.9142157}\n",
      "{1: 0.86696106, 2: 0.8536238, 3: 0.8328812, 4: 0.8120881, 5: 0.8601149}\n",
      "{1: [0.4264705777168274, 0.6311274766921997, 0.717524528503418, 0.7457107901573181, 0.7720588445663452, 0.7864583134651184, 0.8134191036224365, 0.8207720518112183, 0.8305760025978088, 0.8416053652763367, 0.841911792755127, 0.8630514740943909, 0.8639705777168274, 0.8679534196853638, 0.875612735748291], 2: [0.4192955493927002, 0.6122511625289917, 0.6875957250595093, 0.7267993688583374, 0.758958637714386, 0.7785605192184448, 0.7966309189796448, 0.8064318299293518, 0.8147013783454895, 0.82756507396698, 0.8336906433105469, 0.8505359888076782, 0.8493108749389648, 0.8591117858886719, 0.8633996844291687], 3: [0.430321604013443, 0.5908116102218628, 0.7022970914840698, 0.7479326128959656, 0.784073531627655, 0.7926493287086487, 0.8125573992729187, 0.8309341669082642, 0.8260337114334106, 0.8376722931861877, 0.8382848501205444, 0.8514547944068909, 0.8447166681289673, 0.8615620136260986, 0.8612557649612427], 4: [0.3656967878341675, 0.5846860408782959, 0.6713629364967346, 0.7200612425804138, 0.7555896043777466, 0.7699846625328064, 0.7874425649642944, 0.8042879104614258, 0.8153139352798462, 0.8257274031639099, 0.817764163017273, 0.8263399600982666, 0.8459417819976807, 0.8395099639892578, 0.8523736596107483], 5: [0.380398154258728, 0.6009188294410706, 0.6787136197090149, 0.7280244827270508, 0.760796308517456, 0.7813169956207275, 0.8003062605857849, 0.7938744425773621, 0.8137825131416321, 0.8214395046234131, 0.8287901878356934, 0.8287901878356934, 0.8413476347923279, 0.8505359888076782, 0.854823887348175]}\n",
      "5\n"
     ]
    }
   ],
   "source": [
    "print(acc_list)\n",
    "print(f1_list)\n",
    "print(train_acc_list)\n",
    "print(best_id)"
   ]
  },
  {
   "cell_type": "code",
   "execution_count": 17,
   "id": "ca906f90-c8b6-482d-b1b2-c07bb8ed20c9",
   "metadata": {
    "colab": {
     "base_uri": "https://localhost:8080/"
    },
    "id": "L60jzIpFRwVM",
    "outputId": "38b12bcc-dedd-4e80-a183-6e544e6c7c3f"
   },
   "outputs": [
    {
     "name": "stdout",
     "output_type": "stream",
     "text": [
      "test accuracy is 0.9040156602859497\n",
      "test f1 macro is 0.8549318909645081\n"
     ]
    }
   ],
   "source": [
    "best_model = tf.keras.models.load_model(os.path.join(save_path, f\"mlp_{best_id}.h5\"))\n",
    "y_pred = best_model.predict(test_x, verbose=0)\n",
    "# print(y_pred)\n",
    "y_pred_1 = np.argmax(y_pred, axis = 1)\n",
    "# print(y_pred_1)\n",
    "# print(train_y[test])\n",
    "train_y_1 = np.zeros((test_y.size, test_y.max()+1))\n",
    "train_y_1[np.arange(test_y.size),test_y] = 1\n",
    "# print(train_y_1)\n",
    "f1_metric = tfa.metrics.F1Score(num_classes= num_classes, average = 'macro', threshold=None)\n",
    "acc_metric = tf.keras.metrics.Accuracy()\n",
    "acc_metric.update_state(test_y, y_pred_1)\n",
    "acc = acc_metric.result().numpy()\n",
    "# print(acc)\n",
    "y_pred_1 = y_pred_1.astype(np.float32)\n",
    "f1_metric.update_state(train_y_1, y_pred)\n",
    "f1_macro = f1_metric.result().numpy()\n",
    "print(f\"test accuracy is {acc}\")\n",
    "print(f\"test f1 macro is {f1_macro}\")"
   ]
  },
  {
   "cell_type": "code",
   "execution_count": 18,
   "id": "ba9d3ae8-67be-4957-b438-c0c3999f658c",
   "metadata": {
    "colab": {
     "base_uri": "https://localhost:8080/",
     "height": 499
    },
    "id": "gYWRHbS6yKD8",
    "outputId": "c034f7e5-0a9c-4fa8-afcf-03888a36dec3"
   },
   "outputs": [
    {
     "ename": "TypeError",
     "evalue": "unhashable type: 'numpy.ndarray'",
     "output_type": "error",
     "traceback": [
      "\u001b[0;31m---------------------------------------------------------------------------\u001b[0m",
      "\u001b[0;31mTypeError\u001b[0m                                 Traceback (most recent call last)",
      "\u001b[0;32m/var/folders/j5/8p7d3wls6rz_zgxtqcsldwkm0000gn/T/ipykernel_6149/3803617680.py\u001b[0m in \u001b[0;36m<module>\u001b[0;34m\u001b[0m\n\u001b[1;32m      1\u001b[0m \u001b[0msingle_sample\u001b[0m \u001b[0;34m=\u001b[0m \u001b[0mtest_x\u001b[0m\u001b[0;34m[\u001b[0m\u001b[0;34m-\u001b[0m\u001b[0;36m1\u001b[0m\u001b[0;34m]\u001b[0m\u001b[0;34m\u001b[0m\u001b[0;34m\u001b[0m\u001b[0m\n\u001b[1;32m      2\u001b[0m \u001b[0msample_label\u001b[0m \u001b[0;34m=\u001b[0m \u001b[0mactivity_decodes\u001b[0m\u001b[0;34m[\u001b[0m\u001b[0mtest_y\u001b[0m\u001b[0;34m[\u001b[0m\u001b[0;34m-\u001b[0m\u001b[0;36m1\u001b[0m\u001b[0;34m]\u001b[0m\u001b[0;34m]\u001b[0m\u001b[0;34m\u001b[0m\u001b[0;34m\u001b[0m\u001b[0m\n\u001b[0;32m----> 3\u001b[0;31m \u001b[0mprediction\u001b[0m \u001b[0;34m=\u001b[0m \u001b[0mactivity_decodes\u001b[0m\u001b[0;34m[\u001b[0m\u001b[0my_pred\u001b[0m\u001b[0;34m[\u001b[0m\u001b[0;34m-\u001b[0m\u001b[0;36m1\u001b[0m\u001b[0;34m]\u001b[0m\u001b[0;34m]\u001b[0m\u001b[0;34m\u001b[0m\u001b[0;34m\u001b[0m\u001b[0m\n\u001b[0m\u001b[1;32m      4\u001b[0m \u001b[0mplt\u001b[0m\u001b[0;34m.\u001b[0m\u001b[0mfigure\u001b[0m\u001b[0;34m(\u001b[0m\u001b[0mfigsize\u001b[0m\u001b[0;34m=\u001b[0m\u001b[0;34m(\u001b[0m\u001b[0;36m15\u001b[0m\u001b[0;34m,\u001b[0m \u001b[0;36m8\u001b[0m\u001b[0;34m)\u001b[0m\u001b[0;34m)\u001b[0m\u001b[0;34m\u001b[0m\u001b[0;34m\u001b[0m\u001b[0m\n\u001b[1;32m      5\u001b[0m \u001b[0mplt\u001b[0m\u001b[0;34m.\u001b[0m\u001b[0mplot\u001b[0m\u001b[0;34m(\u001b[0m\u001b[0msingle_sample\u001b[0m\u001b[0;34m)\u001b[0m\u001b[0;34m\u001b[0m\u001b[0;34m\u001b[0m\u001b[0m\n",
      "\u001b[0;31mTypeError\u001b[0m: unhashable type: 'numpy.ndarray'"
     ]
    }
   ],
   "source": [
    "single_sample = test_x[-1]\n",
    "sample_label = activity_decodes[test_y[-1]]\n",
    "prediction = activity_decodes[y_pred[-1]]\n",
    "plt.figure(figsize=(15, 8))\n",
    "plt.plot(single_sample)\n",
    "plt.title(f\"Sample Label: {sample_label}; Predict: {prediction}\")\n",
    "plt.show()"
   ]
  },
  {
   "cell_type": "code",
   "execution_count": null,
   "id": "942f5105-3d3b-4f8d-a942-97241500e8ec",
   "metadata": {},
   "outputs": [],
   "source": []
  }
 ],
 "metadata": {
  "kernelspec": {
   "display_name": "Python 3 (ipykernel)",
   "language": "python",
   "name": "python3"
  },
  "language_info": {
   "codemirror_mode": {
    "name": "ipython",
    "version": 3
   },
   "file_extension": ".py",
   "mimetype": "text/x-python",
   "name": "python",
   "nbconvert_exporter": "python",
   "pygments_lexer": "ipython3",
   "version": "3.8.11"
  }
 },
 "nbformat": 4,
 "nbformat_minor": 5
}
