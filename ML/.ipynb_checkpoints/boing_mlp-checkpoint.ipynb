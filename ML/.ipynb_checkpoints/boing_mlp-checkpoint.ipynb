{
 "cells": [
  {
   "cell_type": "markdown",
   "id": "2f62fc32-3807-4862-b017-8ce28bb57f4a",
   "metadata": {},
   "source": [
    "# MLP Implementation # "
   ]
  },
  {
   "cell_type": "code",
   "execution_count": 50,
   "id": "2bdb1fb6-b338-441e-8e5e-a8dd676edae4",
   "metadata": {
    "id": "48528bad-63dc-4b8e-bbff-48714407e946"
   },
   "outputs": [],
   "source": [
    "import os\n",
    "\n",
    "import numpy as np\n",
    "import pandas as pd\n",
    "from glob import glob\n",
    "import matplotlib.pyplot as plt\n",
    "import tensorflow as tf\n",
    "import tensorflow_addons as tfa\n",
    "from tensorflow.keras import layers\n",
    "from tqdm.notebook import tqdm\n",
    "from sklearn.svm import SVC\n",
    "from sklearn.svm import LinearSVC\n",
    "from sklearn.model_selection import GridSearchCV\n",
    "from sklearn.model_selection import cross_validate\n",
    "from sklearn.model_selection import train_test_split\n",
    "from sklearn.model_selection import KFold\n",
    "from sklearn.metrics import f1_score\n",
    "from sklearn.metrics import accuracy_score"
   ]
  },
  {
   "cell_type": "markdown",
   "id": "7106b46d-e9b7-4de4-ace8-8236f5880694",
   "metadata": {
    "id": "e47ef09e-3862-40e8-a1c1-144ff6ff4b5b"
   },
   "source": [
    "# Load Dateset #"
   ]
  },
  {
   "cell_type": "code",
   "execution_count": 51,
   "id": "c671cfda-ea60-4259-a826-daa0f8e17d5a",
   "metadata": {
    "colab": {
     "base_uri": "https://localhost:8080/"
    },
    "id": "SVZcOGg14eba",
    "outputId": "c5120cad-cffe-49f2-b6af-d8dce43be321"
   },
   "outputs": [],
   "source": [
    "# from google.colab import drive\n",
    "# drive.mount('/content/drive')"
   ]
  },
  {
   "cell_type": "code",
   "execution_count": 52,
   "id": "0965a13f-3555-4be0-83cf-7ce1e221a701",
   "metadata": {
    "colab": {
     "base_uri": "https://localhost:8080/"
    },
    "id": "321b0b55-12fe-4b2e-8f72-39169c854e6e",
    "outputId": "2b5fed55-973e-4dc8-97f8-d4f1c8a4cbfc"
   },
   "outputs": [
    {
     "name": "stdout",
     "output_type": "stream",
     "text": [
      "['dws_11', 'ups_12', '.DS_Store', 'wlk_7', 'std_14', 'wlk_15', 'wlk_8', 'dws_2', 'sit_13', 'jog_9', 'ups_3', 'ups_4', 'jog_16', 'dws_1', 'sit_5', 'std_6']\n"
     ]
    }
   ],
   "source": [
    "#data_path = '/content/drive/MyDrive/motionsense_dataset'\n",
    "data_path = os.path.join(os.getcwd(), 'data')\n",
    "save_path = os.path.join(os.getcwd(), 'temp_models')\n",
    "print(os.listdir(data_path))"
   ]
  },
  {
   "cell_type": "code",
   "execution_count": 53,
   "id": "64b084f8-799c-41f9-979f-5fa75e3d5e01",
   "metadata": {
    "colab": {
     "base_uri": "https://localhost:8080/"
    },
    "id": "6ULrw4SOcmGq",
    "outputId": "e9b9b20f-867d-4b4f-891f-d9aa31238889"
   },
   "outputs": [
    {
     "name": "stdout",
     "output_type": "stream",
     "text": [
      "['/Users/apple/Desktop/CG4002_Capstone/ML/data/dws_11', '/Users/apple/Desktop/CG4002_Capstone/ML/data/ups_12', '/Users/apple/Desktop/CG4002_Capstone/ML/data/wlk_7', '/Users/apple/Desktop/CG4002_Capstone/ML/data/std_14', '/Users/apple/Desktop/CG4002_Capstone/ML/data/wlk_15', '/Users/apple/Desktop/CG4002_Capstone/ML/data/wlk_8', '/Users/apple/Desktop/CG4002_Capstone/ML/data/dws_2', '/Users/apple/Desktop/CG4002_Capstone/ML/data/sit_13', '/Users/apple/Desktop/CG4002_Capstone/ML/data/jog_9', '/Users/apple/Desktop/CG4002_Capstone/ML/data/ups_3', '/Users/apple/Desktop/CG4002_Capstone/ML/data/ups_4', '/Users/apple/Desktop/CG4002_Capstone/ML/data/jog_16', '/Users/apple/Desktop/CG4002_Capstone/ML/data/dws_1', '/Users/apple/Desktop/CG4002_Capstone/ML/data/sit_5', '/Users/apple/Desktop/CG4002_Capstone/ML/data/std_6']\n"
     ]
    }
   ],
   "source": [
    "folders = glob(os.path.join(data_path,'*_*'))\n",
    "folders = [s for s in folders if (\"csv\" not in s) or (\".DS_Store\" not in s) or (\".ipynb\" not in s)]\n",
    "df_all_list = []\n",
    "activity_codes = {'dws':0,'jog':1,'sit':2,'std':3,'ups':4,'wlk':5}\n",
    "activity_decodes = {0:'dws',1:'jog',2:'sit',3:'std',4:'ups',5:'wlk'}\n",
    "usr_cols = ['attitude.roll','attitude.pitch','attitude.yaw','userAcceleration.x','userAcceleration.y','userAcceleration.z']\n",
    "activity_types = list(activity_codes.keys())\n",
    "print(folders)"
   ]
  },
  {
   "cell_type": "code",
   "execution_count": 54,
   "id": "7d72ce05-03ea-40c5-856a-c2138d4178fa",
   "metadata": {
    "colab": {
     "base_uri": "https://localhost:8080/"
    },
    "id": "K_k1gRcBM6Up",
    "outputId": "6d82a22b-b313-4777-c1d7-0f5166ae3b3f"
   },
   "outputs": [
    {
     "name": "stdout",
     "output_type": "stream",
     "text": [
      "(4174, 30)\n",
      "(4174,)\n"
     ]
    }
   ],
   "source": [
    "#Feature extraction for NN model e.x. MLP\n",
    "window = 600\n",
    "feature_n = 6\n",
    "attributes = ['attitude.roll', 'attitude.pitch', 'attitude.yaw','userAcceleration.x','userAcceleration.y','userAcceleration.z']\n",
    "data_all_x_list = []\n",
    "data_all_y_list = []\n",
    "for j in folders:\n",
    "    csv_list = glob(j + '/*')\n",
    "    label = j.split('/')[-1].split('_')[0]\n",
    "    for i in csv_list:\n",
    "        df = pd.read_csv(\n",
    "            i,\n",
    "            usecols = ['attitude.roll','attitude.pitch',\n",
    "                       'attitude.yaw','userAcceleration.x',\n",
    "                       'userAcceleration.y','userAcceleration.z']\n",
    "         )\n",
    "        win_count = int(df.shape[0] / (window / 2)) - 1\n",
    "        data_x = np.zeros((win_count, df.shape[1] * 5))\n",
    "        data_y = np.zeros(win_count)\n",
    "\n",
    "        length = len(df)\n",
    "        for c in range(win_count):\n",
    "            start_idx = int(c * (window / 2))\n",
    "            end_idx = start_idx + window\n",
    "            temp_list = []\n",
    "            for k in range(feature_n):\n",
    "                means = df[start_idx:end_idx][attributes[k]].mean()\n",
    "                stds = df[start_idx:end_idx][attributes[k]].mean()\n",
    "                mins = df[start_idx:end_idx][attributes[k]].min()\n",
    "                maxs = df[start_idx:end_idx][attributes[k]].max()\n",
    "                mads = df[start_idx:end_idx][attributes[k]].mad()\n",
    "                temp_list.append(means)\n",
    "                temp_list.append(stds)\n",
    "                temp_list.append(mins)\n",
    "                temp_list.append(maxs)\n",
    "                temp_list.append(mads)\n",
    "            data_x[c] = temp_list\n",
    "            data_y[c] = activity_codes[label]\n",
    "\n",
    "        data_all_x_list.append(data_x)\n",
    "        data_all_y_list.append(data_y)\n",
    "data_all_x = np.concatenate(data_all_x_list,axis=0)\n",
    "data_all_y = np.concatenate(data_all_y_list,axis=0)\n",
    "data_all_y = data_all_y.astype(int)\n",
    "print(data_all_x.shape)\n",
    "print(data_all_y.shape)"
   ]
  },
  {
   "cell_type": "markdown",
   "id": "2fad72ff-db81-48a1-968f-259fd85b4c2b",
   "metadata": {
    "id": "7MzEIcKoRyQD"
   },
   "source": [
    "## MLP Train & Test ##"
   ]
  },
  {
   "cell_type": "code",
   "execution_count": 55,
   "id": "ecf28aef-fc57-44b1-9df0-ceb3e5c37358",
   "metadata": {
    "colab": {
     "base_uri": "https://localhost:8080/"
    },
    "id": "Q1jttj8sRwU8",
    "outputId": "82bc1f3b-a5c8-434a-c9b1-aecda5c7eef5"
   },
   "outputs": [],
   "source": [
    "# print(\"Num GPUs Available: \", len(tf.config.list_physical_devices('GPU')))"
   ]
  },
  {
   "cell_type": "code",
   "execution_count": 56,
   "id": "4efcf00d-2692-4a7a-8800-f786014f32af",
   "metadata": {
    "colab": {
     "base_uri": "https://localhost:8080/"
    },
    "id": "8HCVffPYRwVK",
    "outputId": "03573c1f-71c4-4fa6-9c95-913f73655401"
   },
   "outputs": [
    {
     "name": "stdout",
     "output_type": "stream",
     "text": [
      "(3339, 30) (835, 30)\n",
      "(3339,) (835,)\n"
     ]
    }
   ],
   "source": [
    "train_x,test_x,train_y,test_y = train_test_split(data_all_x,data_all_y,test_size=0.2)\n",
    "assert(len(train_x) == len(train_y))\n",
    "assert(len(test_x) == len(test_y))\n",
    "print(train_x.shape, test_x.shape)\n",
    "print(train_y.shape, test_y.shape)"
   ]
  },
  {
   "cell_type": "code",
   "execution_count": 57,
   "id": "ea7760fb-1ec5-4d90-9699-d1cd0c633556",
   "metadata": {
    "id": "SlWo6vq5S1rR"
   },
   "outputs": [],
   "source": [
    "kfold = KFold(n_splits=5, shuffle=True)"
   ]
  },
  {
   "cell_type": "code",
   "execution_count": 58,
   "id": "5ba1fee0-7829-4f49-a8a4-e31b44f4f22a",
   "metadata": {
    "id": "iwgq1ue9RwVL"
   },
   "outputs": [],
   "source": [
    "\n",
    "# train_x = tf.convert_to_tensor(train_x, dtype=tf.float32)\n",
    "# test_x = tf.convert_to_tensor(test_x, dtype=tf.float32)\n",
    "# train_y = tf.convert_to_tensor(tf.keras.utils.to_categorical(train_y,  num_classes=6), dtype=tf.float32)\n",
    "# test_y = tf.convert_to_tensor(tf.keras.utils.to_categorical(test_y,  num_classes=6), dtype=tf.float32)"
   ]
  },
  {
   "cell_type": "code",
   "execution_count": 59,
   "id": "36c82f6b-d0d2-4f4d-8d72-736490cd6ed8",
   "metadata": {
    "id": "ShL0fDGYRwVL"
   },
   "outputs": [],
   "source": [
    "# train_dataset = tf.data.Dataset.from_tensor_slices((train_x, train_y))\n",
    "# test_dataset = tf.data.Dataset.from_tensor_slices((test_x, test_y))"
   ]
  },
  {
   "cell_type": "code",
   "execution_count": 60,
   "id": "b759733a-6685-49c8-99d3-b88dcb9a518d",
   "metadata": {
    "id": "LGgaTIV3RwVL"
   },
   "outputs": [],
   "source": [
    "# BATCH_SIZE = 32\n",
    "# SHUFFLE_BUFFER_SIZE = 100\n",
    "\n",
    "# train_dataset = train_dataset.shuffle(SHUFFLE_BUFFER_SIZE).batch(BATCH_SIZE)\n",
    "# test_dataset = test_dataset.batch(BATCH_SIZE)"
   ]
  },
  {
   "cell_type": "code",
   "execution_count": 61,
   "id": "d20b9340-cb6b-4c6e-8ce0-78996aa36fdc",
   "metadata": {
    "colab": {
     "base_uri": "https://localhost:8080/"
    },
    "id": "-7OAxHT7RwVL",
    "outputId": "94d4b174-2dab-4def-d8fd-01a8b23ff7e2"
   },
   "outputs": [],
   "source": [
    "# for i,j in train_dataset.take(1):\n",
    "#     print(i.numpy().shape)\n",
    "#     print(j.numpy().shape)"
   ]
  },
  {
   "cell_type": "code",
   "execution_count": 62,
   "id": "6f7da0bb-9568-42bd-a748-56ad39137800",
   "metadata": {
    "colab": {
     "base_uri": "https://localhost:8080/",
     "height": 1000,
     "referenced_widgets": [
      "f70773b691ea4808a59cdfe9186c67c8",
      "8551b81f860342b8ba8755fd862852b9",
      "0a82ce451bcd45d898aad963cc53df8a",
      "37a5d4f796014d03b2a49f069e5bc523",
      "5520f1a9bcb24f8d9402ef9b7ecad549",
      "2bae5121996647578d25d275654a866e",
      "c924cff22ee34d3fba68f89723ddffd5",
      "b0f667c6bb29458e8e8e38f58daf966b",
      "d1ac7ac23e8c4c598ff646baee5e2a14",
      "3a4d6f20c98d4c8b876663d1b1b8b18d",
      "0db0c552e79a46078c34932048edb798"
     ]
    },
    "id": "yKrTNZFlRwVM",
    "outputId": "cfe8d949-dc7d-42fe-dfee-ac366a6cbe39"
   },
   "outputs": [
    {
     "data": {
      "application/vnd.jupyter.widget-view+json": {
       "model_id": "fd17b9dd18574f9185a6b840e12b4bb7",
       "version_major": 2,
       "version_minor": 0
      },
      "text/plain": [
       "0it [00:00, ?it/s]"
      ]
     },
     "metadata": {},
     "output_type": "display_data"
    },
    {
     "name": "stdout",
     "output_type": "stream",
     "text": [
      "Epoch 1/15\n",
      "84/84 [==============================] - 1s 2ms/step - loss: 1.5663 - accuracy: 0.3504\n",
      "Epoch 2/15\n",
      "84/84 [==============================] - 0s 1ms/step - loss: 1.0933 - accuracy: 0.5586\n",
      "Epoch 3/15\n",
      "84/84 [==============================] - 0s 1ms/step - loss: 0.8836 - accuracy: 0.6484\n",
      "Epoch 4/15\n",
      "84/84 [==============================] - 0s 2ms/step - loss: 0.7056 - accuracy: 0.7368\n",
      "Epoch 5/15\n",
      "84/84 [==============================] - 0s 2ms/step - loss: 0.6376 - accuracy: 0.7518\n",
      "Epoch 6/15\n",
      "84/84 [==============================] - 0s 4ms/step - loss: 0.5395 - accuracy: 0.7896: 0s - loss: 0.5495 - accuracy\n",
      "Epoch 7/15\n",
      "84/84 [==============================] - 0s 3ms/step - loss: 0.5143 - accuracy: 0.8053\n",
      "Epoch 8/15\n",
      "84/84 [==============================] - 0s 6ms/step - loss: 0.4809 - accuracy: 0.8147\n",
      "Epoch 9/15\n",
      "84/84 [==============================] - 0s 3ms/step - loss: 0.4302 - accuracy: 0.8379\n",
      "Epoch 10/15\n",
      "84/84 [==============================] - 0s 1ms/step - loss: 0.3990 - accuracy: 0.8521\n",
      "Epoch 11/15\n",
      "84/84 [==============================] - 0s 1ms/step - loss: 0.3814 - accuracy: 0.8555\n",
      "Epoch 12/15\n",
      "84/84 [==============================] - 0s 1ms/step - loss: 0.3516 - accuracy: 0.8645\n",
      "Epoch 13/15\n",
      "84/84 [==============================] - ETA: 0s - loss: 0.3498 - accuracy: 0.87 - 0s 2ms/step - loss: 0.3505 - accuracy: 0.8705\n",
      "Epoch 14/15\n",
      "84/84 [==============================] - 0s 3ms/step - loss: 0.3333 - accuracy: 0.8701\n",
      "Epoch 15/15\n",
      "84/84 [==============================] - 0s 2ms/step - loss: 0.3138 - accuracy: 0.8813\n",
      "accuracy for fold 1: 0.9041916131973267; f1_macro is 0.8541279435157776\n",
      "Epoch 1/15\n",
      "84/84 [==============================] - 1s 3ms/step - loss: 1.5796 - accuracy: 0.3590\n",
      "Epoch 2/15\n",
      "84/84 [==============================] - 0s 2ms/step - loss: 1.1897 - accuracy: 0.6031\n",
      "Epoch 3/15\n",
      "84/84 [==============================] - 0s 3ms/step - loss: 0.9454 - accuracy: 0.6642\n",
      "Epoch 4/15\n",
      "84/84 [==============================] - 0s 1ms/step - loss: 0.7773 - accuracy: 0.7143\n",
      "Epoch 5/15\n",
      "84/84 [==============================] - 0s 1ms/step - loss: 0.6733 - accuracy: 0.7409\n",
      "Epoch 6/15\n",
      "84/84 [==============================] - 0s 1ms/step - loss: 0.5935 - accuracy: 0.7731\n",
      "Epoch 7/15\n",
      "84/84 [==============================] - 0s 1ms/step - loss: 0.5447 - accuracy: 0.7937\n",
      "Epoch 8/15\n",
      "84/84 [==============================] - 0s 1ms/step - loss: 0.5162 - accuracy: 0.7952\n",
      "Epoch 9/15\n",
      "84/84 [==============================] - 0s 1ms/step - loss: 0.4603 - accuracy: 0.8263\n",
      "Epoch 10/15\n",
      "84/84 [==============================] - 0s 1ms/step - loss: 0.4614 - accuracy: 0.8203\n",
      "Epoch 11/15\n",
      "84/84 [==============================] - 0s 1ms/step - loss: 0.4156 - accuracy: 0.8428\n",
      "Epoch 12/15\n",
      "84/84 [==============================] - 0s 1ms/step - loss: 0.4056 - accuracy: 0.8371\n",
      "Epoch 13/15\n",
      "84/84 [==============================] - 0s 2ms/step - loss: 0.3693 - accuracy: 0.8514\n",
      "Epoch 14/15\n",
      "84/84 [==============================] - 0s 1ms/step - loss: 0.3887 - accuracy: 0.8428\n",
      "Epoch 15/15\n",
      "84/84 [==============================] - 0s 1ms/step - loss: 0.3612 - accuracy: 0.8596\n",
      "accuracy for fold 2: 0.8892215490341187; f1_macro is 0.7992629408836365\n",
      "Epoch 1/15\n",
      "84/84 [==============================] - 0s 1ms/step - loss: 1.6916 - accuracy: 0.3194\n",
      "Epoch 2/15\n",
      "84/84 [==============================] - 0s 1ms/step - loss: 1.2264 - accuracy: 0.5380\n",
      "Epoch 3/15\n",
      "84/84 [==============================] - 0s 967us/step - loss: 0.9330 - accuracy: 0.6548\n",
      "Epoch 4/15\n",
      "84/84 [==============================] - 0s 1ms/step - loss: 0.7820 - accuracy: 0.7121\n",
      "Epoch 5/15\n",
      "84/84 [==============================] - 0s 954us/step - loss: 0.6754 - accuracy: 0.7405\n",
      "Epoch 6/15\n",
      "84/84 [==============================] - 0s 984us/step - loss: 0.5918 - accuracy: 0.7720\n",
      "Epoch 7/15\n",
      "84/84 [==============================] - 0s 931us/step - loss: 0.5519 - accuracy: 0.7926\n",
      "Epoch 8/15\n",
      "84/84 [==============================] - 0s 970us/step - loss: 0.5181 - accuracy: 0.7956\n",
      "Epoch 9/15\n",
      "84/84 [==============================] - 0s 941us/step - loss: 0.4706 - accuracy: 0.8124\n",
      "Epoch 10/15\n",
      "84/84 [==============================] - 0s 959us/step - loss: 0.4592 - accuracy: 0.8098\n",
      "Epoch 11/15\n",
      "84/84 [==============================] - 0s 977us/step - loss: 0.4323 - accuracy: 0.8304\n",
      "Epoch 12/15\n",
      "84/84 [==============================] - 0s 914us/step - loss: 0.4335 - accuracy: 0.8252\n",
      "Epoch 13/15\n",
      "84/84 [==============================] - 0s 929us/step - loss: 0.3923 - accuracy: 0.8398\n",
      "Epoch 14/15\n",
      "84/84 [==============================] - 0s 957us/step - loss: 0.3818 - accuracy: 0.8476\n",
      "Epoch 15/15\n",
      "84/84 [==============================] - 0s 955us/step - loss: 0.3694 - accuracy: 0.8544\n",
      "accuracy for fold 3: 0.8982036113739014; f1_macro is 0.8387784957885742\n",
      "Epoch 1/15\n",
      "84/84 [==============================] - 0s 974us/step - loss: 1.6228 - accuracy: 0.3662\n",
      "Epoch 2/15\n",
      "84/84 [==============================] - 0s 1ms/step - loss: 1.1853 - accuracy: 0.5915\n",
      "Epoch 3/15\n",
      "84/84 [==============================] - 0s 968us/step - loss: 0.9066 - accuracy: 0.6675\n",
      "Epoch 4/15\n",
      "84/84 [==============================] - 0s 1ms/step - loss: 0.7487 - accuracy: 0.7151\n",
      "Epoch 5/15\n",
      "84/84 [==============================] - 0s 914us/step - loss: 0.6516 - accuracy: 0.7600\n",
      "Epoch 6/15\n",
      "84/84 [==============================] - 0s 983us/step - loss: 0.5730 - accuracy: 0.7915\n",
      "Epoch 7/15\n",
      "84/84 [==============================] - 0s 957us/step - loss: 0.5240 - accuracy: 0.8031\n",
      "Epoch 8/15\n",
      "84/84 [==============================] - 0s 1ms/step - loss: 0.4791 - accuracy: 0.8165\n",
      "Epoch 9/15\n",
      "84/84 [==============================] - 0s 948us/step - loss: 0.4483 - accuracy: 0.8259\n",
      "Epoch 10/15\n",
      "84/84 [==============================] - 0s 964us/step - loss: 0.4258 - accuracy: 0.8379\n",
      "Epoch 11/15\n",
      "84/84 [==============================] - 0s 970us/step - loss: 0.3892 - accuracy: 0.8525\n",
      "Epoch 12/15\n",
      "84/84 [==============================] - 0s 992us/step - loss: 0.3804 - accuracy: 0.8532\n",
      "Epoch 13/15\n",
      "84/84 [==============================] - 0s 963us/step - loss: 0.3505 - accuracy: 0.8615\n",
      "Epoch 14/15\n",
      "84/84 [==============================] - 0s 1ms/step - loss: 0.3368 - accuracy: 0.8742\n",
      "Epoch 15/15\n",
      "84/84 [==============================] - 0s 939us/step - loss: 0.3384 - accuracy: 0.8753\n",
      "accuracy for fold 4: 0.9221556782722473; f1_macro is 0.8842417597770691\n",
      "Epoch 1/15\n",
      "84/84 [==============================] - 0s 1ms/step - loss: 1.6387 - accuracy: 0.3559\n",
      "Epoch 2/15\n",
      "84/84 [==============================] - 0s 1ms/step - loss: 1.1658 - accuracy: 0.5883\n",
      "Epoch 3/15\n",
      "84/84 [==============================] - 0s 986us/step - loss: 0.8460 - accuracy: 0.7073\n",
      "Epoch 4/15\n",
      "84/84 [==============================] - 0s 969us/step - loss: 0.7119 - accuracy: 0.7302\n",
      "Epoch 5/15\n",
      "84/84 [==============================] - 0s 1ms/step - loss: 0.6126 - accuracy: 0.7601\n",
      "Epoch 6/15\n",
      "84/84 [==============================] - 0s 966us/step - loss: 0.5426 - accuracy: 0.7942\n",
      "Epoch 7/15\n",
      "84/84 [==============================] - 0s 926us/step - loss: 0.4887 - accuracy: 0.8121\n",
      "Epoch 8/15\n",
      "84/84 [==============================] - 0s 931us/step - loss: 0.4383 - accuracy: 0.8387\n",
      "Epoch 9/15\n",
      "84/84 [==============================] - 0s 1ms/step - loss: 0.4325 - accuracy: 0.8293\n",
      "Epoch 10/15\n",
      "84/84 [==============================] - 0s 976us/step - loss: 0.3974 - accuracy: 0.8443\n",
      "Epoch 11/15\n",
      "84/84 [==============================] - 0s 979us/step - loss: 0.3846 - accuracy: 0.8481\n",
      "Epoch 12/15\n",
      "84/84 [==============================] - 0s 955us/step - loss: 0.3660 - accuracy: 0.8537\n",
      "Epoch 13/15\n",
      "84/84 [==============================] - 0s 938us/step - loss: 0.3569 - accuracy: 0.8582\n",
      "Epoch 14/15\n",
      "84/84 [==============================] - 0s 909us/step - loss: 0.3379 - accuracy: 0.8705\n",
      "Epoch 15/15\n",
      "84/84 [==============================] - 0s 948us/step - loss: 0.3212 - accuracy: 0.8709\n",
      "accuracy for fold 5: 0.9220389723777771; f1_macro is 0.885050356388092\n"
     ]
    }
   ],
   "source": [
    "num_classes = 6\n",
    "num_features = 30\n",
    "acc_list = {}\n",
    "f1_list = {}\n",
    "train_acc_list = {}\n",
    "fold_no = 1\n",
    "epochs = 15\n",
    "best_id = 1\n",
    "best_acc = 0\n",
    "\n",
    "for train, test in tqdm(kfold.split(train_x, train_y)):\n",
    "    model = tf.keras.Sequential([\n",
    "      tf.keras.Input(shape=train_x.shape[1]),\n",
    "      tf.keras.layers.Dense(32, activation='relu'),\n",
    "      tf.keras.layers.Dropout(0.2),\n",
    "      tf.keras.layers.Dense(32, activation='relu'),\n",
    "      tf.keras.layers.Dropout(0.2),\n",
    "      tf.keras.layers.Dense(num_classes, activation='softmax')\n",
    "  ])\n",
    "    model.compile(optimizer='adam',\n",
    "              loss= tf.keras.losses.SparseCategoricalCrossentropy(),\n",
    "              metrics=['accuracy'])\n",
    "\n",
    "    history = model.fit(\n",
    "      train_x[train],\n",
    "      train_y[train],\n",
    "      epochs=epochs\n",
    "    )\n",
    "    train_acc = history.history['accuracy']\n",
    "    y_pred = model.predict(train_x[test], verbose=0)\n",
    "    # print(y_pred)\n",
    "    y_pred_1 = np.argmax(y_pred, axis = 1)\n",
    "    # print(y_pred_1)\n",
    "    # print(train_y[test])\n",
    "    train_y_1 = np.zeros((train_y[test].size, train_y[test].max()+1))\n",
    "    train_y_1[np.arange(train_y[test].size),train_y[test]] = 1\n",
    "    # print(train_y_1)\n",
    "    f1_metric = tfa.metrics.F1Score(num_classes= num_classes, average = 'macro', threshold=None)\n",
    "    acc_metric = tf.keras.metrics.Accuracy()\n",
    "    acc_metric.update_state(train_y[test], y_pred_1)\n",
    "    acc = acc_metric.result().numpy()\n",
    "    # print(acc)\n",
    "    y_pred_1 = y_pred_1.astype(np.float32)\n",
    "    f1_metric.update_state(train_y_1, y_pred)\n",
    "    f1_macro = f1_metric.result().numpy()\n",
    "    if acc > best_acc:\n",
    "        best_acc = acc\n",
    "        best_id = fold_no\n",
    "    # print(f1_macro)\n",
    "    print(f\"accuracy for fold {fold_no}: {acc}; f1_macro is {f1_macro}\")\n",
    "    acc_list[fold_no] = acc\n",
    "    train_acc_list[fold_no] = train_acc\n",
    "    f1_list[fold_no] = f1_macro\n",
    "    model.save(os.path.join(save_path, f\"mlp_{fold_no}.h5\"))\n",
    "    fold_no += 1\n"
   ]
  },
  {
   "cell_type": "code",
   "execution_count": 63,
   "id": "2fa6fb86-212f-4757-a6ae-0de6065a9421",
   "metadata": {
    "colab": {
     "base_uri": "https://localhost:8080/"
    },
    "id": "AVNVVtNTRwVM",
    "outputId": "79c1d620-6dcd-4a50-caa9-1a9fb437cb2e"
   },
   "outputs": [
    {
     "name": "stdout",
     "output_type": "stream",
     "text": [
      "{1: 0.9041916, 2: 0.88922155, 3: 0.8982036, 4: 0.9221557, 5: 0.922039}\n",
      "{1: 0.85412794, 2: 0.79926294, 3: 0.8387785, 4: 0.88424176, 5: 0.88505036}\n",
      "{1: [0.35043054819107056, 0.5585922598838806, 0.648446261882782, 0.7368026971817017, 0.7517783641815186, 0.789591908454895, 0.8053163886070251, 0.8146761655807495, 0.8378884196281433, 0.8521153330802917, 0.8554848432540894, 0.8644702434539795, 0.8704605102539062, 0.870086133480072, 0.8813178539276123], 2: [0.35904157161712646, 0.6031448841094971, 0.6641707420349121, 0.7143391966819763, 0.7409210205078125, 0.7731186747550964, 0.7937102317810059, 0.7952077984809875, 0.826282262802124, 0.8202919960021973, 0.8427554965019226, 0.8371396660804749, 0.8513665199279785, 0.8427554965019226, 0.8596031665802002], 3: [0.3193560540676117, 0.538000762462616, 0.654810905456543, 0.7120928764343262, 0.7405465841293335, 0.771995484828949, 0.7925870418548584, 0.7955821752548218, 0.8124297857284546, 0.8098090887069702, 0.8304005861282349, 0.8251591324806213, 0.8397603631019592, 0.8476226329803467, 0.8543616533279419], 4: [0.3661549985408783, 0.5915387272834778, 0.6675402522087097, 0.7150880098342896, 0.7600149512290955, 0.7914638519287109, 0.8030700087547302, 0.8165481090545654, 0.8259078860282898, 0.8378884196281433, 0.852489709854126, 0.8532384634017944, 0.8614751100540161, 0.8742043972015381, 0.8753275871276855], 5: [0.3559131622314453, 0.5883233547210693, 0.707335352897644, 0.730164647102356, 0.760104775428772, 0.7941616773605347, 0.8121257424354553, 0.838697612285614, 0.8293412923812866, 0.8443113565444946, 0.8480538725852966, 0.853667676448822, 0.8581587076187134, 0.8705089688301086, 0.8708832263946533]}\n",
      "4\n"
     ]
    }
   ],
   "source": [
    "print(acc_list)\n",
    "print(f1_list)\n",
    "print(train_acc_list)\n",
    "print(best_id)"
   ]
  },
  {
   "cell_type": "code",
   "execution_count": 64,
   "id": "ca906f90-c8b6-482d-b1b2-c07bb8ed20c9",
   "metadata": {
    "colab": {
     "base_uri": "https://localhost:8080/"
    },
    "id": "L60jzIpFRwVM",
    "outputId": "38b12bcc-dedd-4e80-a183-6e544e6c7c3f"
   },
   "outputs": [
    {
     "name": "stdout",
     "output_type": "stream",
     "text": [
      "test accuracy is 0.9029940366744995\n",
      "test f1 macro is 0.8549801707267761\n"
     ]
    }
   ],
   "source": [
    "best_model = tf.keras.models.load_model(os.path.join(save_path, f\"mlp_{best_id}.h5\"))\n",
    "y_pred = best_model.predict(test_x, verbose=0)\n",
    "# print(y_pred)\n",
    "y_pred_1 = np.argmax(y_pred, axis = 1)\n",
    "# print(y_pred_1)\n",
    "# print(train_y[test])\n",
    "train_y_1 = np.zeros((test_y.size, test_y.max()+1))\n",
    "train_y_1[np.arange(test_y.size),test_y] = 1\n",
    "# print(train_y_1)\n",
    "f1_metric = tfa.metrics.F1Score(num_classes= num_classes, average = 'macro', threshold=None)\n",
    "acc_metric = tf.keras.metrics.Accuracy()\n",
    "acc_metric.update_state(test_y, y_pred_1)\n",
    "acc = acc_metric.result().numpy()\n",
    "# print(acc)\n",
    "y_pred_1 = y_pred_1.astype(np.float32)\n",
    "f1_metric.update_state(train_y_1, y_pred)\n",
    "f1_macro = f1_metric.result().numpy()\n",
    "print(f\"test accuracy is {acc}\")\n",
    "print(f\"test f1 macro is {f1_macro}\")"
   ]
  },
  {
   "cell_type": "code",
   "execution_count": 65,
   "id": "b9111e02-27de-4f3c-80eb-2311eefc507e",
   "metadata": {},
   "outputs": [],
   "source": [
    "from mlxtend.evaluate import confusion_matrix\n",
    "from mlxtend.plotting import plot_confusion_matrix"
   ]
  },
  {
   "cell_type": "code",
   "execution_count": 66,
   "id": "a5a331c5-0d97-40b1-8274-d7e416089e6d",
   "metadata": {},
   "outputs": [
    {
     "data": {
      "image/png": "[encoded data removed]",
      "text/plain": [
       "<Figure size 432x288 with 1 Axes>"
      ]
     },
     "metadata": {
      "needs_background": "light"
     },
     "output_type": "display_data"
    }
   ],
   "source": [
    "cm = confusion_matrix(y_target=test_y, \n",
    "                      y_predicted=y_pred_1, \n",
    "                      binary=False)\n",
    "fig, ax = plot_confusion_matrix(conf_mat=cm)\n",
    "plt.show()"
   ]
  },
  {
   "cell_type": "code",
   "execution_count": 67,
   "id": "397a8942-3a0c-478e-a852-1fbb72de7202",
   "metadata": {},
   "outputs": [],
   "source": [
    "test_df_dws = pd.read_csv(\n",
    "    'data/dws_11/sub_1.csv',\n",
    "    usecols = ['attitude.roll','attitude.pitch',\n",
    "               'attitude.yaw','userAcceleration.x',\n",
    "               'userAcceleration.y','userAcceleration.z']\n",
    ")"
   ]
  },
  {
   "cell_type": "code",
   "execution_count": 68,
   "id": "7d80edf1-056d-47d0-9cf2-82d1de4ac785",
   "metadata": {},
   "outputs": [
    {
     "name": "stdout",
     "output_type": "stream",
     "text": [
      "[0]\n",
      "This sample is a downstair motion, it is predicted to :dws\n"
     ]
    }
   ],
   "source": [
    "_test_sample = test_df_dws[0:window]\n",
    "temp_list = []\n",
    "for k in range(feature_n):\n",
    "    means = _test_sample[attributes[k]].mean()\n",
    "    stds = _test_sample[attributes[k]].mean()\n",
    "    mins = _test_sample[attributes[k]].min()\n",
    "    maxs = _test_sample[attributes[k]].max()\n",
    "    mads = _test_sample[attributes[k]].mad()\n",
    "    temp_list.append(means)\n",
    "    temp_list.append(stds)\n",
    "    temp_list.append(mins)\n",
    "    temp_list.append(maxs)\n",
    "    temp_list.append(mads)\n",
    "pred = best_model.predict(np.array( [temp_list,] ) )\n",
    "pred = np.argmax(pred, axis = 1)\n",
    "print(pred)\n",
    "print(f\"This sample is a downstair motion, it is predicted to :{activity_decodes[pred[0]]}\")"
   ]
  },
  {
   "cell_type": "code",
   "execution_count": null,
   "id": "942f5105-3d3b-4f8d-a942-97241500e8ec",
   "metadata": {},
   "outputs": [],
   "source": []
  }
 ],
 "metadata": {
  "kernelspec": {
   "display_name": "Python 3 (ipykernel)",
   "language": "python",
   "name": "python3"
  },
  "language_info": {
   "codemirror_mode": {
    "name": "ipython",
    "version": 3
   },
   "file_extension": ".py",
   "mimetype": "text/x-python",
   "name": "python",
   "nbconvert_exporter": "python",
   "pygments_lexer": "ipython3",
   "version": "3.8.11"
  }
 },
 "nbformat": 4,
 "nbformat_minor": 5
}
