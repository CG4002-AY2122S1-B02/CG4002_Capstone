{
 "cells": [
  {
   "cell_type": "markdown",
   "id": "46fbd36d-5964-4f0c-add3-cccd284995c1",
   "metadata": {},
   "source": [
    "# SVM implementation #"
   ]
  },
  {
   "cell_type": "code",
   "execution_count": 1,
   "id": "c5098d7c-6030-4281-9946-85d13e3fe486",
   "metadata": {
    "id": "48528bad-63dc-4b8e-bbff-48714407e946"
   },
   "outputs": [],
   "source": [
    "import os\n",
    "\n",
    "import numpy as np\n",
    "import pandas as pd\n",
    "from glob import glob\n",
    "import matplotlib.pyplot as plt\n",
    "from tqdm.notebook import tqdm\n",
    "from sklearn.svm import SVC\n",
    "from sklearn.svm import LinearSVC\n",
    "from sklearn.model_selection import GridSearchCV\n",
    "from sklearn.model_selection import cross_validate\n",
    "from sklearn.model_selection import train_test_split\n",
    "from sklearn.model_selection import KFold\n",
    "from sklearn.metrics import f1_score\n",
    "from sklearn.metrics import accuracy_score"
   ]
  },
  {
   "cell_type": "markdown",
   "id": "6f7e0d7e-a4f9-4e15-8211-13a6dc182fcc",
   "metadata": {
    "id": "e47ef09e-3862-40e8-a1c1-144ff6ff4b5b"
   },
   "source": [
    "# Load Dateset #"
   ]
  },
  {
   "cell_type": "code",
   "execution_count": 2,
   "id": "5e730a96-9c0c-4518-becb-8ecdcdfa71bb",
   "metadata": {
    "colab": {
     "base_uri": "https://localhost:8080/"
    },
    "id": "SVZcOGg14eba",
    "outputId": "c5120cad-cffe-49f2-b6af-d8dce43be321"
   },
   "outputs": [],
   "source": [
    "# from google.colab import drive\n",
    "# drive.mount('/content/drive')"
   ]
  },
  {
   "cell_type": "code",
   "execution_count": 3,
   "id": "4bf5c501-a576-4514-9749-1a3e104094cd",
   "metadata": {
    "colab": {
     "base_uri": "https://localhost:8080/"
    },
    "id": "321b0b55-12fe-4b2e-8f72-39169c854e6e",
    "outputId": "2b5fed55-973e-4dc8-97f8-d4f1c8a4cbfc"
   },
   "outputs": [
    {
     "name": "stdout",
     "output_type": "stream",
     "text": [
      "['dws_11', 'ups_12', '.DS_Store', 'wlk_7', 'std_14', 'wlk_15', 'wlk_8', 'dws_2', 'sit_13', 'jog_9', 'ups_3', 'ups_4', 'jog_16', 'dws_1', 'sit_5', 'std_6']\n"
     ]
    }
   ],
   "source": [
    "#data_path = '/content/drive/MyDrive/motionsense_dataset'\n",
    "data_path = os.path.join(os.getcwd(), 'data')\n",
    "save_path = os.path.join(os.getcwd(), 'temp_models')\n",
    "print(os.listdir(data_path))"
   ]
  },
  {
   "cell_type": "code",
   "execution_count": 4,
   "id": "ac28a2f6-96dd-4926-bd42-b4efb2f76564",
   "metadata": {
    "colab": {
     "base_uri": "https://localhost:8080/"
    },
    "id": "6ULrw4SOcmGq",
    "outputId": "e9b9b20f-867d-4b4f-891f-d9aa31238889"
   },
   "outputs": [
    {
     "name": "stdout",
     "output_type": "stream",
     "text": [
      "['/Users/apple/Desktop/CG4002_Capstone/ML/data/dws_11', '/Users/apple/Desktop/CG4002_Capstone/ML/data/ups_12', '/Users/apple/Desktop/CG4002_Capstone/ML/data/wlk_7', '/Users/apple/Desktop/CG4002_Capstone/ML/data/std_14', '/Users/apple/Desktop/CG4002_Capstone/ML/data/wlk_15', '/Users/apple/Desktop/CG4002_Capstone/ML/data/wlk_8', '/Users/apple/Desktop/CG4002_Capstone/ML/data/dws_2', '/Users/apple/Desktop/CG4002_Capstone/ML/data/sit_13', '/Users/apple/Desktop/CG4002_Capstone/ML/data/jog_9', '/Users/apple/Desktop/CG4002_Capstone/ML/data/ups_3', '/Users/apple/Desktop/CG4002_Capstone/ML/data/ups_4', '/Users/apple/Desktop/CG4002_Capstone/ML/data/jog_16', '/Users/apple/Desktop/CG4002_Capstone/ML/data/dws_1', '/Users/apple/Desktop/CG4002_Capstone/ML/data/sit_5', '/Users/apple/Desktop/CG4002_Capstone/ML/data/std_6']\n"
     ]
    }
   ],
   "source": [
    "folders = glob(os.path.join(data_path,'*_*'))\n",
    "folders = [s for s in folders if (\"csv\" not in s) or (\".DS_Store\" not in s) or (\".ipynb\" not in s)]\n",
    "df_all_list = []\n",
    "activity_codes = {'dws':0,'jog':1,'sit':2,'std':3,'ups':4,'wlk':5}\n",
    "activity_decodes = {0:'dws',1:'jog',2:'sit',3:'std',4:'ups',5:'wlk'}\n",
    "usr_cols = ['attitude.roll','attitude.pitch','attitude.yaw','userAcceleration.x','userAcceleration.y','userAcceleration.z']\n",
    "activity_types = list(activity_codes.keys())\n",
    "print(folders)"
   ]
  },
  {
   "cell_type": "markdown",
   "id": "1af1893b-e495-4541-8cd9-8a9a29c5c4ea",
   "metadata": {
    "id": "A4HzhjE7_xf5"
   },
   "source": [
    "# SVM: Feature Extraction, Train and Test #"
   ]
  },
  {
   "cell_type": "code",
   "execution_count": 84,
   "id": "dbb8dbea-399d-43fd-9e00-a1eaa392514c",
   "metadata": {
    "colab": {
     "background_save": true
    },
    "id": "FZXoXJu9bU52",
    "outputId": "28f74290-ea86-413f-ca85-6d4d1cd52de1"
   },
   "outputs": [
    {
     "name": "stdout",
     "output_type": "stream",
     "text": [
      "(4174, 30)\n",
      "(4174,)\n"
     ]
    }
   ],
   "source": [
    "#For non NN model, e.x. SVM\n",
    "#Window size 500, as still\n",
    "window = 600\n",
    "feature_n = 6\n",
    "attributes = ['attitude.roll', 'attitude.pitch', 'attitude.yaw','userAcceleration.x','userAcceleration.y','userAcceleration.z']\n",
    "data_all_x_list = []\n",
    "data_all_y_list = []\n",
    "for j in folders:\n",
    "    csv_list = glob(j + '/*')\n",
    "    label = j.split('/')[-1].split('_')[0]\n",
    "    for i in csv_list:\n",
    "        df = pd.read_csv(i, usecols = ['attitude.roll', 'attitude.pitch', 'attitude.yaw','userAcceleration.x','userAcceleration.y','userAcceleration.z'])\n",
    "        win_count = int(df.shape[0] / (window / 2)) - 1\n",
    "        data_x = np.zeros((win_count, df.shape[1] * 5))\n",
    "        data_y = np.zeros(win_count)\n",
    "\n",
    "        length = len(df)\n",
    "        for c in range(win_count):\n",
    "            start_idx = int(c * (window / 2))\n",
    "            end_idx = start_idx + window\n",
    "            temp_list = []\n",
    "            for k in range(feature_n):\n",
    "                means = df[start_idx:end_idx][attributes[k]].mean()\n",
    "                stds = df[start_idx:end_idx][attributes[k]].mean()\n",
    "                mins = df[start_idx:end_idx][attributes[k]].min()\n",
    "                maxs = df[start_idx:end_idx][attributes[k]].max()\n",
    "                mads = df[start_idx:end_idx][attributes[k]].mad()\n",
    "                temp_list.append(means)\n",
    "                temp_list.append(stds)\n",
    "                temp_list.append(mins)\n",
    "                temp_list.append(maxs)\n",
    "                temp_list.append(mads)\n",
    "            #temp_list = np.concatenate(temp_list, axis = 0)\n",
    "            data_x[c] = temp_list\n",
    "            data_y[c] = activity_codes[label]\n",
    "#         print(data_x.shape)\n",
    "#         sys.exit(0)\n",
    "        data_all_x_list.append(data_x)\n",
    "        data_all_y_list.append(data_y)\n",
    "data_all_x = np.concatenate(data_all_x_list,axis=0)\n",
    "data_all_y = np.concatenate(data_all_y_list,axis=0)\n",
    "data_all_y = data_all_y.astype(int)\n",
    "print(data_all_x.shape)\n",
    "print(data_all_y.shape)"
   ]
  },
  {
   "cell_type": "code",
   "execution_count": 85,
   "id": "ccac9438-53e4-4dd8-ad1f-3bb726170bec",
   "metadata": {
    "colab": {
     "background_save": true
    },
    "id": "aRhb0gFFEoK7",
    "outputId": "f60abb12-7712-4f87-b71b-0e65fb81c0f9"
   },
   "outputs": [],
   "source": [
    "# print(\"Num GPUs Available: \", len(tf.config.list_physical_devices('GPU')))"
   ]
  },
  {
   "cell_type": "code",
   "execution_count": 86,
   "id": "bc8aa407-e215-4e07-96c9-fd0a1c6b4942",
   "metadata": {
    "colab": {
     "background_save": true
    },
    "id": "muowIR1FFgo1",
    "outputId": "c85332ac-c0d3-4d9c-8b09-29eb31e5c9a1"
   },
   "outputs": [
    {
     "name": "stdout",
     "output_type": "stream",
     "text": [
      "3339 835\n"
     ]
    }
   ],
   "source": [
    "train_x,test_x,train_y,test_y = train_test_split(data_all_x,data_all_y,test_size=0.2)\n",
    "assert(len(train_x) == len(train_y))\n",
    "assert(len(test_x) == len(test_y))\n",
    "print(len(train_x), len(test_x))"
   ]
  },
  {
   "cell_type": "code",
   "execution_count": 87,
   "id": "e5639995-e0cc-4d8d-8280-b4861a3aef62",
   "metadata": {
    "colab": {
     "background_save": true
    },
    "id": "10-OUTVNHPw9",
    "outputId": "dfffc1ff-8a1e-4c9a-d1a5-410c479ab0a7"
   },
   "outputs": [
    {
     "name": "stderr",
     "output_type": "stream",
     "text": [
      "/Users/apple/opt/anaconda3/envs/orion/lib/python3.8/site-packages/sklearn/svm/_base.py:985: ConvergenceWarning: Liblinear failed to converge, increase the number of iterations.\n",
      "  warnings.warn(\"Liblinear failed to converge, increase \"\n",
      "/Users/apple/opt/anaconda3/envs/orion/lib/python3.8/site-packages/sklearn/svm/_base.py:985: ConvergenceWarning: Liblinear failed to converge, increase the number of iterations.\n",
      "  warnings.warn(\"Liblinear failed to converge, increase \"\n",
      "/Users/apple/opt/anaconda3/envs/orion/lib/python3.8/site-packages/sklearn/svm/_base.py:985: ConvergenceWarning: Liblinear failed to converge, increase the number of iterations.\n",
      "  warnings.warn(\"Liblinear failed to converge, increase \"\n",
      "/Users/apple/opt/anaconda3/envs/orion/lib/python3.8/site-packages/sklearn/svm/_base.py:985: ConvergenceWarning: Liblinear failed to converge, increase the number of iterations.\n",
      "  warnings.warn(\"Liblinear failed to converge, increase \"\n",
      "/Users/apple/opt/anaconda3/envs/orion/lib/python3.8/site-packages/sklearn/svm/_base.py:985: ConvergenceWarning: Liblinear failed to converge, increase the number of iterations.\n",
      "  warnings.warn(\"Liblinear failed to converge, increase \"\n"
     ]
    }
   ],
   "source": [
    "scoring = ['f1_macro', 'accuracy']\n",
    "clf = LinearSVC(C=1, multi_class = 'ovr', random_state=0)\n",
    "scores = cross_validate(clf, train_x, train_y, scoring=scoring,cv = None, return_estimator = True, return_train_score= True)"
   ]
  },
  {
   "cell_type": "code",
   "execution_count": 88,
   "id": "5e7ffa6b-f0b1-411a-a8c0-7ee79864ff56",
   "metadata": {
    "colab": {
     "background_save": true
    },
    "id": "hzFdLhUlJeRK",
    "outputId": "ee1a27d7-affa-4d65-e48b-ac22e17d4ac5"
   },
   "outputs": [
    {
     "name": "stdout",
     "output_type": "stream",
     "text": [
      "dict_keys(['fit_time', 'score_time', 'estimator', 'test_f1_macro', 'train_f1_macro', 'test_accuracy', 'train_accuracy'])\n",
      "Best epoch validation accuracy: 0.9670658682634731\n",
      "Best epoch validation f1_macro: 0.9498390868221022\n",
      "Best epoch training accuracy: 0.9640718562874252\n",
      "Best epoch training f1_macro: 0.9452430931188966\n",
      "Best epoch training accuracy occur at : 4\n"
     ]
    }
   ],
   "source": [
    "print(scores.keys())\n",
    "print(f\"Best epoch validation accuracy: {max(scores['test_accuracy'])}\")\n",
    "print(f\"Best epoch validation f1_macro: {max(scores['test_f1_macro'])}\")\n",
    "print(f\"Best epoch training accuracy: {max(scores['train_accuracy'])}\")\n",
    "print(f\"Best epoch training f1_macro: {max(scores['train_f1_macro'])}\")\n",
    "best_estimator = np.argmax(scores['train_accuracy'])\n",
    "print(f\"Best epoch training accuracy occur at : {best_estimator}\")"
   ]
  },
  {
   "cell_type": "code",
   "execution_count": 89,
   "id": "f18e4efb-a900-4831-a112-0d539b18afdf",
   "metadata": {
    "colab": {
     "background_save": true
    },
    "id": "-WjnEQC0MOoi",
    "outputId": "4414ebd1-4e63-46fc-a2d9-fe4af9c47e09"
   },
   "outputs": [
    {
     "name": "stdout",
     "output_type": "stream",
     "text": [
      "test_accuracy is 0.9508982035928144\n",
      "test_f1_macro is 0.930891621331289\n"
     ]
    }
   ],
   "source": [
    "pred_test_y = scores['estimator'][best_estimator].predict(test_x)\n",
    "test_accuracy = accuracy_score(test_y, pred_test_y)\n",
    "test_f1_macro = f1_score(test_y, pred_test_y, average = 'macro')\n",
    "print(f\"test_accuracy is {test_accuracy}\")\n",
    "print(f\"test_f1_macro is {test_f1_macro}\")"
   ]
  },
  {
   "cell_type": "code",
   "execution_count": 90,
   "id": "85d205d0-828b-4ead-9208-2c8c297d9583",
   "metadata": {
    "colab": {
     "background_save": true
    },
    "id": "pLYT-C9kP7BV",
    "outputId": "508a74a4-c4a0-40ed-fbd9-6afeb495d23a"
   },
   "outputs": [
    {
     "name": "stdout",
     "output_type": "stream",
     "text": [
      "number of epochs trained : 5\n"
     ]
    }
   ],
   "source": [
    "print(f\"number of epochs trained : {len(scores['test_accuracy'])}\")"
   ]
  },
  {
   "cell_type": "code",
   "execution_count": 91,
   "id": "3aae0045-164b-42b9-975e-659e26b8062f",
   "metadata": {},
   "outputs": [],
   "source": [
    "from mlxtend.evaluate import confusion_matrix\n",
    "from mlxtend.plotting import plot_confusion_matrix"
   ]
  },
  {
   "cell_type": "code",
   "execution_count": 92,
   "id": "2c84ed47-ed4e-47e0-9832-fefd293ee576",
   "metadata": {},
   "outputs": [
    {
     "data": {
      "image/png": "[encoded data removed]",
      "text/plain": [
       "<Figure size 432x288 with 1 Axes>"
      ]
     },
     "metadata": {
      "needs_background": "light"
     },
     "output_type": "display_data"
    }
   ],
   "source": [
    "cm = confusion_matrix(y_target=test_y, \n",
    "                      y_predicted=pred_test_y, \n",
    "                      binary=False)\n",
    "fig, ax = plot_confusion_matrix(conf_mat=cm)\n",
    "plt.show()"
   ]
  },
  {
   "cell_type": "code",
   "execution_count": 93,
   "id": "6adcc4a8-d370-4e1d-9921-08fd595ea16b",
   "metadata": {},
   "outputs": [],
   "source": [
    "test_df_dws = pd.read_csv(\n",
    "    'data/dws_11/sub_1.csv',\n",
    "    usecols = ['attitude.roll','attitude.pitch',\n",
    "               'attitude.yaw','userAcceleration.x',\n",
    "               'userAcceleration.y','userAcceleration.z']\n",
    ")"
   ]
  },
  {
   "cell_type": "code",
   "execution_count": 94,
   "id": "60a76173-718e-4ff7-b173-f2462c57a8f4",
   "metadata": {},
   "outputs": [
    {
     "name": "stdout",
     "output_type": "stream",
     "text": [
      "[0]\n",
      "This sample is a downstair motion, it is predicted to :dws\n"
     ]
    }
   ],
   "source": [
    "_test_sample = test_df_dws[0:window]\n",
    "temp_list = []\n",
    "for k in range(feature_n):\n",
    "    means = _test_sample[attributes[k]].mean()\n",
    "    stds = _test_sample[attributes[k]].mean()\n",
    "    mins = _test_sample[attributes[k]].min()\n",
    "    maxs = _test_sample[attributes[k]].max()\n",
    "    mads = _test_sample[attributes[k]].mad()\n",
    "    temp_list.append(means)\n",
    "    temp_list.append(stds)\n",
    "    temp_list.append(mins)\n",
    "    temp_list.append(maxs)\n",
    "    temp_list.append(mads)\n",
    "pred = scores['estimator'][best_estimator].predict(np.array( [temp_list,] ) )\n",
    "print(pred)\n",
    "print(f\"This sample is a downstair motion, it is predicted to :{activity_decodes[pred[0]]}\")"
   ]
  },
  {
   "cell_type": "code",
   "execution_count": 95,
   "id": "da3bcdb5-31a7-48f7-b2be-c90e040078b6",
   "metadata": {},
   "outputs": [
    {
     "data": {
      "image/png": "[encoded data removed]",
      "text/plain": [
       "<Figure size 432x288 with 1 Axes>"
      ]
     },
     "metadata": {
      "needs_background": "light"
     },
     "output_type": "display_data"
    }
   ],
   "source": [
    "window_length_list = [6,7,8,9,10,11,12,13,14]\n",
    "accuracy_list = [0.947, 0.944, 0.940,0.936 , 0.936, 0.954,0.963,0.954, 0.950]\n",
    "f1_score_list =[0.928, 0.922, 0.914 ,0.917 , 0.911, 0.940, 0.947,0.934,0.925]\n",
    "\n",
    "fig, ax = plt.subplots()\n",
    "ax.plot(window_length_list, accuracy_list, label = 'accuracy')\n",
    "ax.plot(window_length_list, f1_score_list, label = 'f1 score')\n",
    "\n",
    "ax.set(xlabel='Window length / Seconds', ylabel='Score',\n",
    "       title='Accuracy and F1 score against window length')\n",
    "ax.grid()\n",
    "plt.legend()\n",
    "\n",
    "plt.show()"
   ]
  },
  {
   "cell_type": "code",
   "execution_count": null,
   "id": "0bfe9441-74f8-43da-8daf-07ffc2c60667",
   "metadata": {},
   "outputs": [],
   "source": []
  }
 ],
 "metadata": {
  "kernelspec": {
   "display_name": "Python 3 (ipykernel)",
   "language": "python",
   "name": "python3"
  },
  "language_info": {
   "codemirror_mode": {
    "name": "ipython",
    "version": 3
   },
   "file_extension": ".py",
   "mimetype": "text/x-python",
   "name": "python",
   "nbconvert_exporter": "python",
   "pygments_lexer": "ipython3",
   "version": "3.8.11"
  }
 },
 "nbformat": 4,
 "nbformat_minor": 5
}
