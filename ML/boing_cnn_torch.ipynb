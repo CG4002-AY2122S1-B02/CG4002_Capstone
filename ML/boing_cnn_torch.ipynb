{
 "cells": [
  {
   "cell_type": "markdown",
   "id": "c8907769-e577-44ba-b40d-90e29a873754",
   "metadata": {},
   "source": [
    "# CNN Implementation #"
   ]
  },
  {
   "cell_type": "code",
   "execution_count": 1,
   "id": "c50f5309-a696-4474-b03f-e5b639937764",
   "metadata": {
    "colab": {
     "base_uri": "https://localhost:8080/"
    },
    "id": "uklW6YXii4Y_",
    "outputId": "03799db8-6801-439d-96d4-4ead06220df8"
   },
   "outputs": [],
   "source": [
    "# pip install tensorflow-addons"
   ]
  },
  {
   "cell_type": "code",
   "execution_count": 9,
   "id": "ff6ef680-442c-4733-bf5b-09d3ca331f6f",
   "metadata": {
    "id": "48528bad-63dc-4b8e-bbff-48714407e946"
   },
   "outputs": [],
   "source": [
    "import os\n",
    "\n",
    "import numpy as np\n",
    "import pandas as pd\n",
    "from glob import glob\n",
    "import matplotlib.pyplot as plt\n",
    "# import tensorflow as tf\n",
    "# import tensorflow_addons as tfa\n",
    "# from tensorflow.keras import layers\n",
    "from tqdm.notebook import tqdm\n",
    "# from sklearn.svm import SVC\n",
    "# from sklearn.svm import LinearSVC\n",
    "# from sklearn.model_selection import GridSearchCV\n",
    "# from sklearn.model_selection import cross_validate\n",
    "from sklearn.model_selection import train_test_split\n",
    "# from sklearn.model_selection import KFold\n",
    "# from sklearn.metrics import f1_score\n",
    "# from sklearn.metrics import accuracy_score\n",
    "import torch\n",
    "import torch.nn as nn\n",
    "import torch.optim as optim\n",
    "from torch.utils.data import Dataset, DataLoader\n",
    "from torch.autograd import Variable\n",
    "from torch.nn import Linear, ReLU, CrossEntropyLoss, Sequential, Conv2d, MaxPool2d, Module, Softmax, BatchNorm2d, Dropout\n",
    "from torch.optim import Adam, SGD"
   ]
  },
  {
   "cell_type": "markdown",
   "id": "6caf79a9-3bf9-43b6-81fc-745dcc1bc4a8",
   "metadata": {
    "id": "e47ef09e-3862-40e8-a1c1-144ff6ff4b5b"
   },
   "source": [
    "# Load Dateset #"
   ]
  },
  {
   "cell_type": "code",
   "execution_count": 2,
   "id": "8f29c393-7ecc-4e7d-9a3c-a7dcfdf1dba9",
   "metadata": {
    "colab": {
     "base_uri": "https://localhost:8080/"
    },
    "id": "SVZcOGg14eba",
    "outputId": "c5120cad-cffe-49f2-b6af-d8dce43be321"
   },
   "outputs": [],
   "source": [
    "# from google.colab import drive\n",
    "# drive.mount('/content/drive')"
   ]
  },
  {
   "cell_type": "code",
   "execution_count": 3,
   "id": "028ef518-a0ff-4293-bcf2-345e06727225",
   "metadata": {
    "colab": {
     "base_uri": "https://localhost:8080/"
    },
    "id": "321b0b55-12fe-4b2e-8f72-39169c854e6e",
    "outputId": "2b5fed55-973e-4dc8-97f8-d4f1c8a4cbfc"
   },
   "outputs": [
    {
     "name": "stdout",
     "output_type": "stream",
     "text": [
      "['dws_11', 'ups_12', '.DS_Store', 'wlk_7', 'std_14', 'wlk_15', 'wlk_8', 'dws_2', 'sit_13', 'jog_9', 'ups_3', 'ups_4', 'jog_16', 'dws_1', 'sit_5', 'std_6']\n"
     ]
    }
   ],
   "source": [
    "#data_path = '/content/drive/MyDrive/motionsense_dataset'\n",
    "data_path = os.path.join(os.getcwd(), 'data')\n",
    "print(os.listdir(data_path))"
   ]
  },
  {
   "cell_type": "code",
   "execution_count": 4,
   "id": "73fc057d-2d45-4c9c-a75d-2e92db4e51f2",
   "metadata": {
    "colab": {
     "base_uri": "https://localhost:8080/"
    },
    "id": "6ULrw4SOcmGq",
    "outputId": "e9b9b20f-867d-4b4f-891f-d9aa31238889"
   },
   "outputs": [
    {
     "name": "stdout",
     "output_type": "stream",
     "text": [
      "['/Users/apple/Desktop/CG4002_Capstone/ML/data/dws_11', '/Users/apple/Desktop/CG4002_Capstone/ML/data/ups_12', '/Users/apple/Desktop/CG4002_Capstone/ML/data/wlk_7', '/Users/apple/Desktop/CG4002_Capstone/ML/data/std_14', '/Users/apple/Desktop/CG4002_Capstone/ML/data/wlk_15', '/Users/apple/Desktop/CG4002_Capstone/ML/data/wlk_8', '/Users/apple/Desktop/CG4002_Capstone/ML/data/dws_2', '/Users/apple/Desktop/CG4002_Capstone/ML/data/sit_13', '/Users/apple/Desktop/CG4002_Capstone/ML/data/jog_9', '/Users/apple/Desktop/CG4002_Capstone/ML/data/ups_3', '/Users/apple/Desktop/CG4002_Capstone/ML/data/ups_4', '/Users/apple/Desktop/CG4002_Capstone/ML/data/jog_16', '/Users/apple/Desktop/CG4002_Capstone/ML/data/dws_1', '/Users/apple/Desktop/CG4002_Capstone/ML/data/sit_5', '/Users/apple/Desktop/CG4002_Capstone/ML/data/std_6']\n"
     ]
    }
   ],
   "source": [
    "folders = glob(os.path.join(data_path,'*_*'))\n",
    "folders = [s for s in folders if (\"csv\" not in s) or (\".DS_Store\" not in s) or (\".ipynb\" not in s)]\n",
    "df_all_list = []\n",
    "activity_codes = {'dws':0,'jog':1,'sit':2,'std':3,'ups':4,'wlk':5}\n",
    "activity_decodes = {0:'dws',1:'jog',2:'sit',3:'std',4:'ups',5:'wlk'}\n",
    "activity_types = list(activity_codes.keys())\n",
    "print(folders)"
   ]
  },
  {
   "cell_type": "markdown",
   "id": "4a0482e6-ad35-49f2-8d6b-17421ad06efe",
   "metadata": {
    "id": "22985873-1a02-43c4-a7bc-02249605dc7c"
   },
   "source": [
    "# CNN/MLP: Feature extraction, Train and Test ##\n",
    "\n",
    "There are 24 data objects (people) performing motions. 6 different labels, each has different trials depending on time interval. \n",
    "We should get 24 * 15 = 360 such samples.\n",
    "\n",
    "\n",
    "Long trials: those with number 1 to 9 with around 2 to 3 minutes duration.\n",
    "Short trials: those with number 11 to 16 that are around 30 seconds to 1 minutes duration.\n",
    "\n",
    "Sample rate is 50 Hz, this means a 2s window should have 100 samples?"
   ]
  },
  {
   "cell_type": "code",
   "execution_count": 5,
   "id": "01bf53ba-2a30-4625-bad6-1023ac6175dd",
   "metadata": {
    "colab": {
     "base_uri": "https://localhost:8080/"
    },
    "id": "8d130d9d-b0c6-4440-9fad-f5891084c703",
    "outputId": "9507c3d6-df78-4ced-ed5d-f9b0b8a0bf1c"
   },
   "outputs": [
    {
     "name": "stdout",
     "output_type": "stream",
     "text": [
      "(5102, 500, 6)\n",
      "(5102,)\n"
     ]
    }
   ],
   "source": [
    "# window size is 10 s, sample rate 50 Hz\n",
    "# Sliding window, without Feature extraction nor low pass filter, for CNN only (dirrectly fits data in CNN)\n",
    "window = 500\n",
    "data_all_x_list = []\n",
    "data_all_y_list = []\n",
    "for j in folders:\n",
    "    csv_list = glob(j + '/*')\n",
    "    label = j.split('/')[-1].split('_')[0]\n",
    "    # trial_number = int(j.split('/')[-1].split('_')[1])\n",
    "    # print(label, trial_number)\n",
    "    for i in csv_list:\n",
    "        df = pd.read_csv(i, usecols = ['attitude.roll', 'attitude.pitch', 'attitude.yaw','userAcceleration.x','userAcceleration.y','userAcceleration.z'])\n",
    "        win_count = int(df.shape[0] / (window / 2)) - 1\n",
    "        data_x = np.zeros((win_count, window, df.shape[1]))\n",
    "        data_y = np.zeros(win_count)\n",
    "\n",
    "        length = len(df)\n",
    "        for c in range(win_count):\n",
    "            start_idx = int(c * (window / 2))\n",
    "            end_idx = start_idx + window\n",
    "            data_x[c,:,:] = df[start_idx:end_idx].values\n",
    "            data_y[:] = activity_codes[label]\n",
    "#         print(data_x.shape)\n",
    "#         sys.exit(0)\n",
    "        data_all_x_list.append(data_x)\n",
    "        data_all_y_list.append(data_y)\n",
    "data_all_x = np.concatenate(data_all_x_list,axis=0)\n",
    "data_all_y = np.concatenate(data_all_y_list,axis=0)\n",
    "data_all_y = data_all_y.astype(int)\n",
    "print(data_all_x.shape)\n",
    "print(data_all_y.shape)"
   ]
  },
  {
   "cell_type": "code",
   "execution_count": 6,
   "id": "04c8883a-9675-4c48-a39b-9dc29c4cbd25",
   "metadata": {
    "colab": {
     "base_uri": "https://localhost:8080/"
    },
    "id": "K_k1gRcBM6Up",
    "outputId": "6d82a22b-b313-4777-c1d7-0f5166ae3b3f"
   },
   "outputs": [
    {
     "name": "stdout",
     "output_type": "stream",
     "text": [
      "(5102, 30)\n",
      "(5102,)\n"
     ]
    }
   ],
   "source": [
    "#Feature extraction for NN model e.x. MLP\n",
    "window = 500\n",
    "feature_n = 6\n",
    "attributes = ['attitude.roll', 'attitude.pitch', 'attitude.yaw','userAcceleration.x','userAcceleration.y','userAcceleration.z']\n",
    "data_all_x_list = []\n",
    "data_all_y_list = []\n",
    "for j in folders:\n",
    "    csv_list = glob(j + '/*')\n",
    "    label = j.split('/')[-1].split('_')[0]\n",
    "    for i in csv_list:\n",
    "        df = pd.read_csv(\n",
    "            i,\n",
    "            usecols = ['attitude.roll','attitude.pitch',\n",
    "                       'attitude.yaw','userAcceleration.x',\n",
    "                       'userAcceleration.y','userAcceleration.z']\n",
    "         )\n",
    "        win_count = int(df.shape[0] / (window / 2)) - 1\n",
    "        data_x = np.zeros((win_count, df.shape[1] * 5))\n",
    "        data_y = np.zeros(win_count)\n",
    "\n",
    "        length = len(df)\n",
    "        for c in range(win_count):\n",
    "            start_idx = int(c * (window / 2))\n",
    "            end_idx = start_idx + window\n",
    "            temp_list = []\n",
    "            for k in range(feature_n):\n",
    "                means = df[start_idx:end_idx][attributes[k]].mean()\n",
    "                stds = df[start_idx:end_idx][attributes[k]].mean()\n",
    "                mins = df[start_idx:end_idx][attributes[k]].min()\n",
    "                maxs = df[start_idx:end_idx][attributes[k]].max()\n",
    "                mads = df[start_idx:end_idx][attributes[k]].mad()\n",
    "                temp_list.append(means)\n",
    "                temp_list.append(stds)\n",
    "                temp_list.append(mins)\n",
    "                temp_list.append(maxs)\n",
    "                temp_list.append(mads)\n",
    "            data_x[c] = temp_list\n",
    "            data_y[c] = activity_codes[label]\n",
    "\n",
    "        data_all_x_list.append(data_x)\n",
    "        data_all_y_list.append(data_y)\n",
    "data_all_x = np.concatenate(data_all_x_list,axis=0)\n",
    "data_all_y = np.concatenate(data_all_y_list,axis=0)\n",
    "data_all_y = data_all_y.astype(int)\n",
    "print(data_all_x.shape)\n",
    "print(data_all_y.shape)"
   ]
  },
  {
   "cell_type": "markdown",
   "id": "c7ee1078-360d-4a6d-afbd-94e3245e9572",
   "metadata": {
    "id": "_w5zBdEyP7BS"
   },
   "source": [
    "## CNN Train & Test ##"
   ]
  },
  {
   "cell_type": "code",
   "execution_count": null,
   "id": "7a00846a-936e-4f21-a5e2-bbff3c7c7837",
   "metadata": {
    "colab": {
     "base_uri": "https://localhost:8080/"
    },
    "id": "FyN0MGvaP7BS",
    "outputId": "4f357cf2-1afe-47c9-f40c-b17ab204f712"
   },
   "outputs": [
    {
     "name": "stdout",
     "output_type": "stream",
     "text": [
      "Num GPUs Available:  1\n"
     ]
    }
   ],
   "source": [
    "# print(\"Num GPUs Available: \", len(tf.config.list_physical_devices('GPU')))"
   ]
  },
  {
   "cell_type": "code",
   "execution_count": 8,
   "id": "31fc2b76-d296-417b-a3e2-db0a6000ead2",
   "metadata": {
    "colab": {
     "base_uri": "https://localhost:8080/"
    },
    "id": "Y0KZZTB0P7BT",
    "outputId": "e54043d8-7bc2-444e-ec23-d58afe9c813c"
   },
   "outputs": [
    {
     "name": "stdout",
     "output_type": "stream",
     "text": [
      "3672 1021 409\n"
     ]
    }
   ],
   "source": [
    "train_x_temp,test_x,train_y_temp,test_y = train_test_split(data_all_x,data_all_y,test_size=0.2)\n",
    "train_x,val_x,train_y,val_y = train_test_split(train_x_temp,train_y_temp,test_size=0.1)\n",
    "assert(len(train_x) == len(train_y))\n",
    "print(len(train_x), len(test_x),len(val_x))"
   ]
  },
  {
   "cell_type": "code",
   "execution_count": null,
   "id": "4a1e5ad8-72bc-453b-8e59-78904722135e",
   "metadata": {},
   "outputs": [],
   "source": [
    "#custom dataset\n",
    "class _Dataset(Dataset):\n",
    "    def __init__(self, dat):\n",
    "        self.dat = dat\n",
    "        \n",
    "    def __len__(self):\n",
    "        return len(self.dat)\n",
    "    \n",
    "    def __getitem__(self,idx):\n",
    "        return self.dat[idx]\n",
    "\n",
    "class cnn(Module):   \n",
    "    def __init__(self):\n",
    "        super(Net, self).__init__()\n",
    "\n",
    "        self.cnn_layers = Sequential(\n",
    "            # Defining a 2D convolution layer\n",
    "            Conv2d(1, 4, kernel_size=3, stride=1, padding=1),\n",
    "            BatchNorm2d(4),\n",
    "            ReLU(inplace=True),\n",
    "            MaxPool2d(kernel_size=2, stride=2),\n",
    "            # Defining another 2D convolution layer\n",
    "            Conv2d(4, 4, kernel_size=3, stride=1, padding=1),\n",
    "            BatchNorm2d(4),\n",
    "            ReLU(inplace=True),\n",
    "            MaxPool2d(kernel_size=2, stride=2),\n",
    "        )\n",
    "\n",
    "        self.linear_layers = Sequential(\n",
    "            Linear(4 * 7 * 7, 10)\n",
    "        )\n",
    "\n",
    "    # Defining the forward pass    \n",
    "    def forward(self, x):\n",
    "        x = self.cnn_layers(x)\n",
    "        x = x.view(x.size(0), -1)\n",
    "        x = self.linear_layers(x)\n",
    "        return x"
   ]
  }
 ],
 "metadata": {
  "kernelspec": {
   "display_name": "Python 3 (ipykernel)",
   "language": "python",
   "name": "python3"
  },
  "language_info": {
   "codemirror_mode": {
    "name": "ipython",
    "version": 3
   },
   "file_extension": ".py",
   "mimetype": "text/x-python",
   "name": "python",
   "nbconvert_exporter": "python",
   "pygments_lexer": "ipython3",
   "version": "3.8.11"
  }
 },
 "nbformat": 4,
 "nbformat_minor": 5
}
